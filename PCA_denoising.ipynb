{
 "cells": [
  {
   "cell_type": "markdown",
   "metadata": {},
   "source": [
    "# Image compression using Principal Component Analysis\n",
    "\n",
    "JMA May 2024"
   ]
  },
  {
   "cell_type": "code",
   "execution_count": 26,
   "metadata": {},
   "outputs": [],
   "source": [
    "%matplotlib inline\n",
    "# utils\n",
    "import os, re, math\n",
    "\n",
    "# numbers\n",
    "import numpy as np\n",
    "import numpy.random as rn\n",
    "import pandas as pd\n",
    "\n",
    "# stats\n",
    "from sklearn.preprocessing import StandardScaler\n",
    "from sklearn.decomposition import PCA\n",
    "\n",
    "# plots\n",
    "import matplotlib.pyplot as plt\n",
    "import seaborn as sns\n"
   ]
  },
  {
   "cell_type": "code",
   "execution_count": 107,
   "metadata": {},
   "outputs": [],
   "source": [
    "# globals\n",
    "\n",
    "# DATA_DIR = './hw-7-data'\n",
    "\n",
    "ROW_COUNT = 28\n",
    "IMAGE_SET_SIZE = 6\n",
    "\n",
    "GAUSSIAN_NOISE_STD_DEV = 10\n",
    "PCA_COMPONENT_COUNT = 6\n",
    "\n"
   ]
  },
  {
   "cell_type": "markdown",
   "metadata": {},
   "source": [
    "## Loading the EMNIST dataset\n",
    "\n",
    "This celebrated dataset of digitized hand-written digits is widely used as a test set for image recognition. Because it is small, and well studied, it is used here for image compression tests\n",
    "\n",
    "Source:  \n",
    "\n",
    "    https://www.nist.gov/itl/products-and-services/emnist-dataset\n"
   ]
  },
  {
   "cell_type": "code",
   "execution_count": 108,
   "metadata": {},
   "outputs": [
    {
     "name": "stdout",
     "output_type": "stream",
     "text": [
      "(40000, 785)\n"
     ]
    },
    {
     "data": {
      "text/html": [
       "<div>\n",
       "<style scoped>\n",
       "    .dataframe tbody tr th:only-of-type {\n",
       "        vertical-align: middle;\n",
       "    }\n",
       "\n",
       "    .dataframe tbody tr th {\n",
       "        vertical-align: top;\n",
       "    }\n",
       "\n",
       "    .dataframe thead th {\n",
       "        text-align: right;\n",
       "    }\n",
       "</style>\n",
       "<table border=\"1\" class=\"dataframe\">\n",
       "  <thead>\n",
       "    <tr style=\"text-align: right;\">\n",
       "      <th></th>\n",
       "      <th>0</th>\n",
       "      <th>1</th>\n",
       "      <th>2</th>\n",
       "      <th>3</th>\n",
       "      <th>4</th>\n",
       "      <th>5</th>\n",
       "      <th>6</th>\n",
       "      <th>7</th>\n",
       "      <th>8</th>\n",
       "      <th>9</th>\n",
       "      <th>...</th>\n",
       "      <th>775</th>\n",
       "      <th>776</th>\n",
       "      <th>777</th>\n",
       "      <th>778</th>\n",
       "      <th>779</th>\n",
       "      <th>780</th>\n",
       "      <th>781</th>\n",
       "      <th>782</th>\n",
       "      <th>783</th>\n",
       "      <th>784</th>\n",
       "    </tr>\n",
       "  </thead>\n",
       "  <tbody>\n",
       "    <tr>\n",
       "      <th>0</th>\n",
       "      <td>0</td>\n",
       "      <td>0</td>\n",
       "      <td>0</td>\n",
       "      <td>0</td>\n",
       "      <td>0</td>\n",
       "      <td>0</td>\n",
       "      <td>0</td>\n",
       "      <td>0</td>\n",
       "      <td>0</td>\n",
       "      <td>0</td>\n",
       "      <td>...</td>\n",
       "      <td>0</td>\n",
       "      <td>0</td>\n",
       "      <td>0</td>\n",
       "      <td>0</td>\n",
       "      <td>0</td>\n",
       "      <td>0</td>\n",
       "      <td>0</td>\n",
       "      <td>0</td>\n",
       "      <td>0</td>\n",
       "      <td>0</td>\n",
       "    </tr>\n",
       "    <tr>\n",
       "      <th>1</th>\n",
       "      <td>9</td>\n",
       "      <td>0</td>\n",
       "      <td>0</td>\n",
       "      <td>0</td>\n",
       "      <td>0</td>\n",
       "      <td>0</td>\n",
       "      <td>0</td>\n",
       "      <td>0</td>\n",
       "      <td>0</td>\n",
       "      <td>0</td>\n",
       "      <td>...</td>\n",
       "      <td>0</td>\n",
       "      <td>0</td>\n",
       "      <td>0</td>\n",
       "      <td>0</td>\n",
       "      <td>0</td>\n",
       "      <td>0</td>\n",
       "      <td>0</td>\n",
       "      <td>0</td>\n",
       "      <td>0</td>\n",
       "      <td>0</td>\n",
       "    </tr>\n",
       "    <tr>\n",
       "      <th>2</th>\n",
       "      <td>7</td>\n",
       "      <td>0</td>\n",
       "      <td>0</td>\n",
       "      <td>0</td>\n",
       "      <td>0</td>\n",
       "      <td>0</td>\n",
       "      <td>0</td>\n",
       "      <td>0</td>\n",
       "      <td>0</td>\n",
       "      <td>0</td>\n",
       "      <td>...</td>\n",
       "      <td>0</td>\n",
       "      <td>0</td>\n",
       "      <td>0</td>\n",
       "      <td>0</td>\n",
       "      <td>0</td>\n",
       "      <td>0</td>\n",
       "      <td>0</td>\n",
       "      <td>0</td>\n",
       "      <td>0</td>\n",
       "      <td>0</td>\n",
       "    </tr>\n",
       "    <tr>\n",
       "      <th>3</th>\n",
       "      <td>9</td>\n",
       "      <td>0</td>\n",
       "      <td>0</td>\n",
       "      <td>0</td>\n",
       "      <td>0</td>\n",
       "      <td>0</td>\n",
       "      <td>0</td>\n",
       "      <td>0</td>\n",
       "      <td>0</td>\n",
       "      <td>0</td>\n",
       "      <td>...</td>\n",
       "      <td>0</td>\n",
       "      <td>0</td>\n",
       "      <td>0</td>\n",
       "      <td>0</td>\n",
       "      <td>0</td>\n",
       "      <td>0</td>\n",
       "      <td>0</td>\n",
       "      <td>0</td>\n",
       "      <td>0</td>\n",
       "      <td>0</td>\n",
       "    </tr>\n",
       "    <tr>\n",
       "      <th>4</th>\n",
       "      <td>2</td>\n",
       "      <td>0</td>\n",
       "      <td>0</td>\n",
       "      <td>0</td>\n",
       "      <td>0</td>\n",
       "      <td>0</td>\n",
       "      <td>0</td>\n",
       "      <td>0</td>\n",
       "      <td>0</td>\n",
       "      <td>0</td>\n",
       "      <td>...</td>\n",
       "      <td>0</td>\n",
       "      <td>0</td>\n",
       "      <td>0</td>\n",
       "      <td>0</td>\n",
       "      <td>0</td>\n",
       "      <td>0</td>\n",
       "      <td>0</td>\n",
       "      <td>0</td>\n",
       "      <td>0</td>\n",
       "      <td>0</td>\n",
       "    </tr>\n",
       "  </tbody>\n",
       "</table>\n",
       "<p>5 rows × 785 columns</p>\n",
       "</div>"
      ],
      "text/plain": [
       "   0    1    2    3    4    5    6    7    8    9    ...  775  776  777  778  \\\n",
       "0    0    0    0    0    0    0    0    0    0    0  ...    0    0    0    0   \n",
       "1    9    0    0    0    0    0    0    0    0    0  ...    0    0    0    0   \n",
       "2    7    0    0    0    0    0    0    0    0    0  ...    0    0    0    0   \n",
       "3    9    0    0    0    0    0    0    0    0    0  ...    0    0    0    0   \n",
       "4    2    0    0    0    0    0    0    0    0    0  ...    0    0    0    0   \n",
       "\n",
       "   779  780  781  782  783  784  \n",
       "0    0    0    0    0    0    0  \n",
       "1    0    0    0    0    0    0  \n",
       "2    0    0    0    0    0    0  \n",
       "3    0    0    0    0    0    0  \n",
       "4    0    0    0    0    0    0  \n",
       "\n",
       "[5 rows x 785 columns]"
      ]
     },
     "execution_count": 108,
     "metadata": {},
     "output_type": "execute_result"
    }
   ],
   "source": [
    "# We choose one of the datasets, of 40000 digits, digitized on a 28 by 28 grid. \n",
    "\n",
    "# os.chdir(DATA_DIR)\n",
    "emnist__digits = pd.read_csv('emnist-digits-test.csv', header=None, sep=',', dtype= 'uint')\n",
    "print(emnist__digits.shape)\n",
    "emnist__digits.head()"
   ]
  },
  {
   "cell_type": "markdown",
   "metadata": {},
   "source": [
    "## Some useful functions"
   ]
  },
  {
   "cell_type": "code",
   "execution_count": 109,
   "metadata": {},
   "outputs": [
    {
     "data": {
      "text/plain": [
       "0.0"
      ]
     },
     "execution_count": 109,
     "metadata": {},
     "output_type": "execute_result"
    }
   ],
   "source": [
    "def extract_image_vector(index, dataset=emnist__digits):\n",
    "    'Return a square matrix from a row in the Pandas DataFrame.'\n",
    "    return emnist__digits.values[index,1:]\n",
    "\n",
    "def add_gaussian_noise(the_vector, std_dev=GAUSSIAN_NOISE_STD_DEV):\n",
    "    'Add zero mean' \n",
    "    noise = rn.normal(0,std_dev, len(the_vector) )\n",
    "    return the_vector + noise\n",
    "\n",
    "def mean_square_error(modified_vector, original_image_vector):\n",
    "    'A distance measure between two image matrices'\n",
    "    n = sum(original_image_vector.shape)\n",
    "    # print('n', n)\n",
    "    if n != sum(modified_vector.shape):\n",
    "        print(f'Vector lengths do not match: {n}')\n",
    "        return None\n",
    "    # Compute mean sum of squares\n",
    "    rmse = math.sqrt(np.square(modified_vector - original_image_vector).sum())/n\n",
    "    return rmse\n",
    "\n",
    "# Test - comparing a vector with iteself should equal 0\n",
    "mean_square_error(emnist__digits.values[9,1:], emnist__digits.values[9,1:])"
   ]
  },
  {
   "cell_type": "code",
   "execution_count": 110,
   "metadata": {},
   "outputs": [
    {
     "data": {
      "image/png": "[encoded data removed]",
      "text/plain": [
       "<Figure size 640x480 with 1 Axes>"
      ]
     },
     "metadata": {},
     "output_type": "display_data"
    },
    {
     "data": {
      "text/plain": [
       "2"
      ]
     },
     "execution_count": 110,
     "metadata": {},
     "output_type": "execute_result"
    }
   ],
   "source": [
    "\n",
    "\n",
    "def view_one_image(index, dataset=emnist__digits):\n",
    "    '''Take one row of the data that contains one image, \n",
    "    reshape it to a square for display, and return the class'''\n",
    "    the_class = emnist__digits.values[index, 0]\n",
    "    \n",
    "    the_vector = extract_image_vector(index, dataset)\n",
    "    \n",
    "    # test adding some noise to the image\n",
    "    # the_vector = add_gaussian_noise(extract_image_vector(index, dataset), std_dev=2*GAUSSIAN_NOISE_STD_DEV)\n",
    "\n",
    "    image = plt.imshow(the_vector.reshape(ROW_COUNT,ROW_COUNT).T, cmap='GnBu')\n",
    "    plt.show(image)\n",
    "    return the_class\n",
    "\n",
    "view_one_image(4)"
   ]
  },
  {
   "cell_type": "markdown",
   "metadata": {},
   "source": [
    "## Compute the PCA decomposition of one image. "
   ]
  },
  {
   "cell_type": "code",
   "execution_count": 111,
   "metadata": {},
   "outputs": [
    {
     "name": "stdout",
     "output_type": "stream",
     "text": [
      "Training shape (6, 784)\n"
     ]
    },
    {
     "data": {
      "text/plain": [
       "(6, 6)"
      ]
     },
     "execution_count": 111,
     "metadata": {},
     "output_type": "execute_result"
    }
   ],
   "source": [
    "pca_model = PCA(n_components=PCA_COMPONENT_COUNT)\n",
    "\n",
    "# Select a matrix of multiple images\n",
    "DIGIT = 2\n",
    "images = np.zeros((IMAGE_SET_SIZE, ROW_COUNT*ROW_COUNT))\n",
    "row = 0\n",
    "for k in range(emnist__digits.shape[0]):\n",
    "    a_digit = emnist__digits.values[k, 0]\n",
    "    # print(a_digit, end = ':')\n",
    "    if a_digit == DIGIT:\n",
    "        # print(k, a_digit)\n",
    "        images[row,:] = extract_image_vector(k)\n",
    "        row +=1\n",
    "        if row >= IMAGE_SET_SIZE:\n",
    "            break\n",
    "    \n",
    "print(f'Training shape {images.shape}')\n",
    "pca_model.fit(images)\n",
    "image_transform = pca_model.transform(images)\n",
    "image_transform.shape\n",
    "              "
   ]
  },
  {
   "cell_type": "markdown",
   "metadata": {},
   "source": [
    "## Visualizing the first six eigenvector components "
   ]
  },
  {
   "cell_type": "code",
   "execution_count": 112,
   "metadata": {},
   "outputs": [
    {
     "data": {
      "image/png": "[encoded data removed]",
      "text/plain": [
       "<Figure size 640x480 with 6 Axes>"
      ]
     },
     "metadata": {},
     "output_type": "display_data"
    }
   ],
   "source": [
    "pca_model.components_.shape\n",
    "display_cnt = min(PCA_COMPONENT_COUNT, 6)\n",
    "# plt.imshow(images[4,:].reshape(ROW_COUNT,ROW_COUNT).T, cmap='GnBu')\n",
    "fit, axes = plt.subplots(1,display_cnt)\n",
    "for k in range(display_cnt):  \n",
    "    axes[k].imshow(pca_model.components_[k,:].reshape(ROW_COUNT,ROW_COUNT).T, cmap='GnBu')"
   ]
  },
  {
   "cell_type": "code",
   "execution_count": 113,
   "metadata": {},
   "outputs": [
    {
     "data": {
      "text/plain": [
       "(6, 784)"
      ]
     },
     "execution_count": 113,
     "metadata": {},
     "output_type": "execute_result"
    }
   ],
   "source": [
    "reconstructed_image = pca_model.inverse_transform(image_transform)\n",
    "reconstructed_image.shape"
   ]
  },
  {
   "cell_type": "code",
   "execution_count": 114,
   "metadata": {},
   "outputs": [
    {
     "data": {
      "text/plain": [
       "<matplotlib.image.AxesImage at 0x213dab62d80>"
      ]
     },
     "execution_count": 114,
     "metadata": {},
     "output_type": "execute_result"
    },
    {
     "data": {
      "image/png": "[encoded data removed]",
      "text/plain": [
       "<Figure size 640x480 with 1 Axes>"
      ]
     },
     "metadata": {},
     "output_type": "display_data"
    }
   ],
   "source": [
    "plt.imshow(reconstructed_image[0,:].reshape((ROW_COUNT,ROW_COUNT)).T, cmap='GnBu')"
   ]
  },
  {
   "cell_type": "code",
   "execution_count": 115,
   "metadata": {},
   "outputs": [
    {
     "data": {
      "text/plain": [
       "3.7852838625023786"
      ]
     },
     "execution_count": 115,
     "metadata": {},
     "output_type": "execute_result"
    }
   ],
   "source": [
    "# Compute the variation of the reconstructed image from the original\n",
    "mean_square_error(emnist__digits.values[1,1:], reconstructed_image[0,:])"
   ]
  },
  {
   "cell_type": "code",
   "execution_count": 116,
   "metadata": {},
   "outputs": [
    {
     "data": {
      "text/plain": [
       "[<matplotlib.lines.Line2D at 0x213c53a02f0>]"
      ]
     },
     "execution_count": 116,
     "metadata": {},
     "output_type": "execute_result"
    },
    {
     "data": {
      "image/png": "[encoded data removed]",
      "text/plain": [
       "<Figure size 640x480 with 1 Axes>"
      ]
     },
     "metadata": {},
     "output_type": "display_data"
    }
   ],
   "source": [
    "\n",
    "cummulative_variance = pca_model.explained_variance_ratio_.cumsum()\n",
    "plt.figure()\n",
    "plt.axis([0, PCA_COMPONENT_COUNT,0,1])\n",
    "plt.xlabel(\"number of PCA components\")\n",
    "plt.ylabel('Fraction of explained variance')\n",
    "plt.plot(cummulative_variance)"
   ]
  },
  {
   "cell_type": "markdown",
   "metadata": {},
   "source": [
    "## Alternate decomposition - consider each row in the image as a sample vector"
   ]
  },
  {
   "cell_type": "code",
   "execution_count": 117,
   "metadata": {},
   "outputs": [
    {
     "name": "stdout",
     "output_type": "stream",
     "text": [
      "Training shape (28, 28)\n"
     ]
    },
    {
     "data": {
      "text/plain": [
       "(28, 28)"
      ]
     },
     "execution_count": 117,
     "metadata": {},
     "output_type": "execute_result"
    }
   ],
   "source": [
    "pca_model = PCA(n_components=PCA_COMPONENT_COUNT)\n",
    "\n",
    "# Select a matrix of multiple images\n",
    "DIGIT = 2\n",
    "the_vector = add_gaussian_noise(extract_image_vector(4,), 0)\n",
    "train_image = the_vector.reshape(ROW_COUNT,ROW_COUNT).T\n",
    "    \n",
    "print(f'Training shape {train_image.shape}')\n",
    "image_pca_model = PCA(n_components=28)\n",
    "image_pca_model.fit(train_image)\n",
    "image_space = image_pca_model.transform(train_image)\n",
    "image_space.shape\n",
    "              "
   ]
  },
  {
   "cell_type": "code",
   "execution_count": 118,
   "metadata": {},
   "outputs": [
    {
     "name": "stdout",
     "output_type": "stream",
     "text": [
      "(28, 28)\n",
      "3.0129786264086667e-15\n"
     ]
    },
    {
     "data": {
      "image/png": "[encoded data removed]",
      "text/plain": [
       "<Figure size 640x480 with 2 Axes>"
      ]
     },
     "metadata": {},
     "output_type": "display_data"
    }
   ],
   "source": [
    "image_reconstruction = image_pca_model.inverse_transform(image_space)\n",
    "print(image_reconstruction.shape)\n",
    "fit, axes = plt.subplots(1,2)\n",
    "axes[0].imshow(train_image, cmap='GnBu')\n",
    "axes[1].imshow(image_reconstruction, cmap='GnBu')\n",
    "print(mean_square_error(image_reconstruction.reshape(784), train_image.reshape(784)))"
   ]
  },
  {
   "cell_type": "markdown",
   "metadata": {},
   "source": [
    "### How does error change for a noisy image, with the number of components? "
   ]
  },
  {
   "cell_type": "code",
   "execution_count": 119,
   "metadata": {},
   "outputs": [
    {
     "data": {
      "text/plain": [
       "(784,)"
      ]
     },
     "execution_count": 119,
     "metadata": {},
     "output_type": "execute_result"
    }
   ],
   "source": [
    "extract_image_vector(1,).shape"
   ]
  },
  {
   "cell_type": "code",
   "execution_count": 121,
   "metadata": {},
   "outputs": [
    {
     "data": {
      "text/plain": [
       "[<matplotlib.lines.Line2D at 0x213c4d95400>]"
      ]
     },
     "execution_count": 121,
     "metadata": {},
     "output_type": "execute_result"
    },
    {
     "data": {
      "image/png": "[encoded data removed]",
      "text/plain": [
       "<Figure size 640x480 with 1 Axes>"
      ]
     },
     "metadata": {},
     "output_type": "display_data"
    }
   ],
   "source": [
    "def vary_components(image_vector, noise_level):\n",
    "    the_vector = add_gaussian_noise(image_vector, noise_level)\n",
    "    train_image = the_vector.reshape(ROW_COUNT,ROW_COUNT)\n",
    "    errors = np.zeros(ROW_COUNT)\n",
    "    for component_count in range(2,ROW_COUNT):\n",
    "        v_pca_model = PCA(n_components=component_count)\n",
    "        v_pca_model.fit(train_image)\n",
    "        image_space = v_pca_model.transform(train_image)\n",
    "        image_reconstruction = v_pca_model.inverse_transform(image_space)\n",
    "        base_error = mean_square_error(the_vector, image_vector)\n",
    "        errors[component_count] =  mean_square_error(image_reconstruction.reshape(784), image_vector.reshape(784))\n",
    "\n",
    "    return errors\n",
    "\n",
    "plt.plot(vary_components(extract_image_vector(1,), 6), 'or')\n"
   ]
  }
 ],
 "metadata": {
  "kernelspec": {
   "display_name": "ml",
   "language": "python",
   "name": "python3"
  },
  "language_info": {
   "codemirror_mode": {
    "name": "ipython",
    "version": 3
   },
   "file_extension": ".py",
   "mimetype": "text/x-python",
   "name": "python",
   "nbconvert_exporter": "python",
   "pygments_lexer": "ipython3",
   "version": "3.12.3"
  }
 },
 "nbformat": 4,
 "nbformat_minor": 2
}

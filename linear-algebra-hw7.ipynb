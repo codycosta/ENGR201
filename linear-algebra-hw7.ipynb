{
 "cells": [
  {
   "cell_type": "markdown",
   "metadata": {},
   "source": [
    "# Homework 7\n",
    "#### Cody Costa, David Loi"
   ]
  },
  {
   "cell_type": "markdown",
   "metadata": {},
   "source": [
    "### Problem 1:\n",
    "\n",
    "#### Import necessary module(s)"
   ]
  },
  {
   "cell_type": "code",
   "execution_count": 46,
   "metadata": {},
   "outputs": [],
   "source": [
    "import numpy as np"
   ]
  },
  {
   "cell_type": "markdown",
   "metadata": {},
   "source": [
    "### Function to generate random symmetric matrix:"
   ]
  },
  {
   "cell_type": "code",
   "execution_count": 47,
   "metadata": {},
   "outputs": [],
   "source": [
    "''' function to generate 2x2 symmetric matrix whose\n",
    "    elements are constrained to be between 0 and 10 '''\n",
    "\n",
    "size: int = 2\n",
    "max_value: int = 10\n",
    "\n",
    "def generate_symmetric_matrix(size) -> np.ndarray:\n",
    "\n",
    "    matrix: np.ndarray = np.zeros([size, size])\n",
    "\n",
    "    for element in range(size):\n",
    "\n",
    "        # diagonal matrix\n",
    "        matrix[element, element] = np.random.randint(0, max_value)\n",
    "\n",
    "        # fill it such that matrix is symmetric\n",
    "        filler = np.array([np.random.randint(0, max_value) for e in range(size - element - 1)])\n",
    "\n",
    "        matrix[element, element + 1:] = filler\n",
    "        matrix[element + 1:, element] = filler\n",
    "\n",
    "    return matrix\n",
    "\n",
    "    # verify the matrix has a nonzero determinant\n",
    "\n",
    "    # if np.linalg.det(matrix):\n",
    "    #     return matrix\n",
    "    \n",
    "    # else:\n",
    "    #     generate_symmetric_matrix(size)\n"
   ]
  },
  {
   "cell_type": "markdown",
   "metadata": {},
   "source": [
    "#### test that function works:"
   ]
  },
  {
   "cell_type": "code",
   "execution_count": 48,
   "metadata": {},
   "outputs": [
    {
     "name": "stdout",
     "output_type": "stream",
     "text": [
      "[[3. 2.]\n",
      " [2. 2.]]\n"
     ]
    }
   ],
   "source": [
    "M: np.ndarray = generate_symmetric_matrix(2)\n",
    "print(M)"
   ]
  },
  {
   "cell_type": "markdown",
   "metadata": {},
   "source": [
    "### Decomposition\n",
    "\n",
    "use the property that a matrix A can be equated to A = PDP^T where...\n",
    "\n",
    "#### D = diagonal matrix of eigenvalues\n",
    "#### P = matrix of eigenvectors"
   ]
  },
  {
   "cell_type": "code",
   "execution_count": 49,
   "metadata": {},
   "outputs": [
    {
     "name": "stdout",
     "output_type": "stream",
     "text": [
      "[4.56155281 0.43844719] \n",
      "\n",
      "[[ 0.78820544 -0.61541221]\n",
      " [ 0.61541221  0.78820544]]\n"
     ]
    }
   ],
   "source": [
    "eigenvalues, eigenvectors = np.linalg.eig(M)\n",
    "print(eigenvalues, '\\n')\n",
    "print(eigenvectors)"
   ]
  },
  {
   "cell_type": "markdown",
   "metadata": {},
   "source": [
    "### Find SVD of matrix"
   ]
  },
  {
   "cell_type": "code",
   "execution_count": 50,
   "metadata": {},
   "outputs": [
    {
     "name": "stdout",
     "output_type": "stream",
     "text": [
      "[[-0.78820544 -0.61541221]\n",
      " [-0.61541221  0.78820544]] \n",
      "\n",
      " [4.56155281 0.43844719] \n",
      "\n",
      " [[-0.78820544 -0.61541221]\n",
      " [-0.61541221  0.78820544]]\n"
     ]
    }
   ],
   "source": [
    "U, S, U_T = (np.linalg.svd(M))\n",
    "print(U, '\\n\\n', S, '\\n\\n', U_T)\n"
   ]
  },
  {
   "cell_type": "markdown",
   "metadata": {},
   "source": [
    "### Define our P and D matrices"
   ]
  },
  {
   "cell_type": "code",
   "execution_count": 51,
   "metadata": {},
   "outputs": [
    {
     "name": "stdout",
     "output_type": "stream",
     "text": [
      "[[ 0.78820544 -0.61541221]\n",
      " [ 0.61541221  0.78820544]]\n"
     ]
    }
   ],
   "source": [
    "# P: np.ndarray = 1 / abs(np.min(eigenvectors)) * eigenvectors\n",
    "# P\n",
    "\n",
    "P = eigenvectors\n",
    "print(P)"
   ]
  },
  {
   "cell_type": "markdown",
   "metadata": {},
   "source": [
    "### Craft the diagonal matrix of eigenvalues D"
   ]
  },
  {
   "cell_type": "code",
   "execution_count": 52,
   "metadata": {},
   "outputs": [
    {
     "name": "stdout",
     "output_type": "stream",
     "text": [
      "[[4.56155281 0.        ]\n",
      " [0.         0.43844719]]\n"
     ]
    }
   ],
   "source": [
    "D: np.ndarray = np.zeros([size, size])\n",
    "for idx, val in enumerate(S):\n",
    "    D[idx, idx] = eigenvalues[idx]\n",
    "\n",
    "print(D)"
   ]
  },
  {
   "cell_type": "code",
   "execution_count": 53,
   "metadata": {},
   "outputs": [
    {
     "name": "stdout",
     "output_type": "stream",
     "text": [
      "[[3. 2.]\n",
      " [2. 2.]] \n",
      "\n",
      "[[3. 2.]\n",
      " [2. 2.]]\n"
     ]
    }
   ],
   "source": [
    "''' test our P and D matrices are accurate via A = P D P^T '''\n",
    "\n",
    "print(P @ D @ P.T, '\\n')\n",
    "print(M)\n"
   ]
  },
  {
   "cell_type": "markdown",
   "metadata": {},
   "source": [
    "### More decomposition relations\n",
    "\n",
    "let's normalize the matrix P (eigenvectors) and establish the relation m @ V == V @ D"
   ]
  },
  {
   "cell_type": "code",
   "execution_count": 54,
   "metadata": {},
   "outputs": [
    {
     "data": {
      "text/plain": [
       "array([[ 0.78820544, -0.61541221],\n",
       "       [ 0.61541221,  0.78820544]])"
      ]
     },
     "execution_count": 54,
     "metadata": {},
     "output_type": "execute_result"
    }
   ],
   "source": [
    "P"
   ]
  },
  {
   "cell_type": "code",
   "execution_count": 55,
   "metadata": {},
   "outputs": [],
   "source": [
    "''' normalize eigenvectors '''\n",
    "\n",
    "V = np.zeros([size, size])\n",
    "\n",
    "V[:, 0] = P[:, 0] / np.max(abs(P[:, 0]))\n",
    "V[:, 1] = P[:, 1] / np.max(abs(P[:, 1]))"
   ]
  },
  {
   "cell_type": "code",
   "execution_count": 56,
   "metadata": {},
   "outputs": [
    {
     "data": {
      "text/plain": [
       "array([[ 1.        , -0.78077641],\n",
       "       [ 0.78077641,  1.        ]])"
      ]
     },
     "execution_count": 56,
     "metadata": {},
     "output_type": "execute_result"
    }
   ],
   "source": [
    "V"
   ]
  },
  {
   "cell_type": "code",
   "execution_count": 57,
   "metadata": {},
   "outputs": [
    {
     "name": "stdout",
     "output_type": "stream",
     "text": [
      "[[ 4.56 -0.34]\n",
      " [ 3.56  0.44]] \n",
      "\n",
      " [[ 4.56 -0.34]\n",
      " [ 3.56  0.44]]\n"
     ]
    }
   ],
   "source": [
    "''' check for correctness'''\n",
    "\n",
    "res1 = np.round(M @ V, 2)\n",
    "res2 = np.round(V @ D, 2)\n",
    "print(res1, '\\n\\n', res2)"
   ]
  },
  {
   "cell_type": "markdown",
   "metadata": {},
   "source": [
    "#### Given this relation, we can conclude the matrix V are the eigenvectors of m\n",
    "\n",
    "////////////////////////////////////////////////////////////////////////////////////////////////////////////////////////////////////////\n",
    "\n",
    "\n",
    "### Problem 2:"
   ]
  },
  {
   "cell_type": "markdown",
   "metadata": {},
   "source": [
    "### Necessary Imports"
   ]
  },
  {
   "cell_type": "code",
   "execution_count": 58,
   "metadata": {},
   "outputs": [],
   "source": [
    "import pandas as pd\n",
    "import matplotlib.pyplot as plt\n",
    "import math\n",
    "\n",
    "from sklearn.decomposition import PCA"
   ]
  },
  {
   "cell_type": "markdown",
   "metadata": {},
   "source": [
    "### Define Global Vars"
   ]
  },
  {
   "cell_type": "code",
   "execution_count": 59,
   "metadata": {},
   "outputs": [],
   "source": [
    "IMAGE_ROWS: int = 28\n",
    "IMAGE_SET_SIZE: int = 6\n",
    "\n",
    "GAUSSIAN_NOISE: int = 10\n",
    "PCA_COUNT: int = 4"
   ]
  },
  {
   "cell_type": "markdown",
   "metadata": {},
   "source": [
    "### Load Data to Compress"
   ]
  },
  {
   "cell_type": "code",
   "execution_count": 60,
   "metadata": {},
   "outputs": [
    {
     "name": "stdout",
     "output_type": "stream",
     "text": [
      "(40000, 785)\n"
     ]
    },
    {
     "data": {
      "text/html": [
       "<div>\n",
       "<style scoped>\n",
       "    .dataframe tbody tr th:only-of-type {\n",
       "        vertical-align: middle;\n",
       "    }\n",
       "\n",
       "    .dataframe tbody tr th {\n",
       "        vertical-align: top;\n",
       "    }\n",
       "\n",
       "    .dataframe thead th {\n",
       "        text-align: right;\n",
       "    }\n",
       "</style>\n",
       "<table border=\"1\" class=\"dataframe\">\n",
       "  <thead>\n",
       "    <tr style=\"text-align: right;\">\n",
       "      <th></th>\n",
       "      <th>0</th>\n",
       "      <th>1</th>\n",
       "      <th>2</th>\n",
       "      <th>3</th>\n",
       "      <th>4</th>\n",
       "      <th>5</th>\n",
       "      <th>6</th>\n",
       "      <th>7</th>\n",
       "      <th>8</th>\n",
       "      <th>9</th>\n",
       "      <th>...</th>\n",
       "      <th>775</th>\n",
       "      <th>776</th>\n",
       "      <th>777</th>\n",
       "      <th>778</th>\n",
       "      <th>779</th>\n",
       "      <th>780</th>\n",
       "      <th>781</th>\n",
       "      <th>782</th>\n",
       "      <th>783</th>\n",
       "      <th>784</th>\n",
       "    </tr>\n",
       "  </thead>\n",
       "  <tbody>\n",
       "    <tr>\n",
       "      <th>0</th>\n",
       "      <td>0</td>\n",
       "      <td>0</td>\n",
       "      <td>0</td>\n",
       "      <td>0</td>\n",
       "      <td>0</td>\n",
       "      <td>0</td>\n",
       "      <td>0</td>\n",
       "      <td>0</td>\n",
       "      <td>0</td>\n",
       "      <td>0</td>\n",
       "      <td>...</td>\n",
       "      <td>0</td>\n",
       "      <td>0</td>\n",
       "      <td>0</td>\n",
       "      <td>0</td>\n",
       "      <td>0</td>\n",
       "      <td>0</td>\n",
       "      <td>0</td>\n",
       "      <td>0</td>\n",
       "      <td>0</td>\n",
       "      <td>0</td>\n",
       "    </tr>\n",
       "    <tr>\n",
       "      <th>1</th>\n",
       "      <td>9</td>\n",
       "      <td>0</td>\n",
       "      <td>0</td>\n",
       "      <td>0</td>\n",
       "      <td>0</td>\n",
       "      <td>0</td>\n",
       "      <td>0</td>\n",
       "      <td>0</td>\n",
       "      <td>0</td>\n",
       "      <td>0</td>\n",
       "      <td>...</td>\n",
       "      <td>0</td>\n",
       "      <td>0</td>\n",
       "      <td>0</td>\n",
       "      <td>0</td>\n",
       "      <td>0</td>\n",
       "      <td>0</td>\n",
       "      <td>0</td>\n",
       "      <td>0</td>\n",
       "      <td>0</td>\n",
       "      <td>0</td>\n",
       "    </tr>\n",
       "    <tr>\n",
       "      <th>2</th>\n",
       "      <td>7</td>\n",
       "      <td>0</td>\n",
       "      <td>0</td>\n",
       "      <td>0</td>\n",
       "      <td>0</td>\n",
       "      <td>0</td>\n",
       "      <td>0</td>\n",
       "      <td>0</td>\n",
       "      <td>0</td>\n",
       "      <td>0</td>\n",
       "      <td>...</td>\n",
       "      <td>0</td>\n",
       "      <td>0</td>\n",
       "      <td>0</td>\n",
       "      <td>0</td>\n",
       "      <td>0</td>\n",
       "      <td>0</td>\n",
       "      <td>0</td>\n",
       "      <td>0</td>\n",
       "      <td>0</td>\n",
       "      <td>0</td>\n",
       "    </tr>\n",
       "    <tr>\n",
       "      <th>3</th>\n",
       "      <td>9</td>\n",
       "      <td>0</td>\n",
       "      <td>0</td>\n",
       "      <td>0</td>\n",
       "      <td>0</td>\n",
       "      <td>0</td>\n",
       "      <td>0</td>\n",
       "      <td>0</td>\n",
       "      <td>0</td>\n",
       "      <td>0</td>\n",
       "      <td>...</td>\n",
       "      <td>0</td>\n",
       "      <td>0</td>\n",
       "      <td>0</td>\n",
       "      <td>0</td>\n",
       "      <td>0</td>\n",
       "      <td>0</td>\n",
       "      <td>0</td>\n",
       "      <td>0</td>\n",
       "      <td>0</td>\n",
       "      <td>0</td>\n",
       "    </tr>\n",
       "    <tr>\n",
       "      <th>4</th>\n",
       "      <td>2</td>\n",
       "      <td>0</td>\n",
       "      <td>0</td>\n",
       "      <td>0</td>\n",
       "      <td>0</td>\n",
       "      <td>0</td>\n",
       "      <td>0</td>\n",
       "      <td>0</td>\n",
       "      <td>0</td>\n",
       "      <td>0</td>\n",
       "      <td>...</td>\n",
       "      <td>0</td>\n",
       "      <td>0</td>\n",
       "      <td>0</td>\n",
       "      <td>0</td>\n",
       "      <td>0</td>\n",
       "      <td>0</td>\n",
       "      <td>0</td>\n",
       "      <td>0</td>\n",
       "      <td>0</td>\n",
       "      <td>0</td>\n",
       "    </tr>\n",
       "  </tbody>\n",
       "</table>\n",
       "<p>5 rows × 785 columns</p>\n",
       "</div>"
      ],
      "text/plain": [
       "   0    1    2    3    4    5    6    7    8    9    ...  775  776  777  778  \\\n",
       "0    0    0    0    0    0    0    0    0    0    0  ...    0    0    0    0   \n",
       "1    9    0    0    0    0    0    0    0    0    0  ...    0    0    0    0   \n",
       "2    7    0    0    0    0    0    0    0    0    0  ...    0    0    0    0   \n",
       "3    9    0    0    0    0    0    0    0    0    0  ...    0    0    0    0   \n",
       "4    2    0    0    0    0    0    0    0    0    0  ...    0    0    0    0   \n",
       "\n",
       "   779  780  781  782  783  784  \n",
       "0    0    0    0    0    0    0  \n",
       "1    0    0    0    0    0    0  \n",
       "2    0    0    0    0    0    0  \n",
       "3    0    0    0    0    0    0  \n",
       "4    0    0    0    0    0    0  \n",
       "\n",
       "[5 rows x 785 columns]"
      ]
     },
     "execution_count": 60,
     "metadata": {},
     "output_type": "execute_result"
    }
   ],
   "source": [
    "emnist_digits = pd.read_csv('emnist-digits-test.csv', header=None, sep=',', dtype='uint')\n",
    "print(emnist_digits.shape)\n",
    "emnist_digits.head()"
   ]
  },
  {
   "cell_type": "markdown",
   "metadata": {},
   "source": [
    "### Useful Accessory Functions"
   ]
  },
  {
   "cell_type": "code",
   "execution_count": 61,
   "metadata": {},
   "outputs": [
    {
     "data": {
      "text/plain": [
       "0.0"
      ]
     },
     "execution_count": 61,
     "metadata": {},
     "output_type": "execute_result"
    }
   ],
   "source": [
    "def extract_image_vector(index, dataset=emnist_digits):\n",
    "    'Return a square matrix from a row in the Pandas DataFrame.'\n",
    "    return emnist_digits.values[index,1:]\n",
    "\n",
    "def add_gaussian_noise(the_vector, std_dev=GAUSSIAN_NOISE):\n",
    "    'Add zero mean' \n",
    "    noise = np.random.normal(0,std_dev, len(the_vector) )\n",
    "    return the_vector + noise\n",
    "\n",
    "def mean_square_error(modified_vector, original_image_vector):\n",
    "    'A distance measure between two image matrices'\n",
    "    n = sum(original_image_vector.shape)\n",
    "    # print('n', n)\n",
    "    if n != sum(modified_vector.shape):\n",
    "        print(f'Vector lengths do not match: {n}')\n",
    "        return None\n",
    "    # Compute mean sum of squares\n",
    "    rmse = math.sqrt(np.square(modified_vector - original_image_vector).sum())/n\n",
    "    return rmse\n",
    "\n",
    "# Test - comparing a vector with iteself should equal 0\n",
    "mean_square_error(emnist_digits.values[9,1:], emnist_digits.values[9,1:])"
   ]
  },
  {
   "cell_type": "markdown",
   "metadata": {},
   "source": [
    "### Example Function To View An Image"
   ]
  },
  {
   "cell_type": "code",
   "execution_count": 62,
   "metadata": {},
   "outputs": [],
   "source": [
    "def view_one_image(index, dataset=emnist_digits):\n",
    "    '''Take one row of the data that contains one image, \n",
    "    reshape it to a square for display, and return the class'''\n",
    "    the_class = emnist_digits.values[index, 0]\n",
    "    \n",
    "    the_vector = extract_image_vector(index, dataset)\n",
    "    \n",
    "    # test adding some noise to the image\n",
    "    # the_vector = add_gaussian_noise(extract_image_vector(index, dataset), std_dev=2*GAUSSIAN_NOISE_STD_DEV)\n",
    "\n",
    "    image = plt.imshow(the_vector.reshape(IMAGE_ROWS, IMAGE_ROWS).T, cmap='GnBu')\n",
    "    plt.show(image)\n",
    "    return the_class\n",
    "\n",
    "# view_one_image(4)"
   ]
  },
  {
   "cell_type": "markdown",
   "metadata": {},
   "source": [
    "### Digit To Compress And Reconstruct (CAN CHANGE THIS)"
   ]
  },
  {
   "cell_type": "code",
   "execution_count": 63,
   "metadata": {},
   "outputs": [],
   "source": [
    "DIGIT = 5"
   ]
  },
  {
   "cell_type": "markdown",
   "metadata": {},
   "source": [
    "### Gather Images To Compress With Some Added Noise"
   ]
  },
  {
   "cell_type": "code",
   "execution_count": 64,
   "metadata": {},
   "outputs": [
    {
     "name": "stdout",
     "output_type": "stream",
     "text": [
      "Training shape (6, 784)\n"
     ]
    }
   ],
   "source": [
    "training_images = np.zeros([IMAGE_SET_SIZE, IMAGE_ROWS**2])\n",
    "\n",
    "row = 0\n",
    "\n",
    "for j in range(emnist_digits.shape[0]):\n",
    "    current_digit = emnist_digits.values[j, 0]\n",
    "    if current_digit == DIGIT:\n",
    "        training_images[row, :] = add_gaussian_noise(extract_image_vector(j), GAUSSIAN_NOISE * 3)\n",
    "\n",
    "        row += 1\n",
    "\n",
    "        if row >= IMAGE_SET_SIZE:\n",
    "            break\n",
    "\n",
    "\n",
    "print(f'Training shape {training_images.shape}')"
   ]
  },
  {
   "cell_type": "markdown",
   "metadata": {},
   "source": [
    "### Test Showing A Raw Image With Noise"
   ]
  },
  {
   "cell_type": "code",
   "execution_count": 65,
   "metadata": {},
   "outputs": [
    {
     "data": {
      "image/png": "[encoded data removed]",
      "text/plain": [
       "<Figure size 640x480 with 1 Axes>"
      ]
     },
     "metadata": {},
     "output_type": "display_data"
    }
   ],
   "source": [
    "# test showing a raw image with intriduced noise\n",
    "img = plt.imshow(training_images[0, :].reshape([IMAGE_ROWS, IMAGE_ROWS]).T, cmap='GnBu')"
   ]
  },
  {
   "cell_type": "markdown",
   "metadata": {},
   "source": [
    "### Function To Plot Error VS Num of PCA Components"
   ]
  },
  {
   "cell_type": "code",
   "execution_count": 66,
   "metadata": {},
   "outputs": [],
   "source": [
    "def vary_components(image_vector, noise_level):\n",
    "    the_vector = add_gaussian_noise(image_vector, noise_level)\n",
    "    train_image = the_vector.reshape(IMAGE_ROWS,IMAGE_ROWS)\n",
    "    errors = np.zeros(IMAGE_ROWS)\n",
    "    \n",
    "    for component_count in range(2, IMAGE_ROWS):\n",
    "        v_pca_model = PCA(n_components=component_count)\n",
    "        v_pca_model.fit(train_image)\n",
    "        image_space = v_pca_model.transform(train_image)\n",
    "        image_reconstruction = v_pca_model.inverse_transform(image_space)\n",
    "        base_error = mean_square_error(the_vector, image_vector)\n",
    "        errors[component_count] =  mean_square_error(image_reconstruction.reshape(784), image_vector.reshape(784))\n",
    "\n",
    "    return errors"
   ]
  },
  {
   "cell_type": "markdown",
   "metadata": {},
   "source": [
    "### Transform Each Image In The Set And Compress"
   ]
  },
  {
   "cell_type": "code",
   "execution_count": 91,
   "metadata": {},
   "outputs": [
    {
     "data": {
      "image/png": "[encoded data removed]",
      "text/plain": [
       "<Figure size 640x480 with 3 Axes>"
      ]
     },
     "metadata": {},
     "output_type": "display_data"
    },
    {
     "data": {
      "image/png": "[encoded data removed]",
      "text/plain": [
       "<Figure size 640x480 with 3 Axes>"
      ]
     },
     "metadata": {},
     "output_type": "display_data"
    },
    {
     "data": {
      "image/png": "[encoded data removed]",
      "text/plain": [
       "<Figure size 640x480 with 3 Axes>"
      ]
     },
     "metadata": {},
     "output_type": "display_data"
    },
    {
     "data": {
      "image/png": "[encoded data removed]",
      "text/plain": [
       "<Figure size 640x480 with 3 Axes>"
      ]
     },
     "metadata": {},
     "output_type": "display_data"
    },
    {
     "data": {
      "image/png": "[encoded data removed]",
      "text/plain": [
       "<Figure size 640x480 with 3 Axes>"
      ]
     },
     "metadata": {},
     "output_type": "display_data"
    },
    {
     "data": {
      "image/png": "[encoded data removed]",
      "text/plain": [
       "<Figure size 640x480 with 3 Axes>"
      ]
     },
     "metadata": {},
     "output_type": "display_data"
    }
   ],
   "source": [
    "for row in range(IMAGE_SET_SIZE):\n",
    "\n",
    "    ''' transform each training image '''\n",
    "\n",
    "    img = training_images[row, :].reshape([IMAGE_ROWS, IMAGE_ROWS]).T\n",
    "    img_pca_model = PCA(n_components=IMAGE_ROWS)\n",
    "    img_pca_model.fit(img)\n",
    "\n",
    "    img_space = img_pca_model.transform(img)\n",
    "    # print(img_space.shape)\n",
    "\n",
    "\n",
    "    ''' inverse transform trainign images '''\n",
    "\n",
    "    img_reconstruct = img_pca_model.inverse_transform(img_space)\n",
    "    # print(img_reconstruct.shape)\n",
    "\n",
    "\n",
    "    ''' subplots for each image and reconstruction '''\n",
    "\n",
    "    # plt.subplot(1, 3, 1)\n",
    "\n",
    "    # plt.imshow(img, cmap='GnBu')\n",
    "\n",
    "    # plt.subplot(1, 3, 2)\n",
    "\n",
    "    # plt.imshow(img_reconstruct, cmap='GnBu')\n",
    "\n",
    "    # plt.subplot(1, 3, 3)\n",
    "\n",
    "    # plt.plot(range(IMAGE_ROWS), vary_components(training_images[row, :], GAUSSIAN_NOISE * 3))\n",
    "\n",
    "    fit, axes = plt.subplots(1, 3)\n",
    "    \n",
    "    axes[0].imshow(img, cmap='GnBu')\n",
    "    axes[1].imshow(img_reconstruct, cmap='GnBu')\n",
    "    axes[2].plot(range(2, IMAGE_ROWS), vary_components(training_images[row, :], GAUSSIAN_NOISE * 3)[2:])\n",
    "    \n",
    "    # print(mean_square_error(img_reconstruct.reshape(IMAGE_ROWS**2), img.reshape(IMAGE_ROWS**2)))"
   ]
  }
 ],
 "metadata": {
  "kernelspec": {
   "display_name": ".venv",
   "language": "python",
   "name": "python3"
  },
  "language_info": {
   "codemirror_mode": {
    "name": "ipython",
    "version": 3
   },
   "file_extension": ".py",
   "mimetype": "text/x-python",
   "name": "python",
   "nbconvert_exporter": "python",
   "pygments_lexer": "ipython3",
   "version": "3.12.3"
  }
 },
 "nbformat": 4,
 "nbformat_minor": 2
}

{
 "cells": [
  {
   "cell_type": "markdown",
   "metadata": {},
   "source": [
    "# Homework 7\n",
    "#### Cody Costa, David Loi"
   ]
  },
  {
   "cell_type": "markdown",
   "metadata": {},
   "source": [
    "### Problem 1:\n",
    "\n",
    "#### Import necessary module(s)"
   ]
  },
  {
   "cell_type": "code",
   "execution_count": 33,
   "metadata": {},
   "outputs": [],
   "source": [
    "import numpy as np"
   ]
  },
  {
   "cell_type": "markdown",
   "metadata": {},
   "source": [
    "### Function to generate random symmetric matrix:"
   ]
  },
  {
   "cell_type": "code",
   "execution_count": 188,
   "metadata": {},
   "outputs": [],
   "source": [
    "''' function to generate 2x2 symmetric matrix whose\n",
    "    elements are constrained to be between 0 and 10 '''\n",
    "\n",
    "size: int = 2\n",
    "max_value: int = 10\n",
    "\n",
    "def generate_symmetric_matrix(size) -> np.ndarray:\n",
    "\n",
    "    matrix: np.ndarray = np.zeros([size, size])\n",
    "\n",
    "    for element in range(size):\n",
    "\n",
    "        # diagonal matrix\n",
    "        matrix[element, element] = np.random.randint(0, max_value)\n",
    "\n",
    "        # fill it such that matrix is symmetric\n",
    "        filler = np.array([np.random.randint(0, max_value) for e in range(size - element - 1)])\n",
    "\n",
    "        matrix[element, element + 1:] = filler\n",
    "        matrix[element + 1:, element] = filler\n",
    "\n",
    "    return matrix\n",
    "\n",
    "    # verify the matrix has a nonzero determinant\n",
    "\n",
    "    # if np.linalg.det(matrix):\n",
    "    #     return matrix\n",
    "    \n",
    "    # else:\n",
    "    #     generate_symmetric_matrix(size)\n"
   ]
  },
  {
   "cell_type": "markdown",
   "metadata": {},
   "source": [
    "#### test that function works:"
   ]
  },
  {
   "cell_type": "code",
   "execution_count": 196,
   "metadata": {},
   "outputs": [
    {
     "name": "stdout",
     "output_type": "stream",
     "text": [
      "[[3. 6.]\n",
      " [6. 9.]]\n"
     ]
    }
   ],
   "source": [
    "M: np.ndarray = generate_symmetric_matrix(2)\n",
    "print(M)"
   ]
  },
  {
   "cell_type": "markdown",
   "metadata": {},
   "source": [
    "### Decomposition\n",
    "\n",
    "use the property that a matrix A can be equated to A = PDP^T where...\n",
    "\n",
    "#### D = diagonal matrix of eigenvalues\n",
    "#### P = matrix of eigenvectors"
   ]
  },
  {
   "cell_type": "code",
   "execution_count": 160,
   "metadata": {},
   "outputs": [
    {
     "name": "stdout",
     "output_type": "stream",
     "text": [
      "[-1.70820393 11.70820393] \n",
      "\n",
      "[[-0.85065081 -0.52573111]\n",
      " [ 0.52573111 -0.85065081]]\n"
     ]
    }
   ],
   "source": [
    "eigenvalues, eigenvectors = np.linalg.eig(M)\n",
    "print(eigenvalues, '\\n')\n",
    "print(eigenvectors)"
   ]
  },
  {
   "cell_type": "markdown",
   "metadata": {},
   "source": [
    "### Find SVD of matrix"
   ]
  },
  {
   "cell_type": "code",
   "execution_count": 161,
   "metadata": {},
   "outputs": [
    {
     "name": "stdout",
     "output_type": "stream",
     "text": [
      "[[-0.52573111 -0.85065081]\n",
      " [-0.85065081  0.52573111]] \n",
      "\n",
      " [11.70820393  1.70820393] \n",
      "\n",
      " [[-0.52573111 -0.85065081]\n",
      " [ 0.85065081 -0.52573111]]\n"
     ]
    }
   ],
   "source": [
    "U, S, U_T = (np.linalg.svd(M))\n",
    "print(U, '\\n\\n', S, '\\n\\n', U_T)\n"
   ]
  },
  {
   "cell_type": "markdown",
   "metadata": {},
   "source": [
    "### Define our P and D matrices"
   ]
  },
  {
   "cell_type": "code",
   "execution_count": 162,
   "metadata": {},
   "outputs": [
    {
     "name": "stdout",
     "output_type": "stream",
     "text": [
      "[[-0.85065081 -0.52573111]\n",
      " [ 0.52573111 -0.85065081]]\n"
     ]
    }
   ],
   "source": [
    "# P: np.ndarray = 1 / abs(np.min(eigenvectors)) * eigenvectors\n",
    "# P\n",
    "\n",
    "P = eigenvectors\n",
    "print(P)"
   ]
  },
  {
   "cell_type": "markdown",
   "metadata": {},
   "source": [
    "### Craft the diagonal matrix of eigenvalues D"
   ]
  },
  {
   "cell_type": "code",
   "execution_count": 163,
   "metadata": {},
   "outputs": [
    {
     "name": "stdout",
     "output_type": "stream",
     "text": [
      "[[-1.70820393  0.        ]\n",
      " [ 0.         11.70820393]]\n"
     ]
    }
   ],
   "source": [
    "D: np.ndarray = np.zeros([size, size])\n",
    "for idx, val in enumerate(S):\n",
    "    D[idx, idx] = eigenvalues[idx]\n",
    "\n",
    "print(D)"
   ]
  },
  {
   "cell_type": "code",
   "execution_count": 164,
   "metadata": {},
   "outputs": [
    {
     "name": "stdout",
     "output_type": "stream",
     "text": [
      "[[2. 6.]\n",
      " [6. 8.]] \n",
      "\n",
      "[[2. 6.]\n",
      " [6. 8.]]\n"
     ]
    }
   ],
   "source": [
    "''' test our P and D matrices are accurate via A = P D P^T '''\n",
    "\n",
    "print(P @ D @ P.T, '\\n')\n",
    "print(M)\n"
   ]
  },
  {
   "cell_type": "markdown",
   "metadata": {},
   "source": [
    "### More decomposition relations\n",
    "\n",
    "let's normalize the matrix P (eigenvectors) and establish the relation m @ V == V @ D"
   ]
  },
  {
   "cell_type": "code",
   "execution_count": 165,
   "metadata": {},
   "outputs": [
    {
     "data": {
      "text/plain": [
       "array([[-0.85065081, -0.52573111],\n",
       "       [ 0.52573111, -0.85065081]])"
      ]
     },
     "execution_count": 165,
     "metadata": {},
     "output_type": "execute_result"
    }
   ],
   "source": [
    "P"
   ]
  },
  {
   "cell_type": "code",
   "execution_count": 166,
   "metadata": {},
   "outputs": [],
   "source": [
    "''' normalize eigenvectors '''\n",
    "\n",
    "V = np.zeros([size, size])\n",
    "\n",
    "V[:, 0] = P[:, 0] / np.max(abs(P[:, 0]))\n",
    "V[:, 1] = P[:, 1] / np.max(abs(P[:, 1]))"
   ]
  },
  {
   "cell_type": "code",
   "execution_count": 167,
   "metadata": {},
   "outputs": [
    {
     "data": {
      "text/plain": [
       "array([[-1.        , -0.61803399],\n",
       "       [ 0.61803399, -1.        ]])"
      ]
     },
     "execution_count": 167,
     "metadata": {},
     "output_type": "execute_result"
    }
   ],
   "source": [
    "V"
   ]
  },
  {
   "cell_type": "code",
   "execution_count": 169,
   "metadata": {},
   "outputs": [
    {
     "name": "stdout",
     "output_type": "stream",
     "text": [
      "[[  1.71  -7.24]\n",
      " [ -1.06 -11.71]] \n",
      "\n",
      " [[  1.71  -7.24]\n",
      " [ -1.06 -11.71]]\n"
     ]
    }
   ],
   "source": [
    "''' check for correctness'''\n",
    "\n",
    "res1 = np.round(M @ V, 2)\n",
    "res2 = np.round(V @ D, 2)\n",
    "print(res1, '\\n\\n', res2)"
   ]
  },
  {
   "cell_type": "markdown",
   "metadata": {},
   "source": [
    "#### Given this relation, we can conclude the matrix V are the eigenvectors of m\n",
    "\n",
    "////////////////////////////////////////////////////////////////////////////////////////////////////////////////////////////////////////\n",
    "\n",
    "\n",
    "### Problem 2:"
   ]
  }
 ],
 "metadata": {
  "kernelspec": {
   "display_name": ".venv",
   "language": "python",
   "name": "python3"
  },
  "language_info": {
   "codemirror_mode": {
    "name": "ipython",
    "version": 3
   },
   "file_extension": ".py",
   "mimetype": "text/x-python",
   "name": "python",
   "nbconvert_exporter": "python",
   "pygments_lexer": "ipython3",
   "version": "3.12.3"
  }
 },
 "nbformat": 4,
 "nbformat_minor": 2
}

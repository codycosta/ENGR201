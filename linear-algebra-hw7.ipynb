{
 "cells": [
  {
   "cell_type": "markdown",
   "metadata": {},
   "source": [
    "# Homework 7\n",
    "#### Cody Costa, David Loi"
   ]
  },
  {
   "cell_type": "markdown",
   "metadata": {},
   "source": [
    "### Problem 1:\n",
    "\n",
    "### Import necessary module(s)"
   ]
  },
  {
   "cell_type": "code",
   "execution_count": 33,
   "metadata": {},
   "outputs": [],
   "source": [
    "import numpy as np"
   ]
  },
  {
   "cell_type": "markdown",
   "metadata": {},
   "source": [
    "### Function to generate random symmetric matrix:"
   ]
  },
  {
   "cell_type": "code",
   "execution_count": 34,
   "metadata": {},
   "outputs": [],
   "source": [
    "''' function to generate 2x2 symmetric matrix whose\n",
    "    elements are constrained to be between 0 and 10 '''\n",
    "\n",
    "size: int = 2\n",
    "max_value: int = 10\n",
    "\n",
    "def generate_symmetric_matrix(size) -> np.ndarray:\n",
    "\n",
    "    matrix: np.ndarray = np.zeros([size, size])\n",
    "\n",
    "    # diagonal matrix\n",
    "\n",
    "    for element in range(size):\n",
    "        matrix[element, element] = np.random.randint(0, max_value)\n",
    "\n",
    "    # fill it such that matrix is symmetric\n",
    "\n",
    "    for element in range(size):\n",
    "        filler = np.array([np.random.randint(0, max_value) for element in range(size - element - 1)])\n",
    "\n",
    "        matrix[element, element + 1:] = filler\n",
    "        matrix[element + 1:, element] = filler\n",
    "\n",
    "    return matrix\n",
    "\n",
    "    # verify the matrix has a real determinant\n",
    "\n",
    "    # if np.linalg.det(matrix):\n",
    "    #     return matrix\n",
    "    \n",
    "    # else:\n",
    "    #     generate_symmetric_matrix(size)\n"
   ]
  },
  {
   "cell_type": "markdown",
   "metadata": {},
   "source": [
    "test that function works:"
   ]
  },
  {
   "cell_type": "code",
   "execution_count": 79,
   "metadata": {},
   "outputs": [
    {
     "data": {
      "text/plain": [
       "array([[5., 0.],\n",
       "       [0., 9.]])"
      ]
     },
     "execution_count": 79,
     "metadata": {},
     "output_type": "execute_result"
    }
   ],
   "source": [
    "m = generate_symmetric_matrix(2)\n",
    "m"
   ]
  },
  {
   "cell_type": "markdown",
   "metadata": {},
   "source": [
    "### Decomposition\n",
    "\n",
    "use the property that a matrix A can be equated to A = PDP^T where...\n",
    "\n",
    "#### D = diagonal matrix of eigenvalues\n",
    "#### P = matrix of eigenvectors"
   ]
  },
  {
   "cell_type": "code",
   "execution_count": 80,
   "metadata": {},
   "outputs": [
    {
     "name": "stdout",
     "output_type": "stream",
     "text": [
      "[5. 9.] \n",
      "\n",
      "[[1. 0.]\n",
      " [0. 1.]]\n"
     ]
    }
   ],
   "source": [
    "eigenvalues, eigenvectors = np.linalg.eig(m)\n",
    "print(eigenvalues, '\\n')\n",
    "print(eigenvectors)"
   ]
  },
  {
   "cell_type": "markdown",
   "metadata": {},
   "source": [
    "### Find SVD of matrix"
   ]
  },
  {
   "cell_type": "code",
   "execution_count": 82,
   "metadata": {},
   "outputs": [
    {
     "name": "stdout",
     "output_type": "stream",
     "text": [
      "[[0. 1.]\n",
      " [1. 0.]] \n",
      "\n",
      " [9. 5.] \n",
      "\n",
      " [[0. 1.]\n",
      " [1. 0.]]\n"
     ]
    }
   ],
   "source": [
    "U, S, U_T = (np.linalg.svd(m))\n",
    "print(U, '\\n\\n', S, '\\n\\n', U_T)"
   ]
  },
  {
   "cell_type": "markdown",
   "metadata": {},
   "source": [
    "### Define our P and D matrices"
   ]
  },
  {
   "cell_type": "code",
   "execution_count": 87,
   "metadata": {},
   "outputs": [
    {
     "name": "stdout",
     "output_type": "stream",
     "text": [
      "[[1. 0.]\n",
      " [0. 1.]]\n"
     ]
    }
   ],
   "source": [
    "# P: np.ndarray = 1 / abs(np.min(eigenvectors)) * eigenvectors\n",
    "# P\n",
    "\n",
    "P = eigenvectors\n",
    "print(P)"
   ]
  },
  {
   "cell_type": "code",
   "execution_count": 84,
   "metadata": {},
   "outputs": [
    {
     "data": {
      "text/plain": [
       "array([[5., 0.],\n",
       "       [0., 9.]])"
      ]
     },
     "execution_count": 84,
     "metadata": {},
     "output_type": "execute_result"
    }
   ],
   "source": [
    "D: np.ndarray = np.zeros([size, size])\n",
    "D[0, 0] = eigenvalues[0]\n",
    "D[1, 1] = eigenvalues[1]\n",
    "D"
   ]
  },
  {
   "cell_type": "markdown",
   "metadata": {},
   "source": [
    "### More decomposition relations\n",
    "\n",
    "We can define the relation A = (UP) * D * (PU)^T where UP is still a matrix of eigenvectors of A\n",
    "\n",
    "Now we can normalize the columns of UP by defining another diagonal matrix Lambda that consists of singular values"
   ]
  },
  {
   "cell_type": "code",
   "execution_count": 86,
   "metadata": {},
   "outputs": [
    {
     "name": "stdout",
     "output_type": "stream",
     "text": [
      "[[0. 1.]\n",
      " [1. 0.]] \n",
      "\n",
      "[[1. 0.]\n",
      " [0. 1.]] \n",
      "\n",
      "[[0. 1.]\n",
      " [1. 0.]]\n"
     ]
    }
   ],
   "source": [
    "''' compute UP '''\n",
    "\n",
    "U_dot_P = U @ P\n",
    "print(U_dot_P, '\\n')\n",
    "\n",
    "''' define Lamdba to normalize columns '''\n",
    "\n",
    "Lambda: np.ndarray = np.zeros([size, size])\n",
    "Lambda[0, 0] = 1 /np.max(abs(U_dot_P[:, 0]))\n",
    "Lambda[1, 1] = 1 /np.max(abs(U_dot_P[:, 1]))\n",
    "\n",
    "print(Lambda, '\\n')\n",
    "\n",
    "''' normalize columns '''\n",
    "\n",
    "V: np.ndarray = U_dot_P @ Lambda\n",
    "print(V)"
   ]
  },
  {
   "cell_type": "code",
   "execution_count": 90,
   "metadata": {},
   "outputs": [
    {
     "name": "stdout",
     "output_type": "stream",
     "text": [
      "[[ True False]\n",
      " [False  True]]\n"
     ]
    }
   ],
   "source": [
    "''' check for correctness'''\n",
    "\n",
    "res = m @ V == V @ D\n",
    "print(res)"
   ]
  }
 ],
 "metadata": {
  "kernelspec": {
   "display_name": ".venv",
   "language": "python",
   "name": "python3"
  },
  "language_info": {
   "codemirror_mode": {
    "name": "ipython",
    "version": 3
   },
   "file_extension": ".py",
   "mimetype": "text/x-python",
   "name": "python",
   "nbconvert_exporter": "python",
   "pygments_lexer": "ipython3",
   "version": "3.12.3"
  }
 },
 "nbformat": 4,
 "nbformat_minor": 2
}

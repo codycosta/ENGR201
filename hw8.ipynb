{
 "cells": [
  {
   "cell_type": "markdown",
   "metadata": {},
   "source": [
    "# Homework 8 Notebook\n",
    "### Cody Costa, David Loi"
   ]
  },
  {
   "cell_type": "code",
   "execution_count": 36,
   "metadata": {},
   "outputs": [],
   "source": [
    "import numpy as np\n",
    "import pandas as pd\n",
    "import math\n",
    "import matplotlib.pyplot as plt\n",
    "import scipy.stats as stats\n",
    "import os"
   ]
  },
  {
   "cell_type": "markdown",
   "metadata": {},
   "source": [
    "#### Load Data to Analyze"
   ]
  },
  {
   "cell_type": "code",
   "execution_count": 37,
   "metadata": {},
   "outputs": [
    {
     "data": {
      "text/html": [
       "<div>\n",
       "<style scoped>\n",
       "    .dataframe tbody tr th:only-of-type {\n",
       "        vertical-align: middle;\n",
       "    }\n",
       "\n",
       "    .dataframe tbody tr th {\n",
       "        vertical-align: top;\n",
       "    }\n",
       "\n",
       "    .dataframe thead th {\n",
       "        text-align: right;\n",
       "    }\n",
       "</style>\n",
       "<table border=\"1\" class=\"dataframe\">\n",
       "  <thead>\n",
       "    <tr style=\"text-align: right;\">\n",
       "      <th></th>\n",
       "      <th>0</th>\n",
       "      <th>1</th>\n",
       "      <th>2</th>\n",
       "      <th>3</th>\n",
       "      <th>4</th>\n",
       "      <th>5</th>\n",
       "      <th>6</th>\n",
       "      <th>7</th>\n",
       "      <th>8</th>\n",
       "      <th>9</th>\n",
       "      <th>...</th>\n",
       "      <th>775</th>\n",
       "      <th>776</th>\n",
       "      <th>777</th>\n",
       "      <th>778</th>\n",
       "      <th>779</th>\n",
       "      <th>780</th>\n",
       "      <th>781</th>\n",
       "      <th>782</th>\n",
       "      <th>783</th>\n",
       "      <th>784</th>\n",
       "    </tr>\n",
       "  </thead>\n",
       "  <tbody>\n",
       "    <tr>\n",
       "      <th>0</th>\n",
       "      <td>0</td>\n",
       "      <td>0</td>\n",
       "      <td>0</td>\n",
       "      <td>0</td>\n",
       "      <td>0</td>\n",
       "      <td>0</td>\n",
       "      <td>0</td>\n",
       "      <td>0</td>\n",
       "      <td>0</td>\n",
       "      <td>0</td>\n",
       "      <td>...</td>\n",
       "      <td>0</td>\n",
       "      <td>0</td>\n",
       "      <td>0</td>\n",
       "      <td>0</td>\n",
       "      <td>0</td>\n",
       "      <td>0</td>\n",
       "      <td>0</td>\n",
       "      <td>0</td>\n",
       "      <td>0</td>\n",
       "      <td>0</td>\n",
       "    </tr>\n",
       "    <tr>\n",
       "      <th>1</th>\n",
       "      <td>9</td>\n",
       "      <td>0</td>\n",
       "      <td>0</td>\n",
       "      <td>0</td>\n",
       "      <td>0</td>\n",
       "      <td>0</td>\n",
       "      <td>0</td>\n",
       "      <td>0</td>\n",
       "      <td>0</td>\n",
       "      <td>0</td>\n",
       "      <td>...</td>\n",
       "      <td>0</td>\n",
       "      <td>0</td>\n",
       "      <td>0</td>\n",
       "      <td>0</td>\n",
       "      <td>0</td>\n",
       "      <td>0</td>\n",
       "      <td>0</td>\n",
       "      <td>0</td>\n",
       "      <td>0</td>\n",
       "      <td>0</td>\n",
       "    </tr>\n",
       "    <tr>\n",
       "      <th>2</th>\n",
       "      <td>7</td>\n",
       "      <td>0</td>\n",
       "      <td>0</td>\n",
       "      <td>0</td>\n",
       "      <td>0</td>\n",
       "      <td>0</td>\n",
       "      <td>0</td>\n",
       "      <td>0</td>\n",
       "      <td>0</td>\n",
       "      <td>0</td>\n",
       "      <td>...</td>\n",
       "      <td>0</td>\n",
       "      <td>0</td>\n",
       "      <td>0</td>\n",
       "      <td>0</td>\n",
       "      <td>0</td>\n",
       "      <td>0</td>\n",
       "      <td>0</td>\n",
       "      <td>0</td>\n",
       "      <td>0</td>\n",
       "      <td>0</td>\n",
       "    </tr>\n",
       "    <tr>\n",
       "      <th>3</th>\n",
       "      <td>9</td>\n",
       "      <td>0</td>\n",
       "      <td>0</td>\n",
       "      <td>0</td>\n",
       "      <td>0</td>\n",
       "      <td>0</td>\n",
       "      <td>0</td>\n",
       "      <td>0</td>\n",
       "      <td>0</td>\n",
       "      <td>0</td>\n",
       "      <td>...</td>\n",
       "      <td>0</td>\n",
       "      <td>0</td>\n",
       "      <td>0</td>\n",
       "      <td>0</td>\n",
       "      <td>0</td>\n",
       "      <td>0</td>\n",
       "      <td>0</td>\n",
       "      <td>0</td>\n",
       "      <td>0</td>\n",
       "      <td>0</td>\n",
       "    </tr>\n",
       "    <tr>\n",
       "      <th>4</th>\n",
       "      <td>2</td>\n",
       "      <td>0</td>\n",
       "      <td>0</td>\n",
       "      <td>0</td>\n",
       "      <td>0</td>\n",
       "      <td>0</td>\n",
       "      <td>0</td>\n",
       "      <td>0</td>\n",
       "      <td>0</td>\n",
       "      <td>0</td>\n",
       "      <td>...</td>\n",
       "      <td>0</td>\n",
       "      <td>0</td>\n",
       "      <td>0</td>\n",
       "      <td>0</td>\n",
       "      <td>0</td>\n",
       "      <td>0</td>\n",
       "      <td>0</td>\n",
       "      <td>0</td>\n",
       "      <td>0</td>\n",
       "      <td>0</td>\n",
       "    </tr>\n",
       "  </tbody>\n",
       "</table>\n",
       "<p>5 rows × 785 columns</p>\n",
       "</div>"
      ],
      "text/plain": [
       "   0    1    2    3    4    5    6    7    8    9    ...  775  776  777  778  \\\n",
       "0    0    0    0    0    0    0    0    0    0    0  ...    0    0    0    0   \n",
       "1    9    0    0    0    0    0    0    0    0    0  ...    0    0    0    0   \n",
       "2    7    0    0    0    0    0    0    0    0    0  ...    0    0    0    0   \n",
       "3    9    0    0    0    0    0    0    0    0    0  ...    0    0    0    0   \n",
       "4    2    0    0    0    0    0    0    0    0    0  ...    0    0    0    0   \n",
       "\n",
       "   779  780  781  782  783  784  \n",
       "0    0    0    0    0    0    0  \n",
       "1    0    0    0    0    0    0  \n",
       "2    0    0    0    0    0    0  \n",
       "3    0    0    0    0    0    0  \n",
       "4    0    0    0    0    0    0  \n",
       "\n",
       "[5 rows x 785 columns]"
      ]
     },
     "execution_count": 37,
     "metadata": {},
     "output_type": "execute_result"
    }
   ],
   "source": [
    "data = pd.read_csv('emnist-digits-test.csv', header=None, sep=',', dtype='uint')\n",
    "data.head()"
   ]
  },
  {
   "cell_type": "markdown",
   "metadata": {},
   "source": [
    "#### Filter data into suggested usable set (sum of each row in the table)"
   ]
  },
  {
   "cell_type": "code",
   "execution_count": 38,
   "metadata": {},
   "outputs": [
    {
     "data": {
      "text/plain": [
       "0        40376\n",
       "1        21547\n",
       "2        35224\n",
       "3        39065\n",
       "4        45823\n",
       "         ...  \n",
       "39995    30171\n",
       "39996    30904\n",
       "39997    37759\n",
       "39998    23020\n",
       "39999    32676\n",
       "Length: 40000, dtype: uint64"
      ]
     },
     "execution_count": 38,
     "metadata": {},
     "output_type": "execute_result"
    }
   ],
   "source": [
    "row_sums = np.sum(data, axis=1)\n",
    "row_sums"
   ]
  },
  {
   "cell_type": "markdown",
   "metadata": {},
   "source": [
    "#### Visualize Data"
   ]
  },
  {
   "cell_type": "code",
   "execution_count": 39,
   "metadata": {},
   "outputs": [
    {
     "data": {
      "image/png": "[encoded data removed]",
      "text/plain": [
       "<Figure size 640x480 with 1 Axes>"
      ]
     },
     "metadata": {},
     "output_type": "display_data"
    }
   ],
   "source": [
    "plt.hist(row_sums, bins=100)\n",
    "plt.title('Distribution of Row Sums')\n",
    "plt.show()"
   ]
  },
  {
   "cell_type": "markdown",
   "metadata": {},
   "source": [
    "# Part 1\n",
    "#### Compute Mean and Variance"
   ]
  },
  {
   "cell_type": "code",
   "execution_count": 40,
   "metadata": {},
   "outputs": [],
   "source": [
    "MEAN = np.round(np.mean(row_sums), 1)\n",
    "VARIANCE = np.round(np.var(row_sums), 1)"
   ]
  },
  {
   "cell_type": "code",
   "execution_count": 41,
   "metadata": {},
   "outputs": [
    {
     "data": {
      "text/plain": [
       "(34698.3, 99515279.6)"
      ]
     },
     "execution_count": 41,
     "metadata": {},
     "output_type": "execute_result"
    }
   ],
   "source": [
    "MEAN, VARIANCE"
   ]
  },
  {
   "cell_type": "markdown",
   "metadata": {},
   "source": [
    "# Part 2\n",
    "#### For a Sample Size of 50, Calculate 1000 random reps of the MEAN, and estimate the VARIANCE"
   ]
  },
  {
   "cell_type": "code",
   "execution_count": 42,
   "metadata": {},
   "outputs": [],
   "source": [
    "sample_size = 50\n",
    "num_runs = 1000\n",
    "\n",
    "random_mean_vals = np.zeros(num_runs)\n",
    "random_variance_vals = np.zeros(num_runs)\n",
    "\n",
    "for j in range(num_runs):\n",
    "    sample_set = np.zeros(sample_size)\n",
    "\n",
    "    for k in range(sample_size):\n",
    "        sample_set[k] = row_sums[np.random.randint(0, row_sums.shape[0])]\n",
    "\n",
    "    random_mean_vals[j] = np.mean(sample_set)\n",
    "    random_variance_vals[j] = np.var(sample_set)"
   ]
  },
  {
   "cell_type": "code",
   "execution_count": 43,
   "metadata": {},
   "outputs": [
    {
     "data": {
      "text/plain": [
       "((1000,), (1000,))"
      ]
     },
     "execution_count": 43,
     "metadata": {},
     "output_type": "execute_result"
    }
   ],
   "source": [
    "random_mean_vals.shape, random_variance_vals.shape"
   ]
  },
  {
   "cell_type": "code",
   "execution_count": 44,
   "metadata": {},
   "outputs": [
    {
     "data": {
      "text/plain": [
       "array([34036.  , 35341.18, 35948.52, 35125.76, 32902.74, 33651.32,\n",
       "       35079.54, 36071.22, 35866.3 , 32977.  , 36572.16, 34821.26,\n",
       "       34384.12, 36611.34, 33655.56, 34563.14, 35479.28, 34462.42,\n",
       "       34062.08, 34574.86, 34210.96, 34997.14, 36257.48, 35475.4 ,\n",
       "       35767.8 , 35443.56, 34108.72, 36549.86, 33022.26, 33618.88,\n",
       "       32835.68, 33367.44, 35308.24, 34015.06, 34178.56, 34354.92,\n",
       "       34408.7 , 34931.04, 34719.46, 33323.16, 32697.9 , 34472.84,\n",
       "       37556.1 , 34836.64, 34081.  , 34108.82, 35661.68, 33647.34,\n",
       "       36805.8 , 36147.6 , 35037.74, 32688.2 , 36998.18, 34217.62,\n",
       "       35951.96, 37163.12, 33219.86, 34052.98, 34137.72, 35715.66,\n",
       "       33466.36, 35062.06, 34899.46, 36256.32, 35826.82, 36642.02,\n",
       "       35477.  , 33970.58, 33419.38, 36379.66, 33981.2 , 33749.94,\n",
       "       32860.48, 37357.74, 32489.62, 33258.12, 35180.5 , 33222.56,\n",
       "       31415.26, 33669.58, 35411.24, 34048.28, 35325.76, 35514.44,\n",
       "       37322.96, 32875.9 , 35895.26, 34880.5 , 34461.42, 33433.74,\n",
       "       36153.62, 36915.52, 34650.84, 35127.36, 33837.14, 29923.08,\n",
       "       34263.5 , 34780.7 , 33883.68, 35385.68, 34431.96, 35621.38,\n",
       "       32787.74, 34237.66, 35606.26, 35933.  , 34600.52, 35619.4 ,\n",
       "       31770.04, 35982.96, 34720.24, 34939.28, 34615.48, 34858.84,\n",
       "       35978.9 , 34895.18, 36645.8 , 34073.86, 35554.72, 36331.36,\n",
       "       34636.04, 34724.62, 34671.1 , 31459.88, 34111.9 , 37358.3 ,\n",
       "       34700.06, 35284.76, 33874.84, 34354.1 , 34688.1 , 32671.48,\n",
       "       34429.06, 31556.56, 36143.06, 34226.2 , 36012.92, 32534.9 ,\n",
       "       34742.24, 35812.64, 32843.64, 37232.18, 35547.24, 35065.9 ,\n",
       "       35525.78, 32754.5 , 34484.24, 33262.48, 32485.62, 35217.78,\n",
       "       33590.38, 34398.  , 34121.  , 33763.02, 37036.52, 37258.88,\n",
       "       35171.74, 33603.18, 35147.72, 33165.88, 35776.08, 32630.6 ,\n",
       "       32559.76, 35739.06, 33302.  , 35118.78, 36177.16, 35295.72,\n",
       "       33468.08, 32003.84, 34900.42, 33953.06, 34512.04, 34415.88,\n",
       "       33391.86, 34886.56, 33672.62, 34752.6 , 35863.66, 35992.32,\n",
       "       34836.94, 35961.24, 35842.54, 36123.28, 35028.06, 34498.62,\n",
       "       35322.34, 34766.96, 32787.32, 34671.8 , 34943.46, 33256.9 ,\n",
       "       32500.6 , 35830.28, 35495.5 , 35335.72, 36769.04, 33123.36,\n",
       "       33006.3 , 34026.14, 33264.92, 33109.16, 33566.2 , 35960.28,\n",
       "       32979.94, 33710.12, 35082.4 , 32508.02, 30364.1 , 33609.86,\n",
       "       35923.66, 36450.5 , 32913.52, 32756.94, 35509.06, 33698.22,\n",
       "       33804.16, 34791.28, 34048.54, 34392.2 , 35052.92, 33427.92,\n",
       "       34752.88, 34165.  , 34742.6 , 34129.16, 34057.72, 34681.52,\n",
       "       33636.5 , 34167.66, 32667.88, 34367.32, 36644.36, 36502.98,\n",
       "       34010.72, 36558.86, 36143.98, 36404.44, 34463.42, 34161.78,\n",
       "       34556.52, 36536.96, 35021.26, 37029.46, 37635.86, 34353.74,\n",
       "       36933.98, 32537.96, 33040.  , 31982.46, 36603.92, 34324.3 ,\n",
       "       37010.2 , 33215.42, 36210.34, 35818.64, 35758.82, 36044.72,\n",
       "       32688.96, 35158.14, 36438.48, 33828.54, 33565.58, 37239.56,\n",
       "       35444.04, 34550.42, 33345.44, 35552.46, 34204.64, 34169.8 ,\n",
       "       34006.56, 35637.04, 33596.76, 33175.72, 35367.48, 34074.04,\n",
       "       36212.42, 36343.54, 30905.72, 35129.02, 38674.2 , 36881.22,\n",
       "       37184.12, 34931.32, 36482.32, 35375.82, 34935.52, 33581.58,\n",
       "       33001.56, 34747.58, 35172.44, 34291.46, 34061.22, 35646.1 ,\n",
       "       36160.08, 35532.9 , 34468.12, 34102.92, 35378.06, 34782.46,\n",
       "       34520.28, 35935.68, 34427.88, 35056.34, 32706.34, 34544.48,\n",
       "       34903.72, 36601.4 , 33951.06, 34216.3 , 34545.4 , 35007.82,\n",
       "       35745.74, 35374.38, 36930.38, 35529.56, 35126.02, 33155.66,\n",
       "       33358.5 , 34558.4 , 37768.1 , 36965.4 , 33392.46, 35628.84,\n",
       "       35867.7 , 35821.66, 35202.68, 35456.02, 35811.96, 34771.28,\n",
       "       33895.7 , 32329.16, 36619.02, 33211.94, 32829.44, 33206.36,\n",
       "       35357.24, 34897.96, 35266.12, 33439.94, 33293.62, 34753.56,\n",
       "       35004.2 , 36613.  , 38207.26, 34313.44, 35325.82, 35030.62,\n",
       "       33695.52, 34692.66, 33819.54, 37174.7 , 34200.92, 33412.48,\n",
       "       33333.84, 36609.02, 33502.26, 34261.8 , 34780.78, 36096.42,\n",
       "       33090.1 , 34732.46, 33782.6 , 38141.86, 35891.66, 35371.6 ,\n",
       "       35533.4 , 35054.38, 36723.68, 34176.78, 34064.42, 35971.2 ,\n",
       "       34311.3 , 35444.1 , 33921.66, 34357.2 , 34965.34, 33803.5 ,\n",
       "       34655.5 , 37114.96, 32530.  , 34409.92, 31033.74, 33575.82,\n",
       "       36081.  , 33495.6 , 34314.32, 35007.48, 34136.96, 35957.64,\n",
       "       34732.46, 34533.2 , 35893.62, 34195.08, 34895.34, 35610.98,\n",
       "       33302.14, 34541.72, 36654.5 , 33867.6 , 36451.58, 33915.22,\n",
       "       35623.48, 36524.22, 33625.74, 32880.58, 33790.26, 34837.96,\n",
       "       34946.64, 34021.16, 35522.54, 32449.42, 33544.62, 37249.32,\n",
       "       35643.06, 34751.92, 36029.54, 33448.92, 33996.24, 36180.26,\n",
       "       36601.8 , 34515.66, 36324.96, 35999.84, 36590.42, 33920.48,\n",
       "       35261.9 , 36947.84, 35547.04, 35254.04, 33804.64, 35619.98,\n",
       "       36407.34, 34971.54, 35375.94, 34981.32, 34593.02, 38011.56,\n",
       "       37424.14, 36003.46, 33449.04, 34666.26, 36873.82, 37152.54,\n",
       "       33225.14, 35813.18, 34388.98, 34126.  , 33087.26, 35245.62,\n",
       "       33609.34, 34569.04, 35425.42, 34743.9 , 33356.12, 33774.24,\n",
       "       35172.84, 33261.36, 33758.24, 33004.46, 34369.2 , 34247.38,\n",
       "       33880.96, 35942.38, 36906.2 , 33625.38, 37254.22, 35750.1 ,\n",
       "       36081.48, 34367.34, 34591.1 , 33348.8 , 33282.62, 33968.24,\n",
       "       37050.56, 33525.08, 37205.12, 34492.66, 35678.76, 36559.42,\n",
       "       33266.7 , 34304.28, 31639.14, 34983.44, 34100.06, 33395.26,\n",
       "       36445.7 , 33528.86, 35713.44, 32803.54, 34785.98, 32920.5 ,\n",
       "       34137.1 , 31740.1 , 36048.82, 33246.16, 31495.2 , 36513.06,\n",
       "       37945.58, 36408.58, 34520.68, 34304.26, 34740.88, 35474.32,\n",
       "       34616.24, 32723.82, 32397.5 , 36796.76, 34017.12, 35718.02,\n",
       "       34435.36, 33833.72, 34508.32, 33753.3 , 33275.9 , 35675.6 ,\n",
       "       33669.04, 33497.62, 35848.48, 34288.16, 34801.88, 35865.82,\n",
       "       34548.66, 33485.74, 32982.56, 36036.52, 34460.56, 34448.04,\n",
       "       35561.12, 30887.8 , 33008.38, 31944.08, 34793.54, 33616.14,\n",
       "       34982.34, 34570.24, 32461.56, 36182.84, 34496.78, 33369.98,\n",
       "       34355.22, 35503.74, 34728.08, 35566.66, 33601.42, 36923.78,\n",
       "       36706.94, 35274.6 , 34422.72, 35151.68, 33989.9 , 32202.54,\n",
       "       33356.76, 33458.18, 32917.06, 34142.14, 32519.96, 35636.96,\n",
       "       34992.72, 33254.2 , 33177.38, 35881.14, 34818.  , 35688.6 ,\n",
       "       35258.1 , 36359.4 , 35148.78, 37245.36, 37690.34, 32941.74,\n",
       "       36504.58, 35371.54, 37830.56, 35466.9 , 33853.5 , 35268.24,\n",
       "       33851.9 , 35309.06, 35830.04, 38845.9 , 35771.06, 34144.54,\n",
       "       32551.38, 34338.1 , 32699.06, 36787.92, 35254.54, 34174.92,\n",
       "       34287.  , 34535.36, 33729.38, 36584.38, 34661.02, 32460.78,\n",
       "       34904.74, 34511.82, 35567.5 , 35877.18, 35208.22, 37184.12,\n",
       "       35919.86, 35637.64, 34522.16, 34898.34, 34099.62, 33260.54,\n",
       "       33843.62, 33401.94, 34871.46, 32978.58, 36252.7 , 35475.56,\n",
       "       31702.6 , 34615.  , 36172.26, 34202.74, 34864.08, 34932.32,\n",
       "       33161.06, 33746.5 , 34148.62, 33136.06, 36446.36, 36431.28,\n",
       "       36433.58, 33847.94, 32990.7 , 36060.54, 36206.34, 32777.88,\n",
       "       34787.86, 35655.96, 35199.5 , 34142.92, 32841.26, 35123.78,\n",
       "       34433.56, 35458.1 , 32381.44, 33644.56, 33553.16, 35037.68,\n",
       "       34288.04, 33744.32, 34258.72, 35714.32, 33590.12, 35845.04,\n",
       "       35085.08, 37083.12, 33838.28, 35980.68, 36184.88, 36330.64,\n",
       "       34264.04, 32679.68, 34804.02, 35676.16, 35814.7 , 32497.08,\n",
       "       35269.98, 34088.86, 33571.2 , 36091.06, 34262.7 , 35910.96,\n",
       "       32329.42, 33903.52, 33003.22, 35888.34, 34520.04, 35499.7 ,\n",
       "       32738.04, 34951.76, 33903.12, 33994.58, 32379.86, 33674.94,\n",
       "       34223.82, 34724.22, 34889.82, 36239.78, 37051.56, 34061.1 ,\n",
       "       32421.6 , 34870.78, 33629.84, 35831.58, 33920.72, 33511.7 ,\n",
       "       35675.5 , 34664.56, 34693.8 , 35945.12, 32239.72, 35245.2 ,\n",
       "       35621.44, 35004.98, 33071.3 , 35695.54, 35303.06, 35966.42,\n",
       "       33986.16, 34253.18, 34777.66, 35861.66, 34571.04, 33687.5 ,\n",
       "       35037.92, 34121.04, 37018.48, 33258.5 , 32923.1 , 34714.82,\n",
       "       33338.56, 35898.74, 34567.02, 32021.36, 34168.28, 33778.88,\n",
       "       33403.96, 34272.06, 35104.58, 34657.34, 36494.04, 35851.4 ,\n",
       "       35174.9 , 35565.72, 36521.32, 34457.88, 32145.76, 36370.9 ,\n",
       "       34185.56, 32685.24, 32591.02, 35352.68, 35404.28, 33874.26,\n",
       "       34722.54, 34530.88, 33071.28, 36505.4 , 34403.96, 33516.98,\n",
       "       34535.96, 35235.96, 35769.54, 35459.48, 37535.78, 36227.08,\n",
       "       33913.2 , 34638.52, 34936.  , 34474.24, 33291.28, 34889.64,\n",
       "       34185.04, 35140.52, 34456.04, 32809.52, 37290.58, 34437.56,\n",
       "       35142.  , 34865.96, 34615.2 , 35400.56, 33629.56, 35598.1 ,\n",
       "       33551.74, 35283.92, 35557.82, 34436.34, 34319.9 , 31371.44,\n",
       "       31914.86, 32582.8 , 34920.28, 35174.86, 34650.38, 34779.24,\n",
       "       35204.18, 33957.78, 32661.94, 34505.02, 36899.12, 33910.74,\n",
       "       35213.76, 34360.82, 35046.24, 36042.24, 36870.74, 37697.78,\n",
       "       35235.32, 35147.54, 34874.62, 33175.28, 32556.54, 35774.26,\n",
       "       37158.76, 33878.7 , 34509.26, 33470.54, 33253.34, 35664.08,\n",
       "       33664.34, 34876.42, 34736.38, 33778.  , 33845.36, 35427.92,\n",
       "       33930.68, 33382.56, 33987.74, 32968.34, 36114.58, 35820.4 ,\n",
       "       35681.16, 34275.16, 35302.46, 32737.36, 32855.82, 34409.42,\n",
       "       34564.94, 36816.54, 32949.56, 37343.6 , 34127.92, 36436.22,\n",
       "       36317.04, 32131.68, 35024.02, 35252.72, 30753.22, 35496.46,\n",
       "       34314.42, 34745.32, 34781.54, 34097.52, 34175.  , 34704.62,\n",
       "       31671.6 , 35589.46, 33459.34, 35384.82, 34470.36, 36288.8 ,\n",
       "       34746.98, 35676.4 , 35567.04, 35596.44, 31742.86, 35544.14,\n",
       "       34040.3 , 33820.2 , 35630.88, 33519.2 , 35735.32, 36146.3 ,\n",
       "       34381.78, 37092.06, 33291.2 , 36213.4 , 34699.14, 34050.22,\n",
       "       32253.3 , 36085.4 , 34250.7 , 37585.36, 36092.24, 37712.56,\n",
       "       36399.88, 34233.36, 35055.8 , 36144.88, 35484.5 , 33575.34,\n",
       "       34907.58, 34167.4 , 32851.4 , 33479.84, 35030.38, 34371.86,\n",
       "       34141.42, 36437.36, 34102.3 , 34627.66, 33598.  , 34435.74,\n",
       "       34906.66, 34441.98, 37586.96, 34422.  , 35201.9 , 34203.76,\n",
       "       35172.66, 36664.6 , 35793.98, 35586.52, 36088.1 , 36919.86,\n",
       "       33002.42, 36061.92, 33900.38, 34154.44, 35990.86, 37216.38,\n",
       "       31973.64, 35222.98, 34632.28, 35162.7 , 36133.36, 33321.84,\n",
       "       34250.5 , 37012.02, 36055.58, 33312.66, 33888.94, 33275.18,\n",
       "       35417.78, 35689.84, 35388.02, 35515.16, 34809.04, 32875.92,\n",
       "       34405.58, 35336.86, 32808.98, 34648.36, 33845.9 , 36005.5 ,\n",
       "       34081.82, 34197.3 , 35874.66, 35361.02, 33719.5 , 33943.6 ,\n",
       "       33679.16, 35064.52, 33346.  , 34092.82, 32146.12, 35057.7 ,\n",
       "       35047.12, 34713.66, 35420.92, 34238.62, 32587.12, 34041.8 ,\n",
       "       34370.1 , 33752.64, 35871.08, 33099.82, 34758.96, 35340.84,\n",
       "       32615.5 , 32574.48, 34411.6 , 33343.1 , 34398.76, 35386.58,\n",
       "       34899.46, 33325.48, 33017.62, 35015.42, 38498.74, 32723.48,\n",
       "       32823.12, 32418.02, 34665.76, 36699.1 , 35567.82, 34156.32,\n",
       "       31457.7 , 35102.9 , 33092.8 , 33790.34, 35811.3 , 35676.64,\n",
       "       32138.5 , 34691.64, 37727.  , 34479.26, 33847.64, 34056.24,\n",
       "       33700.04, 32942.68, 32728.46, 32704.72, 33413.16, 33833.98,\n",
       "       35061.36, 32701.2 , 32756.74, 37017.6 , 34557.1 , 34880.52,\n",
       "       35329.86, 33227.82, 35866.3 , 34131.98])"
      ]
     },
     "execution_count": 44,
     "metadata": {},
     "output_type": "execute_result"
    }
   ],
   "source": [
    "random_mean_vals"
   ]
  },
  {
   "cell_type": "code",
   "execution_count": 45,
   "metadata": {},
   "outputs": [
    {
     "data": {
      "text/plain": [
       "array([9.10113077e+07, 1.19442035e+08, 8.99424698e+07, 8.53384117e+07,\n",
       "       7.87917379e+07, 9.42837104e+07, 1.25514213e+08, 1.35646761e+08,\n",
       "       9.58808690e+07, 8.22413081e+07, 6.44202113e+07, 8.51284402e+07,\n",
       "       7.78810959e+07, 8.43922738e+07, 1.44738041e+08, 1.13372018e+08,\n",
       "       1.28328208e+08, 5.60514289e+07, 9.67463988e+07, 8.25398527e+07,\n",
       "       8.36512444e+07, 8.79518182e+07, 8.75541932e+07, 1.39568845e+08,\n",
       "       8.68969165e+07, 8.97440648e+07, 1.13849402e+08, 7.98124413e+07,\n",
       "       1.27417142e+08, 8.97891442e+07, 9.91816165e+07, 1.18546144e+08,\n",
       "       1.24870453e+08, 1.16004886e+08, 9.50155526e+07, 9.23580832e+07,\n",
       "       1.02342335e+08, 9.41114870e+07, 1.04310691e+08, 1.18443256e+08,\n",
       "       7.80197220e+07, 5.89479520e+07, 1.07652070e+08, 9.61072150e+07,\n",
       "       1.08797881e+08, 8.86212860e+07, 9.41808899e+07, 8.48033110e+07,\n",
       "       1.27822900e+08, 1.06593565e+08, 8.14430006e+07, 8.11810004e+07,\n",
       "       9.95085377e+07, 8.60595230e+07, 1.28750260e+08, 1.36073991e+08,\n",
       "       1.83241470e+08, 9.64073324e+07, 1.00018724e+08, 7.94728943e+07,\n",
       "       7.41797820e+07, 8.83244278e+07, 9.96598942e+07, 6.17801456e+07,\n",
       "       9.75871908e+07, 6.85839029e+07, 9.39967862e+07, 7.74227144e+07,\n",
       "       8.62291667e+07, 7.69868009e+07, 8.39353678e+07, 9.33457021e+07,\n",
       "       1.00706688e+08, 8.61320612e+07, 1.08395754e+08, 8.18571771e+07,\n",
       "       7.72385573e+07, 1.14164500e+08, 8.30341142e+07, 8.07971179e+07,\n",
       "       8.45114227e+07, 5.46840030e+07, 1.36642577e+08, 8.18773014e+07,\n",
       "       7.62836214e+07, 7.14925008e+07, 1.11975640e+08, 9.28629262e+07,\n",
       "       9.56817828e+07, 6.75892358e+07, 7.24069350e+07, 1.02987728e+08,\n",
       "       7.90278952e+07, 9.18092589e+07, 9.60608048e+07, 7.23763187e+07,\n",
       "       9.08615781e+07, 9.22782200e+07, 9.46012299e+07, 8.14208474e+07,\n",
       "       7.32911777e+07, 1.32581161e+08, 1.24337149e+08, 9.39609595e+07,\n",
       "       9.13468518e+07, 9.25312577e+07, 9.97771619e+07, 9.37138479e+07,\n",
       "       6.88928640e+07, 1.05158486e+08, 9.79085976e+07, 9.38646926e+07,\n",
       "       1.07137376e+08, 8.38322879e+07, 7.96496082e+07, 1.04008873e+08,\n",
       "       1.07762917e+08, 1.41088261e+08, 8.63822662e+07, 8.48057656e+07,\n",
       "       9.29416098e+07, 7.47016997e+07, 1.03906396e+08, 9.93419768e+07,\n",
       "       8.08904589e+07, 8.06885131e+07, 5.57680472e+07, 1.24819700e+08,\n",
       "       1.12884648e+08, 1.01632112e+08, 1.12913296e+08, 1.00093059e+08,\n",
       "       7.77285412e+07, 1.10709018e+08, 6.97162985e+07, 1.17145578e+08,\n",
       "       8.12096268e+07, 1.11259193e+08, 1.35615592e+08, 1.30343361e+08,\n",
       "       1.04602585e+08, 1.28474774e+08, 9.39995381e+07, 7.05085853e+07,\n",
       "       9.68473567e+07, 1.02145599e+08, 1.25254577e+08, 1.06005050e+08,\n",
       "       1.17061736e+08, 1.26791146e+08, 8.05402976e+07, 7.74092818e+07,\n",
       "       1.06651049e+08, 8.28720614e+07, 9.50130882e+07, 7.76972710e+07,\n",
       "       9.38690456e+07, 1.12987822e+08, 7.06172294e+07, 9.54251414e+07,\n",
       "       9.45027520e+07, 1.00788168e+08, 8.93423614e+07, 6.60944366e+07,\n",
       "       1.00414480e+08, 8.15345410e+07, 1.30600560e+08, 1.28919981e+08,\n",
       "       8.87874957e+07, 7.07473155e+07, 7.91092380e+07, 8.60000410e+07,\n",
       "       8.38531498e+07, 8.59651273e+07, 9.67587254e+07, 1.31741659e+08,\n",
       "       9.36937316e+07, 1.10514837e+08, 1.18236978e+08, 1.55619273e+08,\n",
       "       1.06580457e+08, 8.18178177e+07, 9.64175056e+07, 8.75231895e+07,\n",
       "       8.35221422e+07, 2.24321923e+08, 8.68754906e+07, 1.25427186e+08,\n",
       "       8.42438277e+07, 8.33817391e+07, 6.88025268e+07, 7.26786397e+07,\n",
       "       7.63451072e+07, 1.19550400e+08, 8.43539525e+07, 1.06091687e+08,\n",
       "       1.84079469e+08, 8.64899648e+07, 6.50354402e+07, 1.16418486e+08,\n",
       "       1.09459401e+08, 8.74263900e+07, 7.43292172e+07, 1.36981104e+08,\n",
       "       5.28127934e+07, 8.12606817e+07, 9.44065387e+07, 7.10140622e+07,\n",
       "       8.30728892e+07, 1.11986167e+08, 9.72855484e+07, 8.78223071e+07,\n",
       "       9.13719374e+07, 8.05217178e+07, 1.01930893e+08, 1.15590691e+08,\n",
       "       1.02796904e+08, 6.72808563e+07, 1.06872530e+08, 6.96074331e+07,\n",
       "       5.44466410e+07, 7.83918440e+07, 8.78801877e+07, 8.97401280e+07,\n",
       "       8.30049090e+07, 1.07771732e+08, 7.75161914e+07, 8.79015984e+07,\n",
       "       8.23025107e+07, 1.08329630e+08, 8.68369591e+07, 7.42125525e+07,\n",
       "       1.19789399e+08, 9.04637735e+07, 1.43510864e+08, 1.13216359e+08,\n",
       "       1.27462588e+08, 1.12747277e+08, 7.11452941e+07, 1.08837357e+08,\n",
       "       9.61521983e+07, 9.22375339e+07, 9.59696083e+07, 1.03487033e+08,\n",
       "       9.06198686e+07, 7.71111534e+07, 1.26491231e+08, 9.31807271e+07,\n",
       "       9.20687909e+07, 9.34357806e+07, 8.52345265e+07, 9.87021901e+07,\n",
       "       1.14944141e+08, 7.62912563e+07, 1.02714665e+08, 9.22101262e+07,\n",
       "       7.30140976e+07, 1.12375858e+08, 1.02768647e+08, 1.01196483e+08,\n",
       "       1.01962215e+08, 1.09122819e+08, 1.08998727e+08, 8.79499568e+07,\n",
       "       1.14465853e+08, 1.34925981e+08, 9.72619054e+07, 8.42339525e+07,\n",
       "       1.28906955e+08, 1.33733445e+08, 8.82495338e+07, 6.37172679e+07,\n",
       "       1.03916660e+08, 8.94913026e+07, 1.10905709e+08, 6.72436482e+07,\n",
       "       9.23125502e+07, 1.13185805e+08, 8.04274678e+07, 9.17164539e+07,\n",
       "       1.59984557e+08, 1.21256913e+08, 1.10977518e+08, 1.10959629e+08,\n",
       "       1.05135421e+08, 9.62800168e+07, 9.11833709e+07, 9.54847540e+07,\n",
       "       7.47404764e+07, 1.08124436e+08, 6.41301610e+07, 1.02982340e+08,\n",
       "       7.23522061e+07, 9.20605101e+07, 1.15300682e+08, 1.41747261e+08,\n",
       "       9.29683483e+07, 9.26126158e+07, 1.07788591e+08, 7.56045736e+07,\n",
       "       7.87587302e+07, 6.63113271e+07, 5.65724329e+07, 1.09265287e+08,\n",
       "       7.65595139e+07, 1.01261699e+08, 8.84399521e+07, 8.38184449e+07,\n",
       "       1.01633755e+08, 1.18682402e+08, 9.03202512e+07, 1.24613814e+08,\n",
       "       1.20391136e+08, 1.03054588e+08, 6.65567843e+07, 1.08121369e+08,\n",
       "       1.15008003e+08, 9.34396465e+07, 1.04394384e+08, 8.10393032e+07,\n",
       "       8.52782219e+07, 1.05949546e+08, 9.40865700e+07, 9.26120524e+07,\n",
       "       9.31943242e+07, 9.60423289e+07, 6.77865289e+07, 1.03279736e+08,\n",
       "       7.66748796e+07, 1.04587904e+08, 1.08990025e+08, 1.06821155e+08,\n",
       "       1.15815308e+08, 1.35076160e+08, 8.94479432e+07, 8.88606236e+07,\n",
       "       1.47798811e+08, 8.15676332e+07, 1.37882642e+08, 7.37092937e+07,\n",
       "       4.32322217e+07, 9.20546144e+07, 8.36699725e+07, 1.07268036e+08,\n",
       "       9.40709907e+07, 1.14984565e+08, 1.14824624e+08, 1.01377515e+08,\n",
       "       9.08792194e+07, 1.01233497e+08, 9.98335083e+07, 1.38203173e+08,\n",
       "       1.04079892e+08, 9.88960521e+07, 9.72512196e+07, 1.16516007e+08,\n",
       "       1.25376479e+08, 7.43450996e+07, 1.08230385e+08, 7.59893615e+07,\n",
       "       1.07481776e+08, 9.86818737e+07, 6.34288864e+07, 9.28437938e+07,\n",
       "       1.41519740e+08, 6.52184485e+07, 7.81722919e+07, 9.34763641e+07,\n",
       "       7.88322259e+07, 1.22291532e+08, 9.10824564e+07, 1.19569982e+08,\n",
       "       1.20421954e+08, 7.60661588e+07, 6.17263591e+07, 7.67325373e+07,\n",
       "       7.12555418e+07, 1.14260108e+08, 8.63131762e+07, 9.56385774e+07,\n",
       "       7.66390280e+07, 8.59772356e+07, 9.32534262e+07, 1.04576694e+08,\n",
       "       1.16726493e+08, 5.97965503e+07, 1.10514265e+08, 1.01759279e+08,\n",
       "       1.24927494e+08, 9.36108679e+07, 9.28604858e+07, 8.94934221e+07,\n",
       "       1.13778392e+08, 1.25501113e+08, 9.50204218e+07, 1.06494163e+08,\n",
       "       1.38127443e+08, 6.91143484e+07, 8.45618950e+07, 7.15344454e+07,\n",
       "       9.55596264e+07, 1.10028276e+08, 8.10997499e+07, 7.90612120e+07,\n",
       "       1.38738815e+08, 1.25102311e+08, 1.01339417e+08, 7.00229159e+07,\n",
       "       1.09773768e+08, 9.27699125e+07, 9.71879596e+07, 6.84014507e+07,\n",
       "       8.27388034e+07, 9.28028025e+07, 9.53501732e+07, 1.31613866e+08,\n",
       "       1.13832919e+08, 1.18562446e+08, 9.23734822e+07, 8.20291067e+07,\n",
       "       1.51722484e+08, 1.15987129e+08, 7.70520901e+07, 6.15270637e+07,\n",
       "       9.54661814e+07, 1.00841489e+08, 8.40945615e+07, 1.21727985e+08,\n",
       "       1.23499918e+08, 8.62116591e+07, 9.41138864e+07, 1.50503680e+08,\n",
       "       9.32981339e+07, 1.06555598e+08, 1.23492190e+08, 1.01603361e+08,\n",
       "       1.17145111e+08, 8.98462284e+07, 9.49856726e+07, 1.39564338e+08,\n",
       "       4.99884909e+07, 6.71820498e+07, 1.17034214e+08, 1.19169925e+08,\n",
       "       7.43957906e+07, 1.34506809e+08, 1.13990524e+08, 1.09436267e+08,\n",
       "       8.71360555e+07, 9.06553121e+07, 5.41715919e+07, 9.89294336e+07,\n",
       "       1.06673049e+08, 9.83588616e+07, 9.48149140e+07, 8.05794035e+07,\n",
       "       9.23515826e+07, 1.00801530e+08, 1.00626382e+08, 1.05181252e+08,\n",
       "       9.02376276e+07, 8.98666686e+07, 1.05572944e+08, 9.96996165e+07,\n",
       "       1.17532283e+08, 8.30190090e+07, 9.52995011e+07, 6.17142896e+07,\n",
       "       1.21712561e+08, 9.07131671e+07, 8.04690740e+07, 1.19228594e+08,\n",
       "       1.13145528e+08, 1.17850354e+08, 7.63326158e+07, 9.84968823e+07,\n",
       "       7.85998644e+07, 7.49918508e+07, 1.00033509e+08, 1.05942040e+08,\n",
       "       9.72823538e+07, 9.93301711e+07, 9.35153364e+07, 1.13083274e+08,\n",
       "       1.02059217e+08, 6.84935555e+07, 9.22190139e+07, 1.09901872e+08,\n",
       "       1.20570010e+08, 1.10177727e+08, 8.79204525e+07, 9.66066223e+07,\n",
       "       1.06902567e+08, 6.49419623e+07, 9.50531955e+07, 8.04025385e+07,\n",
       "       9.94889212e+07, 9.78340873e+07, 1.33038570e+08, 9.13757703e+07,\n",
       "       1.02396540e+08, 6.92912087e+07, 1.14924691e+08, 1.01156592e+08,\n",
       "       9.90031544e+07, 8.97318388e+07, 6.78040550e+07, 1.14610037e+08,\n",
       "       8.82437615e+07, 9.39611493e+07, 8.80128755e+07, 9.14176614e+07,\n",
       "       9.60656875e+07, 1.02219941e+08, 7.69452704e+07, 8.00932359e+07,\n",
       "       7.98968024e+07, 8.43172063e+07, 1.02541011e+08, 8.33317821e+07,\n",
       "       8.35166504e+07, 9.46768449e+07, 1.11540029e+08, 1.03865628e+08,\n",
       "       8.91356608e+07, 9.96103500e+07, 6.48750143e+07, 8.28857625e+07,\n",
       "       6.53623333e+07, 8.65124460e+07, 1.09710490e+08, 7.37477064e+07,\n",
       "       9.25526976e+07, 7.89401808e+07, 1.00383618e+08, 1.04403854e+08,\n",
       "       8.61219233e+07, 1.09474325e+08, 9.56677138e+07, 7.58791750e+07,\n",
       "       1.21725281e+08, 1.23978533e+08, 1.17706535e+08, 1.20634751e+08,\n",
       "       1.18003450e+08, 1.24422904e+08, 8.79120515e+07, 9.98990773e+07,\n",
       "       8.55118218e+07, 7.45018021e+07, 9.69984801e+07, 8.67984750e+07,\n",
       "       1.32982935e+08, 9.61993511e+07, 7.10885023e+07, 1.24415741e+08,\n",
       "       9.47265026e+07, 6.22159176e+07, 6.42213497e+07, 1.30158832e+08,\n",
       "       1.25358045e+08, 1.13915989e+08, 1.24545747e+08, 1.13960427e+08,\n",
       "       1.37777840e+08, 1.03103045e+08, 1.22623950e+08, 6.70998048e+07,\n",
       "       9.86979061e+07, 1.01439733e+08, 1.11266353e+08, 1.36850089e+08,\n",
       "       1.11686237e+08, 1.00606048e+08, 8.15860777e+07, 1.01627003e+08,\n",
       "       1.20697160e+08, 1.21104700e+08, 9.87398586e+07, 1.34077689e+08,\n",
       "       8.94449253e+07, 9.01845552e+07, 9.31443605e+07, 1.34230964e+08,\n",
       "       6.97551247e+07, 1.40303459e+08, 1.00229193e+08, 8.06402079e+07,\n",
       "       6.73364920e+07, 8.18626540e+07, 9.20523313e+07, 1.08194379e+08,\n",
       "       8.23004084e+07, 1.22067405e+08, 9.96142368e+07, 1.22272878e+08,\n",
       "       8.06288778e+07, 9.40077021e+07, 1.07182153e+08, 9.21000942e+07,\n",
       "       6.96955050e+07, 9.75538182e+07, 1.01553826e+08, 8.98047869e+07,\n",
       "       1.03209487e+08, 1.14667938e+08, 1.02895836e+08, 7.93877739e+07,\n",
       "       9.53652989e+07, 1.05598475e+08, 1.04820401e+08, 8.30841273e+07,\n",
       "       9.23068812e+07, 8.70026283e+07, 1.14890913e+08, 8.99550509e+07,\n",
       "       8.94482796e+07, 8.60659970e+07, 1.02427128e+08, 8.40428908e+07,\n",
       "       1.19967020e+08, 6.38565241e+07, 9.68294451e+07, 9.91324726e+07,\n",
       "       1.06115593e+08, 7.94331474e+07, 1.03251423e+08, 1.36935408e+08,\n",
       "       1.34668200e+08, 1.30923386e+08, 1.02534624e+08, 7.76546754e+07,\n",
       "       6.23461789e+07, 8.64645144e+07, 7.89908940e+07, 1.07435237e+08,\n",
       "       9.15528015e+07, 1.23040139e+08, 1.10195267e+08, 8.94420548e+07,\n",
       "       8.82441842e+07, 6.05380085e+07, 1.34175009e+08, 1.43617883e+08,\n",
       "       7.00278180e+07, 1.22570314e+08, 7.58826214e+07, 8.14288269e+07,\n",
       "       1.11426027e+08, 8.55372944e+07, 1.00209880e+08, 9.14431971e+07,\n",
       "       9.25336676e+07, 7.97251098e+07, 1.00623290e+08, 8.62674819e+07,\n",
       "       9.75928051e+07, 7.35317578e+07, 1.22718956e+08, 1.12363749e+08,\n",
       "       1.08418616e+08, 5.98060524e+07, 1.21009862e+08, 9.60835270e+07,\n",
       "       9.96604389e+07, 7.94740295e+07, 8.23626217e+07, 8.28638028e+07,\n",
       "       8.89176110e+07, 9.93632200e+07, 8.40210828e+07, 9.92195785e+07,\n",
       "       8.65011028e+07, 1.06695141e+08, 9.46883372e+07, 1.14007835e+08,\n",
       "       7.99573278e+07, 1.35771328e+08, 1.04277232e+08, 1.06111634e+08,\n",
       "       9.74740304e+07, 1.02277021e+08, 1.16455294e+08, 1.01957690e+08,\n",
       "       8.91233061e+07, 1.20038985e+08, 8.17001275e+07, 9.15108160e+07,\n",
       "       9.32647648e+07, 7.90155538e+07, 1.01942020e+08, 9.74701618e+07,\n",
       "       1.35571870e+08, 1.11517656e+08, 8.13847119e+07, 1.34899943e+08,\n",
       "       8.56909800e+07, 9.87697431e+07, 7.54469837e+07, 1.07027615e+08,\n",
       "       9.29468801e+07, 1.09557914e+08, 1.29108637e+08, 8.58891243e+07,\n",
       "       9.05595532e+07, 8.96215351e+07, 9.39732734e+07, 9.57305010e+07,\n",
       "       8.65993438e+07, 7.59625720e+07, 8.46968508e+07, 8.86797037e+07,\n",
       "       8.19745036e+07, 1.12677307e+08, 1.00821872e+08, 8.80687369e+07,\n",
       "       1.16339308e+08, 1.13335170e+08, 1.62649362e+08, 7.29320060e+07,\n",
       "       8.16645647e+07, 8.41527650e+07, 6.87442975e+07, 9.53314138e+07,\n",
       "       1.40051529e+08, 8.44077318e+07, 6.19016166e+07, 7.75086813e+07,\n",
       "       8.79018232e+07, 9.46151038e+07, 7.77165901e+07, 7.86606438e+07,\n",
       "       8.28828087e+07, 9.93304899e+07, 9.57878850e+07, 1.01531308e+08,\n",
       "       1.07614416e+08, 8.90501876e+07, 1.03599035e+08, 7.01275506e+07,\n",
       "       7.15978649e+07, 1.33546878e+08, 9.76694615e+07, 1.26820497e+08,\n",
       "       9.27437507e+07, 1.08209478e+08, 9.85503979e+07, 1.14978819e+08,\n",
       "       7.86264377e+07, 1.28603299e+08, 7.83377442e+07, 1.04009297e+08,\n",
       "       1.17632213e+08, 9.73932116e+07, 1.14088598e+08, 1.20441143e+08,\n",
       "       1.00798991e+08, 1.59103319e+08, 5.66848845e+07, 8.61488453e+07,\n",
       "       9.78556889e+07, 7.45098144e+07, 1.28144227e+08, 9.58915088e+07,\n",
       "       1.21673429e+08, 7.65129436e+07, 8.59593260e+07, 1.17699563e+08,\n",
       "       7.66344719e+07, 9.68788254e+07, 9.26476821e+07, 8.91774827e+07,\n",
       "       1.11154777e+08, 6.63757884e+07, 7.87736132e+07, 8.99156110e+07,\n",
       "       1.03867726e+08, 9.89314373e+07, 7.50390796e+07, 7.02382788e+07,\n",
       "       1.18452463e+08, 1.17636606e+08, 7.27240986e+07, 8.56481760e+07,\n",
       "       1.29491023e+08, 9.50215243e+07, 9.12647171e+07, 7.76413492e+07,\n",
       "       9.14778141e+07, 6.63045038e+07, 8.97351668e+07, 9.77892297e+07,\n",
       "       1.10184047e+08, 1.07469954e+08, 1.23345920e+08, 1.15293710e+08,\n",
       "       9.68517222e+07, 8.61219957e+07, 9.62194435e+07, 8.60584389e+07,\n",
       "       9.43282996e+07, 8.39995163e+07, 9.64073140e+07, 8.29583243e+07,\n",
       "       9.58953200e+07, 9.61543838e+07, 9.98156606e+07, 9.28908782e+07,\n",
       "       1.13118686e+08, 1.30394835e+08, 7.64270788e+07, 1.75121371e+08,\n",
       "       6.95613876e+07, 8.78622123e+07, 5.62551542e+07, 9.99810340e+07,\n",
       "       8.82770500e+07, 9.16169849e+07, 1.05440027e+08, 7.31268810e+07,\n",
       "       6.60137005e+07, 1.13459779e+08, 7.15707529e+07, 8.93556768e+07,\n",
       "       8.35115308e+07, 1.24733978e+08, 7.56146607e+07, 1.06678383e+08,\n",
       "       1.27632398e+08, 1.00261088e+08, 1.06148891e+08, 1.26808412e+08,\n",
       "       8.05319998e+07, 1.07387778e+08, 6.99581711e+07, 8.88663405e+07,\n",
       "       1.03225207e+08, 1.19993975e+08, 9.63446608e+07, 1.09310860e+08,\n",
       "       8.75396230e+07, 1.09643849e+08, 8.39195420e+07, 7.11787345e+07,\n",
       "       1.17484083e+08, 1.22195655e+08, 1.16788143e+08, 7.01981798e+07,\n",
       "       1.20900325e+08, 9.22779902e+07, 8.31226323e+07, 6.95669192e+07,\n",
       "       1.21181634e+08, 9.97582024e+07, 1.04340944e+08, 1.06599372e+08,\n",
       "       8.91301309e+07, 8.09799579e+07, 1.00152709e+08, 7.72287327e+07,\n",
       "       1.07525670e+08, 9.40359472e+07, 9.51885852e+07, 5.84050929e+07,\n",
       "       7.69354323e+07, 6.91986179e+07, 9.35188403e+07, 1.29686118e+08,\n",
       "       1.20165988e+08, 1.46257988e+08, 7.96420853e+07, 7.48240823e+07,\n",
       "       1.17294098e+08, 1.10698154e+08, 1.01761152e+08, 6.82547280e+07,\n",
       "       1.25303089e+08, 7.36486789e+07, 8.84869323e+07, 1.04931083e+08,\n",
       "       8.77064928e+07, 5.97737063e+07, 8.26623846e+07, 1.10627602e+08,\n",
       "       7.91402368e+07, 1.13899055e+08, 9.68959392e+07, 1.12516198e+08,\n",
       "       1.07452661e+08, 9.64342937e+07, 7.23057227e+07, 9.22077174e+07,\n",
       "       9.34910443e+07, 9.75782825e+07, 8.15673048e+07, 1.18767587e+08,\n",
       "       6.58985073e+07, 7.87972688e+07, 1.02707104e+08, 8.00984809e+07,\n",
       "       9.83054805e+07, 7.43958594e+07, 1.23970296e+08, 9.45875381e+07,\n",
       "       1.24297799e+08, 1.06837885e+08, 7.26332864e+07, 9.90107445e+07,\n",
       "       1.05611469e+08, 8.32427492e+07, 1.20583779e+08, 9.04733246e+07,\n",
       "       1.16382595e+08, 1.17002646e+08, 1.10578131e+08, 6.88623841e+07,\n",
       "       7.59102091e+07, 1.20572711e+08, 9.17983643e+07, 8.91255552e+07,\n",
       "       1.17443373e+08, 5.25461411e+07, 1.41448325e+08, 7.35146525e+07,\n",
       "       1.16381665e+08, 1.08971611e+08, 6.56400120e+07, 7.88378003e+07,\n",
       "       8.53488838e+07, 8.24716614e+07, 8.84433235e+07, 1.29093047e+08,\n",
       "       7.13166513e+07, 1.00851312e+08, 1.06119830e+08, 7.78467901e+07,\n",
       "       7.50729321e+07, 8.58746842e+07, 1.20001017e+08, 1.09880842e+08,\n",
       "       5.37561193e+07, 1.00454448e+08, 9.74458068e+07, 1.03084406e+08,\n",
       "       8.37125815e+07, 8.01000558e+07, 5.92976977e+07, 1.31535713e+08,\n",
       "       9.54877054e+07, 6.36908112e+07, 1.22075550e+08, 1.01490251e+08,\n",
       "       1.29856906e+08, 1.13946648e+08, 8.70625997e+07, 7.62243512e+07,\n",
       "       1.23786439e+08, 7.27711596e+07, 1.01245924e+08, 9.89985548e+07,\n",
       "       8.88289667e+07, 6.53428506e+07, 6.79700047e+07, 1.05671410e+08,\n",
       "       9.69389948e+07, 6.81782030e+07, 9.29037765e+07, 1.03178243e+08,\n",
       "       8.29997304e+07, 9.36413854e+07, 9.64494959e+07, 1.24836298e+08,\n",
       "       8.75366997e+07, 1.42496674e+08, 8.57577218e+07, 8.46839676e+07,\n",
       "       8.58711466e+07, 1.11301901e+08, 1.04804857e+08, 1.00031203e+08,\n",
       "       1.24597884e+08, 9.75065122e+07, 1.48174763e+08, 9.65438175e+07,\n",
       "       1.02507799e+08, 1.05007619e+08, 1.10332316e+08, 1.01381665e+08,\n",
       "       7.98687089e+07, 1.43454380e+08, 1.24811822e+08, 8.54908985e+07,\n",
       "       8.94794363e+07, 1.09586680e+08, 1.06011949e+08, 1.02506406e+08,\n",
       "       1.06089230e+08, 8.18538460e+07, 1.07593182e+08, 9.48180104e+07])"
      ]
     },
     "execution_count": 45,
     "metadata": {},
     "output_type": "execute_result"
    }
   ],
   "source": [
    "random_variance_vals"
   ]
  },
  {
   "cell_type": "markdown",
   "metadata": {},
   "source": [
    "# Part 3\n",
    "#### Estimate the sample mean variance"
   ]
  },
  {
   "cell_type": "code",
   "execution_count": 46,
   "metadata": {},
   "outputs": [
    {
     "data": {
      "text/plain": [
       "97261585.3"
      ]
     },
     "execution_count": 46,
     "metadata": {},
     "output_type": "execute_result"
    }
   ],
   "source": [
    "np.round(np.mean(random_variance_vals), 1)"
   ]
  },
  {
   "cell_type": "markdown",
   "metadata": {},
   "source": [
    "#### Compute Error Between Global and Sample Variance"
   ]
  },
  {
   "cell_type": "code",
   "execution_count": 47,
   "metadata": {},
   "outputs": [
    {
     "name": "stdout",
     "output_type": "stream",
     "text": [
      "2.26 % error\n"
     ]
    }
   ],
   "source": [
    "var_err = 100 * abs(VARIANCE - np.mean(random_variance_vals)) / VARIANCE\n",
    "print(f'{np.round(var_err, 2)} % error')"
   ]
  },
  {
   "cell_type": "markdown",
   "metadata": {},
   "source": [
    "# Part 4\n",
    "#### Compare Interval Estimate of the Sample Mean"
   ]
  },
  {
   "cell_type": "markdown",
   "metadata": {},
   "source": [
    "#### method 1, plot results using estimated value of the sample mean variance\n",
    "#### The below figure plots both normal distributions as a comparison between the exact and estimated data"
   ]
  },
  {
   "cell_type": "code",
   "execution_count": 48,
   "metadata": {},
   "outputs": [
    {
     "data": {
      "image/png": "[encoded data removed]",
      "text/plain": [
       "<Figure size 640x480 with 1 Axes>"
      ]
     },
     "metadata": {},
     "output_type": "display_data"
    }
   ],
   "source": [
    "# plot a distribution of estimated values of the mean and variance\n",
    "\n",
    "sigma = np.sqrt(np.mean(random_variance_vals))\n",
    "mu = np.mean(random_mean_vals)\n",
    "\n",
    "x = np.linspace(mu - 3 * sigma, mu + 3 * sigma, 100)\n",
    "plt.plot(x, stats.norm.pdf(x, mu, sigma))\n",
    "\n",
    "\n",
    "# plot a distribution of the real values of the mean and variance\n",
    "\n",
    "y = np.linspace(MEAN - 3 * np.sqrt(VARIANCE), MEAN + 3 * np.sqrt(VARIANCE), 100)\n",
    "plt.plot(y, stats.norm.pdf(y, MEAN, np.sqrt(VARIANCE)), '--')\n",
    "\n",
    "plt.legend(['estimate', 'real'])\n",
    "plt.title('PDF Based on Real vs Estimated Mean and Variance')\n",
    "plt.xlabel('Calculated Row Sum')\n",
    "plt.show()"
   ]
  },
  {
   "cell_type": "markdown",
   "metadata": {},
   "source": [
    "#### both graphs line up nicely, low error"
   ]
  },
  {
   "cell_type": "markdown",
   "metadata": {},
   "source": [
    "#### method 2, graph a histogram of estimated sample mean values"
   ]
  },
  {
   "cell_type": "code",
   "execution_count": 49,
   "metadata": {},
   "outputs": [
    {
     "data": {
      "image/png": "[encoded data removed]",
      "text/plain": [
       "<Figure size 640x480 with 1 Axes>"
      ]
     },
     "metadata": {},
     "output_type": "display_data"
    }
   ],
   "source": [
    "plt.hist(random_mean_vals, bins=50)\n",
    "plt.title('Raw Data of Average Row Sums')\n",
    "plt.show()"
   ]
  },
  {
   "cell_type": "markdown",
   "metadata": {},
   "source": [
    "#### we can observe the histogram compared to the plot of the estimated data by scaling the graphs"
   ]
  },
  {
   "cell_type": "code",
   "execution_count": 50,
   "metadata": {},
   "outputs": [
    {
     "data": {
      "image/png": "[encoded data removed]",
      "text/plain": [
       "<Figure size 640x480 with 1 Axes>"
      ]
     },
     "metadata": {},
     "output_type": "display_data"
    }
   ],
   "source": [
    "plt.hist(random_mean_vals, bins=50)\n",
    "plt.plot(y, 15e5*stats.norm.pdf(y, MEAN, np.sqrt(VARIANCE)))\n",
    "\n",
    "# mark +/- 1 stdev away from mean\n",
    "plt.vlines([MEAN-np.sqrt(VARIANCE), MEAN+np.sqrt(VARIANCE)], ymin=0, ymax=36)\n",
    "\n",
    "# mark +/- 1/2 stdev away from mean\n",
    "plt.vlines([MEAN-np.sqrt(VARIANCE)/2, MEAN+np.sqrt(VARIANCE)/2], ymin=0, ymax=53, colors='green')\n",
    "\n",
    "plt.title('Vertically Scaled PDF vs Raw Histogram')\n",
    "plt.legend(['PDF', '1 stdev', '1/2 stdev', 'hist'])\n",
    "plt.show()"
   ]
  },
  {
   "cell_type": "markdown",
   "metadata": {},
   "source": [
    "#### Find where the extremes of the histogram fall on the plot"
   ]
  },
  {
   "cell_type": "code",
   "execution_count": 51,
   "metadata": {},
   "outputs": [
    {
     "name": "stdout",
     "output_type": "stream",
     "text": [
      "histogram min = 29923.0,\t-0.48\tstdev's away from the mean\n",
      "histogram max = 38846.0,\t0.42\tstdev's away from the mean\n"
     ]
    }
   ],
   "source": [
    "hist_min = np.min(random_mean_vals)\n",
    "hist_max = np.max(random_mean_vals)\n",
    "\n",
    "print(f'histogram min = {np.round(hist_min)},\\t{np.round((hist_min - MEAN) / np.sqrt(VARIANCE), 2)}\\tstdev\\'s away from the mean')\n",
    "print(f'histogram max = {np.round(hist_max)},\\t{np.round((hist_max - MEAN) / np.sqrt(VARIANCE), 2)}\\tstdev\\'s away from the mean')"
   ]
  },
  {
   "cell_type": "markdown",
   "metadata": {},
   "source": [
    "# Part 5\n",
    "#### Analysis of Results\n",
    "#### On average, the extremes of the histogram fall within +/- 0.5 standard deviations from the true mean value of the distribution, therefore we can conclude our estimate of the mean and variance is accurate"
   ]
  },
  {
   "cell_type": "markdown",
   "metadata": {},
   "source": [
    "#### Save as HTML"
   ]
  },
  {
   "cell_type": "code",
   "execution_count": 52,
   "metadata": {},
   "outputs": [
    {
     "data": {
      "text/plain": [
       "0"
      ]
     },
     "execution_count": 52,
     "metadata": {},
     "output_type": "execute_result"
    }
   ],
   "source": [
    "os.system('jupyter nbconvert hw8.ipynb --to html')"
   ]
  }
 ],
 "metadata": {
  "kernelspec": {
   "display_name": ".venv",
   "language": "python",
   "name": "python3"
  },
  "language_info": {
   "codemirror_mode": {
    "name": "ipython",
    "version": 3
   },
   "file_extension": ".py",
   "mimetype": "text/x-python",
   "name": "python",
   "nbconvert_exporter": "python",
   "pygments_lexer": "ipython3",
   "version": "3.12.3"
  }
 },
 "nbformat": 4,
 "nbformat_minor": 2
}

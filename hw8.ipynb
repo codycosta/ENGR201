{
 "cells": [
  {
   "cell_type": "markdown",
   "metadata": {},
   "source": [
    "# Homework 8\n",
    "### Cody Costa, David Loi"
   ]
  },
  {
   "attachments": {
    "image.png": {
     "image/png": "[encoded data removed]"
    }
   },
   "cell_type": "markdown",
   "metadata": {},
   "source": [
    "### Problem 1\n",
    "\n",
    "#### a)\n",
    "\n",
    "![image.png](attachment:image.png)\n",
    "\n",
    "#### b)"
   ]
  },
  {
   "cell_type": "markdown",
   "metadata": {},
   "source": [
    "## Notebook Assignment"
   ]
  },
  {
   "cell_type": "code",
   "execution_count": 261,
   "metadata": {},
   "outputs": [],
   "source": [
    "import numpy as np\n",
    "import pandas as pd\n",
    "import math\n",
    "import matplotlib.pyplot as plt\n",
    "import scipy.stats as stats"
   ]
  },
  {
   "cell_type": "markdown",
   "metadata": {},
   "source": [
    "#### Load Data to Analyze"
   ]
  },
  {
   "cell_type": "code",
   "execution_count": 262,
   "metadata": {},
   "outputs": [
    {
     "data": {
      "text/html": [
       "<div>\n",
       "<style scoped>\n",
       "    .dataframe tbody tr th:only-of-type {\n",
       "        vertical-align: middle;\n",
       "    }\n",
       "\n",
       "    .dataframe tbody tr th {\n",
       "        vertical-align: top;\n",
       "    }\n",
       "\n",
       "    .dataframe thead th {\n",
       "        text-align: right;\n",
       "    }\n",
       "</style>\n",
       "<table border=\"1\" class=\"dataframe\">\n",
       "  <thead>\n",
       "    <tr style=\"text-align: right;\">\n",
       "      <th></th>\n",
       "      <th>0</th>\n",
       "      <th>1</th>\n",
       "      <th>2</th>\n",
       "      <th>3</th>\n",
       "      <th>4</th>\n",
       "      <th>5</th>\n",
       "      <th>6</th>\n",
       "      <th>7</th>\n",
       "      <th>8</th>\n",
       "      <th>9</th>\n",
       "      <th>...</th>\n",
       "      <th>775</th>\n",
       "      <th>776</th>\n",
       "      <th>777</th>\n",
       "      <th>778</th>\n",
       "      <th>779</th>\n",
       "      <th>780</th>\n",
       "      <th>781</th>\n",
       "      <th>782</th>\n",
       "      <th>783</th>\n",
       "      <th>784</th>\n",
       "    </tr>\n",
       "  </thead>\n",
       "  <tbody>\n",
       "    <tr>\n",
       "      <th>0</th>\n",
       "      <td>0</td>\n",
       "      <td>0</td>\n",
       "      <td>0</td>\n",
       "      <td>0</td>\n",
       "      <td>0</td>\n",
       "      <td>0</td>\n",
       "      <td>0</td>\n",
       "      <td>0</td>\n",
       "      <td>0</td>\n",
       "      <td>0</td>\n",
       "      <td>...</td>\n",
       "      <td>0</td>\n",
       "      <td>0</td>\n",
       "      <td>0</td>\n",
       "      <td>0</td>\n",
       "      <td>0</td>\n",
       "      <td>0</td>\n",
       "      <td>0</td>\n",
       "      <td>0</td>\n",
       "      <td>0</td>\n",
       "      <td>0</td>\n",
       "    </tr>\n",
       "    <tr>\n",
       "      <th>1</th>\n",
       "      <td>9</td>\n",
       "      <td>0</td>\n",
       "      <td>0</td>\n",
       "      <td>0</td>\n",
       "      <td>0</td>\n",
       "      <td>0</td>\n",
       "      <td>0</td>\n",
       "      <td>0</td>\n",
       "      <td>0</td>\n",
       "      <td>0</td>\n",
       "      <td>...</td>\n",
       "      <td>0</td>\n",
       "      <td>0</td>\n",
       "      <td>0</td>\n",
       "      <td>0</td>\n",
       "      <td>0</td>\n",
       "      <td>0</td>\n",
       "      <td>0</td>\n",
       "      <td>0</td>\n",
       "      <td>0</td>\n",
       "      <td>0</td>\n",
       "    </tr>\n",
       "    <tr>\n",
       "      <th>2</th>\n",
       "      <td>7</td>\n",
       "      <td>0</td>\n",
       "      <td>0</td>\n",
       "      <td>0</td>\n",
       "      <td>0</td>\n",
       "      <td>0</td>\n",
       "      <td>0</td>\n",
       "      <td>0</td>\n",
       "      <td>0</td>\n",
       "      <td>0</td>\n",
       "      <td>...</td>\n",
       "      <td>0</td>\n",
       "      <td>0</td>\n",
       "      <td>0</td>\n",
       "      <td>0</td>\n",
       "      <td>0</td>\n",
       "      <td>0</td>\n",
       "      <td>0</td>\n",
       "      <td>0</td>\n",
       "      <td>0</td>\n",
       "      <td>0</td>\n",
       "    </tr>\n",
       "    <tr>\n",
       "      <th>3</th>\n",
       "      <td>9</td>\n",
       "      <td>0</td>\n",
       "      <td>0</td>\n",
       "      <td>0</td>\n",
       "      <td>0</td>\n",
       "      <td>0</td>\n",
       "      <td>0</td>\n",
       "      <td>0</td>\n",
       "      <td>0</td>\n",
       "      <td>0</td>\n",
       "      <td>...</td>\n",
       "      <td>0</td>\n",
       "      <td>0</td>\n",
       "      <td>0</td>\n",
       "      <td>0</td>\n",
       "      <td>0</td>\n",
       "      <td>0</td>\n",
       "      <td>0</td>\n",
       "      <td>0</td>\n",
       "      <td>0</td>\n",
       "      <td>0</td>\n",
       "    </tr>\n",
       "    <tr>\n",
       "      <th>4</th>\n",
       "      <td>2</td>\n",
       "      <td>0</td>\n",
       "      <td>0</td>\n",
       "      <td>0</td>\n",
       "      <td>0</td>\n",
       "      <td>0</td>\n",
       "      <td>0</td>\n",
       "      <td>0</td>\n",
       "      <td>0</td>\n",
       "      <td>0</td>\n",
       "      <td>...</td>\n",
       "      <td>0</td>\n",
       "      <td>0</td>\n",
       "      <td>0</td>\n",
       "      <td>0</td>\n",
       "      <td>0</td>\n",
       "      <td>0</td>\n",
       "      <td>0</td>\n",
       "      <td>0</td>\n",
       "      <td>0</td>\n",
       "      <td>0</td>\n",
       "    </tr>\n",
       "  </tbody>\n",
       "</table>\n",
       "<p>5 rows × 785 columns</p>\n",
       "</div>"
      ],
      "text/plain": [
       "   0    1    2    3    4    5    6    7    8    9    ...  775  776  777  778  \\\n",
       "0    0    0    0    0    0    0    0    0    0    0  ...    0    0    0    0   \n",
       "1    9    0    0    0    0    0    0    0    0    0  ...    0    0    0    0   \n",
       "2    7    0    0    0    0    0    0    0    0    0  ...    0    0    0    0   \n",
       "3    9    0    0    0    0    0    0    0    0    0  ...    0    0    0    0   \n",
       "4    2    0    0    0    0    0    0    0    0    0  ...    0    0    0    0   \n",
       "\n",
       "   779  780  781  782  783  784  \n",
       "0    0    0    0    0    0    0  \n",
       "1    0    0    0    0    0    0  \n",
       "2    0    0    0    0    0    0  \n",
       "3    0    0    0    0    0    0  \n",
       "4    0    0    0    0    0    0  \n",
       "\n",
       "[5 rows x 785 columns]"
      ]
     },
     "execution_count": 262,
     "metadata": {},
     "output_type": "execute_result"
    }
   ],
   "source": [
    "data = pd.read_csv('emnist-digits-test.csv', header=None, sep=',', dtype='uint')\n",
    "data.head()"
   ]
  },
  {
   "cell_type": "markdown",
   "metadata": {},
   "source": [
    "#### Filter data into suggested usable set (sum of each row in the table)"
   ]
  },
  {
   "cell_type": "code",
   "execution_count": 263,
   "metadata": {},
   "outputs": [
    {
     "data": {
      "text/plain": [
       "0        40376\n",
       "1        21547\n",
       "2        35224\n",
       "3        39065\n",
       "4        45823\n",
       "         ...  \n",
       "39995    30171\n",
       "39996    30904\n",
       "39997    37759\n",
       "39998    23020\n",
       "39999    32676\n",
       "Length: 40000, dtype: uint64"
      ]
     },
     "execution_count": 263,
     "metadata": {},
     "output_type": "execute_result"
    }
   ],
   "source": [
    "row_sums = np.sum(data, axis=1)\n",
    "row_sums"
   ]
  },
  {
   "cell_type": "markdown",
   "metadata": {},
   "source": [
    "#### Compute Mean and Variance"
   ]
  },
  {
   "cell_type": "code",
   "execution_count": 264,
   "metadata": {},
   "outputs": [],
   "source": [
    "MEAN = np.mean(row_sums)\n",
    "VARIANCE = np.var(row_sums)"
   ]
  },
  {
   "cell_type": "code",
   "execution_count": 265,
   "metadata": {},
   "outputs": [
    {
     "data": {
      "text/plain": [
       "(34698.252, 99515279.57419601)"
      ]
     },
     "execution_count": 265,
     "metadata": {},
     "output_type": "execute_result"
    }
   ],
   "source": [
    "MEAN, VARIANCE"
   ]
  },
  {
   "cell_type": "markdown",
   "metadata": {},
   "source": [
    "#### For a Sample Size of 50, Calculate 1000 random reps of the MEAN, and estimate the VARIANCE"
   ]
  },
  {
   "cell_type": "code",
   "execution_count": 266,
   "metadata": {},
   "outputs": [],
   "source": [
    "sample_size = 50\n",
    "num_runs = 1000\n",
    "random_mean_vals = np.zeros(num_runs)\n",
    "random_variance_vals = np.zeros(num_runs)\n",
    "\n",
    "for j in range(num_runs):\n",
    "    sample_set = np.zeros(sample_size)\n",
    "\n",
    "    for k in range(sample_size):\n",
    "        sample_set[k] = row_sums[np.random.randint(0, row_sums.shape[0])]\n",
    "\n",
    "    random_mean_vals[j] = np.mean(sample_set)\n",
    "    random_variance_vals[j] = np.var(sample_set)"
   ]
  },
  {
   "cell_type": "code",
   "execution_count": 267,
   "metadata": {},
   "outputs": [
    {
     "data": {
      "text/plain": [
       "((1000,), (1000,))"
      ]
     },
     "execution_count": 267,
     "metadata": {},
     "output_type": "execute_result"
    }
   ],
   "source": [
    "random_mean_vals.shape, random_variance_vals.shape"
   ]
  },
  {
   "cell_type": "code",
   "execution_count": 268,
   "metadata": {},
   "outputs": [
    {
     "data": {
      "text/plain": [
       "array([31439.58, 33921.3 , 34022.16, 33882.26, 33340.6 , 34839.5 ,\n",
       "       31783.52, 34268.32, 35547.52, 33808.02, 36540.08, 33045.4 ,\n",
       "       34493.52, 33158.76, 35716.76, 33972.58, 34736.4 , 33265.96,\n",
       "       34831.64, 36259.02, 34065.86, 36143.16, 33494.1 , 34781.92,\n",
       "       31163.6 , 35033.56, 34541.38, 33426.84, 34035.34, 33161.42,\n",
       "       36075.4 , 34110.72, 32537.56, 34217.04, 33949.22, 34125.88,\n",
       "       32547.04, 34447.6 , 32624.92, 35621.62, 36170.58, 33886.02,\n",
       "       37308.04, 32133.56, 34496.62, 34238.98, 33836.84, 34287.2 ,\n",
       "       35280.24, 34229.52, 32046.44, 33495.26, 34400.58, 32420.38,\n",
       "       34727.52, 35749.62, 33217.08, 35462.56, 34574.14, 33322.94,\n",
       "       34931.42, 32747.74, 36049.32, 35370.58, 34922.5 , 31826.56,\n",
       "       34188.8 , 36115.58, 35739.46, 32511.42, 32235.74, 36783.94,\n",
       "       34054.  , 34611.58, 34779.88, 33119.92, 33735.74, 33490.08,\n",
       "       36050.52, 34159.9 , 34071.14, 35522.62, 34987.82, 33971.82,\n",
       "       36335.52, 35778.38, 35072.42, 31860.04, 33375.72, 33431.62,\n",
       "       32691.1 , 35910.76, 35366.84, 33637.46, 34199.  , 36451.62,\n",
       "       32942.28, 34108.04, 34407.76, 32960.54, 35322.06, 35590.94,\n",
       "       35986.42, 35507.72, 35845.84, 33551.3 , 36510.82, 34422.9 ,\n",
       "       35777.44, 32229.82, 35162.12, 33126.88, 34106.32, 34716.82,\n",
       "       34072.94, 34752.16, 35073.38, 33847.8 , 34779.46, 34782.68,\n",
       "       35155.9 , 34282.1 , 34330.1 , 37421.36, 36267.76, 34286.18,\n",
       "       33933.44, 33199.1 , 35029.1 , 36232.44, 35894.5 , 35862.78,\n",
       "       34697.86, 33897.9 , 35716.98, 33087.62, 35104.8 , 33531.02,\n",
       "       34078.12, 31581.56, 34656.06, 32557.24, 33764.88, 35325.78,\n",
       "       36397.02, 37082.78, 35563.5 , 36838.88, 36248.56, 34671.18,\n",
       "       33938.6 , 33431.56, 34841.24, 35387.42, 37007.64, 35372.52,\n",
       "       35167.08, 35753.  , 34198.34, 33495.22, 36023.4 , 31999.3 ,\n",
       "       32432.74, 33468.98, 34268.42, 34081.14, 33485.04, 30773.34,\n",
       "       34127.5 , 33821.44, 34372.7 , 34383.4 , 37124.56, 35780.52,\n",
       "       33867.48, 34736.6 , 34680.98, 35213.34, 36752.56, 35679.46,\n",
       "       35846.68, 35020.2 , 32585.98, 32183.42, 34084.92, 34940.88,\n",
       "       35069.88, 33411.58, 33101.94, 35081.22, 36193.  , 37256.58,\n",
       "       35537.76, 32823.24, 35934.54, 35059.96, 32881.36, 34186.64,\n",
       "       35854.08, 35019.38, 33067.06, 34281.22, 33175.72, 33093.84,\n",
       "       34200.6 , 33067.68, 34577.86, 37157.48, 34955.5 , 36401.48,\n",
       "       34416.3 , 36938.18, 33419.42, 35535.74, 35283.24, 35086.88,\n",
       "       33669.6 , 40003.78, 35050.7 , 34319.76, 32757.36, 37364.34,\n",
       "       34919.54, 34319.02, 36806.66, 33085.16, 33440.6 , 30606.48,\n",
       "       36344.92, 34654.88, 36054.  , 34873.94, 34336.12, 35015.12,\n",
       "       36610.8 , 35329.38, 34383.52, 33171.02, 37285.64, 34477.92,\n",
       "       35640.94, 33461.24, 37062.3 , 36124.86, 33723.86, 33227.66,\n",
       "       36083.8 , 35931.78, 34082.52, 33791.96, 35600.44, 36454.06,\n",
       "       37195.5 , 37608.16, 33085.98, 36088.86, 34348.6 , 34606.28,\n",
       "       35402.86, 34283.82, 35352.9 , 34710.48, 33524.12, 34509.84,\n",
       "       35280.64, 36554.44, 35853.06, 36028.7 , 33314.58, 34348.52,\n",
       "       35243.5 , 33637.22, 35515.92, 34029.26, 33487.16, 33245.9 ,\n",
       "       34501.3 , 36266.96, 36233.64, 34339.08, 34703.84, 33743.4 ,\n",
       "       35910.16, 37337.18, 36314.56, 35581.98, 35302.06, 34943.48,\n",
       "       33835.62, 35433.44, 35525.66, 33522.12, 34070.54, 35214.74,\n",
       "       31681.22, 34539.98, 34985.34, 36036.54, 35686.84, 35709.86,\n",
       "       33591.82, 35885.7 , 34667.48, 36026.76, 34654.34, 33270.42,\n",
       "       33269.34, 35472.74, 33770.32, 35402.18, 33186.04, 35768.78,\n",
       "       35803.94, 35371.42, 35678.12, 36875.32, 34629.96, 35080.1 ,\n",
       "       35816.1 , 34919.22, 33384.96, 34550.16, 33218.02, 31682.44,\n",
       "       35601.24, 33823.84, 31573.94, 35487.86, 34434.9 , 36523.86,\n",
       "       34527.5 , 35903.1 , 33109.64, 33727.78, 35948.72, 36130.1 ,\n",
       "       33437.48, 36469.84, 33594.36, 34548.78, 35425.76, 35534.58,\n",
       "       34682.12, 36631.68, 35785.36, 34887.32, 35232.96, 35322.48,\n",
       "       38320.5 , 33440.98, 34848.9 , 37779.2 , 32981.86, 34673.72,\n",
       "       36275.26, 33591.8 , 35799.28, 35371.7 , 37196.22, 33758.22,\n",
       "       33435.36, 35186.44, 34506.52, 33825.76, 33209.86, 32979.2 ,\n",
       "       35064.44, 32222.94, 33671.24, 33865.24, 31365.44, 33717.68,\n",
       "       33433.18, 34402.5 , 33452.82, 35300.8 , 36762.4 , 33917.12,\n",
       "       34186.38, 37520.14, 35166.82, 35073.44, 34377.52, 33666.2 ,\n",
       "       34213.94, 32934.16, 35523.6 , 31976.82, 33662.6 , 34002.7 ,\n",
       "       36731.62, 33838.56, 32555.38, 32750.32, 33035.42, 35944.7 ,\n",
       "       35509.88, 35770.4 , 33820.22, 34804.3 , 36058.98, 37361.6 ,\n",
       "       32896.72, 33353.72, 35535.48, 37086.36, 37621.82, 35233.66,\n",
       "       36725.82, 35608.22, 35175.9 , 31013.66, 35883.44, 33926.92,\n",
       "       34355.88, 35773.22, 35490.68, 34187.34, 34474.68, 34384.  ,\n",
       "       36956.44, 33764.48, 33019.92, 36052.72, 33647.38, 33946.4 ,\n",
       "       34527.3 , 35641.4 , 36879.54, 34842.94, 32054.52, 35811.46,\n",
       "       35446.82, 37109.64, 36066.36, 34599.88, 36007.54, 34368.78,\n",
       "       34093.16, 35583.96, 32949.86, 34376.4 , 35006.08, 33339.26,\n",
       "       34242.56, 33541.98, 35324.32, 32724.46, 33855.02, 33598.5 ,\n",
       "       34842.92, 35730.08, 33830.06, 32199.2 , 33203.56, 32838.4 ,\n",
       "       35858.84, 33555.86, 37740.08, 33965.38, 34002.34, 32314.86,\n",
       "       33343.58, 34040.16, 34777.24, 35314.2 , 35173.08, 32004.02,\n",
       "       34344.46, 34855.6 , 34031.1 , 34347.24, 32587.76, 34724.78,\n",
       "       36298.72, 37330.72, 33787.38, 34276.36, 34495.18, 34957.1 ,\n",
       "       34164.98, 37023.08, 32718.62, 36087.6 , 35529.9 , 32305.82,\n",
       "       34572.34, 34099.34, 35363.92, 34375.64, 34572.46, 36522.76,\n",
       "       35359.72, 33876.68, 33744.22, 31825.96, 35905.9 , 34612.88,\n",
       "       34550.04, 34361.52, 33958.64, 34276.48, 36204.06, 35453.3 ,\n",
       "       34006.72, 34491.04, 34407.64, 33905.84, 33365.9 , 36288.78,\n",
       "       34529.36, 32192.92, 34750.06, 32070.16, 35356.06, 36637.9 ,\n",
       "       34139.44, 35480.62, 34921.88, 33234.34, 32712.68, 33032.  ,\n",
       "       33042.94, 33975.3 , 35023.62, 36639.6 , 33393.66, 34656.16,\n",
       "       36611.98, 34814.18, 35842.8 , 34525.72, 36147.32, 36123.16,\n",
       "       34720.28, 33967.88, 33167.78, 33370.88, 34515.36, 32300.74,\n",
       "       32712.24, 34306.36, 34432.26, 35674.14, 35169.5 , 35585.68,\n",
       "       34287.46, 36496.02, 34843.18, 34586.32, 33665.4 , 37749.46,\n",
       "       33852.06, 32781.34, 35647.1 , 34511.76, 37091.  , 35134.82,\n",
       "       34043.62, 34214.46, 33657.18, 37901.24, 34965.14, 36193.02,\n",
       "       34054.78, 35292.02, 33748.54, 34899.28, 36060.24, 33012.48,\n",
       "       34416.62, 35086.4 , 33604.66, 34974.24, 33455.9 , 35120.62,\n",
       "       35418.56, 34234.1 , 34856.34, 33130.18, 33562.1 , 35376.82,\n",
       "       33481.3 , 33821.34, 36789.14, 32937.3 , 33997.32, 32252.16,\n",
       "       36104.58, 34965.42, 34370.68, 38139.7 , 35110.02, 34187.18,\n",
       "       35434.5 , 36566.64, 31834.66, 35395.58, 33070.28, 34779.82,\n",
       "       34807.02, 35016.28, 34775.26, 35035.12, 32725.22, 36139.  ,\n",
       "       33968.46, 36097.88, 36979.72, 34601.5 , 33032.5 , 35788.26,\n",
       "       33379.04, 36995.32, 33652.24, 32322.04, 35023.34, 33994.16,\n",
       "       33582.42, 33033.46, 33504.1 , 36375.14, 35100.12, 35963.16,\n",
       "       33029.9 , 35396.02, 34266.28, 35133.9 , 33701.86, 35152.46,\n",
       "       36371.24, 34479.56, 33165.48, 35657.44, 34667.22, 33283.86,\n",
       "       32915.06, 37601.36, 34958.92, 32043.46, 34973.36, 36490.5 ,\n",
       "       33198.2 , 37828.34, 36064.36, 33871.78, 34777.04, 35410.02,\n",
       "       35793.82, 34010.52, 34566.16, 34350.44, 32995.6 , 34714.08,\n",
       "       35534.58, 35546.26, 35105.94, 34028.98, 34628.64, 33172.04,\n",
       "       34957.12, 34962.24, 35248.02, 35122.9 , 35393.82, 33848.06,\n",
       "       34705.48, 35214.98, 36638.72, 35894.64, 34190.86, 33867.04,\n",
       "       35905.72, 33872.46, 32714.24, 33897.68, 33877.04, 33609.62,\n",
       "       32942.66, 36081.22, 33620.86, 35118.88, 34967.4 , 37303.46,\n",
       "       36604.56, 35026.3 , 34557.24, 34926.76, 35430.02, 35602.04,\n",
       "       34994.78, 35139.28, 33363.28, 32345.8 , 37810.08, 32781.68,\n",
       "       35299.06, 36355.78, 34208.  , 34561.82, 32050.02, 32995.44,\n",
       "       33660.44, 32805.3 , 33387.94, 33346.86, 34314.26, 33875.88,\n",
       "       33932.78, 32087.88, 35037.74, 36960.64, 34900.66, 35489.22,\n",
       "       32346.68, 34390.28, 34684.62, 33519.48, 35762.18, 34451.4 ,\n",
       "       33284.4 , 36017.14, 35000.8 , 32522.88, 34564.74, 34661.9 ,\n",
       "       32961.98, 35172.18, 31513.82, 34159.18, 34715.3 , 33830.28,\n",
       "       35865.46, 33269.68, 36488.4 , 37379.44, 35859.32, 33278.32,\n",
       "       36446.92, 35511.82, 33936.3 , 37354.58, 34589.46, 36769.84,\n",
       "       37067.88, 37985.84, 35062.68, 33604.76, 34751.76, 34152.52,\n",
       "       33969.78, 33035.66, 33862.38, 35786.58, 36259.28, 33097.12,\n",
       "       32155.4 , 34352.68, 33810.52, 34174.72, 35524.62, 36976.4 ,\n",
       "       32781.9 , 35506.24, 35757.34, 35102.72, 35562.28, 35473.58,\n",
       "       34313.88, 36893.82, 34059.76, 34671.16, 36802.64, 32773.04,\n",
       "       33916.94, 31902.74, 32922.62, 34739.06, 35047.82, 32317.86,\n",
       "       36135.76, 36098.56, 37183.82, 37192.96, 33557.9 , 36774.08,\n",
       "       34056.04, 34646.24, 33593.64, 35686.82, 34000.98, 35313.38,\n",
       "       34349.9 , 36026.96, 34421.66, 33125.36, 32896.6 , 33336.06,\n",
       "       36196.6 , 37376.48, 34555.84, 34212.56, 32590.6 , 36395.62,\n",
       "       34108.8 , 34535.28, 35958.56, 38563.86, 33481.04, 32400.84,\n",
       "       38321.18, 35023.62, 34383.8 , 35406.9 , 31814.14, 35282.12,\n",
       "       34066.62, 32420.38, 35069.8 , 35097.82, 35837.4 , 35522.82,\n",
       "       34276.88, 36365.1 , 33152.14, 32930.78, 35403.04, 34692.14,\n",
       "       36070.36, 39365.26, 35828.52, 35427.78, 35084.66, 32792.86,\n",
       "       36108.82, 34972.74, 33463.02, 36810.38, 36795.1 , 36323.22,\n",
       "       36167.64, 34801.22, 34215.56, 35346.4 , 33532.4 , 36107.24,\n",
       "       34630.86, 34316.26, 36034.56, 34760.24, 33545.54, 33668.42,\n",
       "       32756.8 , 33153.5 , 33436.7 , 33152.88, 34503.84, 33988.94,\n",
       "       33593.76, 33581.02, 35470.92, 32392.8 , 36916.52, 35774.8 ,\n",
       "       33736.42, 36161.8 , 33187.34, 35290.18, 33383.78, 37347.7 ,\n",
       "       34092.68, 36439.66, 33880.22, 35187.42, 32431.08, 35384.52,\n",
       "       35870.48, 34708.58, 37398.08, 34275.96, 33724.98, 31666.  ,\n",
       "       35421.42, 35632.4 , 34904.68, 33306.34, 35265.28, 35474.32,\n",
       "       33433.52, 32343.26, 33700.02, 34098.56, 32554.48, 36310.52,\n",
       "       37089.6 , 36794.06, 36639.76, 35251.32, 33414.04, 35556.86,\n",
       "       35710.68, 33381.34, 35037.42, 34404.26, 31922.96, 30358.66,\n",
       "       34511.94, 36324.7 , 36139.  , 33132.34, 36393.76, 34290.82,\n",
       "       35072.16, 36540.24, 33549.74, 33108.  , 37807.92, 33259.84,\n",
       "       35367.44, 35298.52, 33422.54, 34372.86, 34567.56, 33404.96,\n",
       "       33627.18, 34190.76, 36500.04, 33339.2 , 33956.56, 34019.28,\n",
       "       36552.56, 33355.84, 34516.24, 35948.08, 35910.04, 34623.92,\n",
       "       32585.84, 34701.54, 35089.44, 34941.32, 34516.72, 33200.04,\n",
       "       33702.06, 34230.02, 32258.84, 36036.2 , 31691.64, 35016.62,\n",
       "       34821.72, 35145.64, 34321.1 , 34054.4 , 34190.82, 36227.88,\n",
       "       35965.38, 33846.34, 34239.92, 35754.22, 32665.04, 34574.46,\n",
       "       34343.54, 32257.6 , 35330.74, 34329.96, 36237.72, 33982.56,\n",
       "       36587.24, 34181.48, 33451.84, 35052.28, 33968.3 , 34736.16,\n",
       "       35026.94, 38710.34, 33946.58, 35522.78, 34926.92, 35400.8 ,\n",
       "       32852.48, 36432.6 , 37126.3 , 35941.16, 35187.22, 31996.08,\n",
       "       33990.14, 37147.18, 35503.62, 34665.56, 33488.22, 34644.1 ,\n",
       "       34243.18, 37365.56, 35071.4 , 33165.26, 35596.6 , 35848.02,\n",
       "       33229.06, 34781.14, 34324.8 , 34078.38])"
      ]
     },
     "execution_count": 268,
     "metadata": {},
     "output_type": "execute_result"
    }
   ],
   "source": [
    "random_mean_vals"
   ]
  },
  {
   "cell_type": "code",
   "execution_count": 269,
   "metadata": {},
   "outputs": [
    {
     "data": {
      "text/plain": [
       "array([7.21458396e+07, 9.87235915e+07, 1.09543925e+08, 8.95003766e+07,\n",
       "       9.29474460e+07, 1.20439059e+08, 8.93149663e+07, 1.24060555e+08,\n",
       "       1.16962300e+08, 1.10828620e+08, 8.34240965e+07, 9.96432408e+07,\n",
       "       6.38829075e+07, 1.06624592e+08, 1.16571270e+08, 1.08184410e+08,\n",
       "       1.01717869e+08, 9.85399814e+07, 8.04732601e+07, 7.24376325e+07,\n",
       "       1.52921439e+08, 1.74634842e+08, 8.90628845e+07, 8.64065078e+07,\n",
       "       8.78913944e+07, 1.17355205e+08, 9.16012010e+07, 9.25239166e+07,\n",
       "       6.03586163e+07, 6.43285270e+07, 1.00540316e+08, 1.17968603e+08,\n",
       "       8.85294016e+07, 9.94598056e+07, 8.06329677e+07, 1.05472258e+08,\n",
       "       1.16550569e+08, 8.78237658e+07, 1.18414893e+08, 9.73782771e+07,\n",
       "       7.44627754e+07, 9.86895813e+07, 9.84597079e+07, 9.37931250e+07,\n",
       "       9.23719895e+07, 7.46290819e+07, 9.09725396e+07, 1.00290260e+08,\n",
       "       5.09368484e+07, 8.36423255e+07, 7.95298948e+07, 8.87738576e+07,\n",
       "       1.23847397e+08, 9.34911181e+07, 1.33284873e+08, 9.91225835e+07,\n",
       "       7.56222240e+07, 1.46461694e+08, 6.67064448e+07, 1.09748315e+08,\n",
       "       6.59421821e+07, 9.95295826e+07, 1.00334369e+08, 1.17238433e+08,\n",
       "       1.00626877e+08, 9.44643787e+07, 1.13223312e+08, 7.75404839e+07,\n",
       "       7.38388888e+07, 1.06077451e+08, 7.06407465e+07, 1.34721134e+08,\n",
       "       1.14740001e+08, 7.89301875e+07, 1.17972534e+08, 1.08458759e+08,\n",
       "       1.47050807e+08, 7.69395195e+07, 9.85439693e+07, 8.49828212e+07,\n",
       "       7.62106872e+07, 1.14283699e+08, 8.68214961e+07, 1.06748453e+08,\n",
       "       8.01441551e+07, 1.15746795e+08, 9.76718047e+07, 7.82280934e+07,\n",
       "       1.05643697e+08, 6.70647952e+07, 9.71842615e+07, 8.92574951e+07,\n",
       "       1.06770995e+08, 1.12784619e+08, 1.41007953e+08, 1.11299094e+08,\n",
       "       9.25928067e+07, 1.17944068e+08, 6.22109367e+07, 1.16909364e+08,\n",
       "       1.03496636e+08, 9.17379662e+07, 8.21318020e+07, 7.77770336e+07,\n",
       "       7.79500123e+07, 7.59713272e+07, 1.19963134e+08, 6.16731202e+07,\n",
       "       8.55608084e+07, 7.98500261e+07, 1.24841887e+08, 1.04700713e+08,\n",
       "       1.04682739e+08, 9.02784385e+07, 9.46927328e+07, 8.57306113e+07,\n",
       "       9.25044253e+07, 9.78227744e+07, 7.56121489e+07, 7.68127285e+07,\n",
       "       7.58415602e+07, 1.12345682e+08, 9.80836540e+07, 1.35346110e+08,\n",
       "       1.10954503e+08, 1.10409731e+08, 5.58661469e+07, 9.58476596e+07,\n",
       "       9.87850317e+07, 1.19379224e+08, 1.15480825e+08, 7.77041893e+07,\n",
       "       7.84187923e+07, 8.69116326e+07, 1.01175779e+08, 9.74507196e+07,\n",
       "       9.47969369e+07, 7.98799973e+07, 1.16320600e+08, 1.06464244e+08,\n",
       "       8.87944425e+07, 6.81255091e+07, 1.05179319e+08, 5.94963640e+07,\n",
       "       8.78751106e+07, 1.00299755e+08, 7.78652360e+07, 9.63080296e+07,\n",
       "       1.07353842e+08, 1.19465080e+08, 1.25836278e+08, 9.13499987e+07,\n",
       "       8.90441705e+07, 1.33671455e+08, 8.75860511e+07, 1.32891989e+08,\n",
       "       7.40326904e+07, 1.31744494e+08, 8.35288484e+07, 1.08682284e+08,\n",
       "       1.13902074e+08, 8.98524567e+07, 1.06849679e+08, 8.21744639e+07,\n",
       "       1.08496837e+08, 1.03752838e+08, 1.14102903e+08, 7.32969622e+07,\n",
       "       9.48256425e+07, 6.27954166e+07, 9.28119028e+07, 1.07201756e+08,\n",
       "       1.06758601e+08, 1.07898879e+08, 1.25950663e+08, 9.47859920e+07,\n",
       "       1.18350730e+08, 7.64053359e+07, 7.75886416e+07, 6.04758012e+07,\n",
       "       1.25077032e+08, 1.02441717e+08, 7.06057801e+07, 8.29158016e+07,\n",
       "       1.07657214e+08, 9.13914277e+07, 1.22884227e+08, 1.00453330e+08,\n",
       "       1.17284055e+08, 1.07080850e+08, 1.13888691e+08, 1.31418270e+08,\n",
       "       9.95216685e+07, 8.19309301e+07, 9.13579970e+07, 1.17439312e+08,\n",
       "       7.05167319e+07, 7.57750235e+07, 1.32439669e+08, 1.36711908e+08,\n",
       "       8.59612249e+07, 8.25805667e+07, 9.65788361e+07, 9.19030433e+07,\n",
       "       7.99201883e+07, 5.88163597e+07, 9.35085723e+07, 8.68684782e+07,\n",
       "       1.02290082e+08, 1.00633931e+08, 1.21552550e+08, 9.43423322e+07,\n",
       "       7.90140716e+07, 9.08295952e+07, 7.27810362e+07, 7.69777278e+07,\n",
       "       6.95518498e+07, 1.10134741e+08, 1.17317060e+08, 9.30128857e+07,\n",
       "       9.71316556e+07, 1.19658959e+08, 1.03463680e+08, 8.97189609e+07,\n",
       "       1.11328822e+08, 6.87455121e+07, 9.87578755e+07, 9.48933975e+07,\n",
       "       1.08044041e+08, 1.17961130e+08, 1.00071490e+08, 1.07168965e+08,\n",
       "       7.50095015e+07, 9.07647176e+07, 1.12657082e+08, 1.41728604e+08,\n",
       "       8.40674473e+07, 8.88012388e+07, 1.41176555e+08, 8.10933216e+07,\n",
       "       7.69246404e+07, 1.03186477e+08, 8.85046021e+07, 6.02991902e+07,\n",
       "       1.07839435e+08, 1.03862624e+08, 6.88591697e+07, 8.16118186e+07,\n",
       "       7.52346501e+07, 8.86153772e+07, 8.79288395e+07, 8.45727092e+07,\n",
       "       1.04522502e+08, 9.18559362e+07, 8.12430819e+07, 1.05246146e+08,\n",
       "       9.09368979e+07, 1.55623654e+08, 7.61534249e+07, 1.00214215e+08,\n",
       "       7.22009050e+07, 7.72419762e+07, 9.10476580e+07, 9.80491357e+07,\n",
       "       1.01598997e+08, 7.66112128e+07, 1.25825462e+08, 7.37346858e+07,\n",
       "       7.08415722e+07, 7.69994754e+07, 9.14640077e+07, 7.92468621e+07,\n",
       "       9.66309339e+07, 8.13295364e+07, 8.59693518e+07, 7.65409981e+07,\n",
       "       7.68013161e+07, 7.50769222e+07, 1.34323771e+08, 7.87221957e+07,\n",
       "       1.12761616e+08, 8.41019929e+07, 8.24354693e+07, 1.01896940e+08,\n",
       "       1.06946144e+08, 1.11915011e+08, 1.03202042e+08, 1.14012119e+08,\n",
       "       8.87361207e+07, 1.20915100e+08, 1.06580777e+08, 9.60300671e+07,\n",
       "       1.34524796e+08, 7.51313372e+07, 1.25712604e+08, 9.51088847e+07,\n",
       "       8.30829502e+07, 1.26228589e+08, 1.01591774e+08, 1.36905830e+08,\n",
       "       7.51700673e+07, 7.63387801e+07, 7.37400895e+07, 8.18154751e+07,\n",
       "       8.46892765e+07, 1.03444422e+08, 9.56144856e+07, 1.00815646e+08,\n",
       "       7.63257564e+07, 1.03347570e+08, 1.06344567e+08, 1.07662838e+08,\n",
       "       1.30799279e+08, 9.19671380e+07, 8.03932833e+07, 1.40030860e+08,\n",
       "       1.10851270e+08, 9.47139942e+07, 1.09441949e+08, 7.59524939e+07,\n",
       "       8.17230576e+07, 1.28474100e+08, 8.18663015e+07, 6.26288804e+07,\n",
       "       1.54385980e+08, 1.33241557e+08, 1.26633211e+08, 8.52698991e+07,\n",
       "       7.43245794e+07, 1.30505260e+08, 1.25287468e+08, 1.03351135e+08,\n",
       "       8.27539066e+07, 9.96100139e+07, 1.43512144e+08, 9.46380559e+07,\n",
       "       1.16125973e+08, 8.11808213e+07, 8.71279670e+07, 1.09577897e+08,\n",
       "       9.11719228e+07, 1.16082871e+08, 7.35244039e+07, 1.11506835e+08,\n",
       "       7.31309737e+07, 1.02149059e+08, 6.83292650e+07, 9.58357559e+07,\n",
       "       9.78169454e+07, 1.19319473e+08, 8.82913750e+07, 1.10344388e+08,\n",
       "       8.96126291e+07, 9.40202062e+07, 1.36103448e+08, 6.60158624e+07,\n",
       "       7.45517590e+07, 9.12386521e+07, 1.44421619e+08, 1.15479636e+08,\n",
       "       1.00436680e+08, 9.05027567e+07, 9.96603194e+07, 7.58959761e+07,\n",
       "       8.27805769e+07, 1.20581608e+08, 9.90455198e+07, 7.16343841e+07,\n",
       "       1.24086049e+08, 1.01738408e+08, 1.31384986e+08, 8.30438241e+07,\n",
       "       6.09120876e+07, 9.16228707e+07, 1.01565583e+08, 1.07750569e+08,\n",
       "       9.24592542e+07, 6.49425132e+07, 9.46292258e+07, 1.30133211e+08,\n",
       "       1.08440165e+08, 9.58143331e+07, 9.60020108e+07, 5.93370875e+07,\n",
       "       8.55699390e+07, 1.07282109e+08, 6.33439666e+07, 7.97170525e+07,\n",
       "       6.23831909e+07, 8.04294842e+07, 9.14779625e+07, 1.27468586e+08,\n",
       "       8.93736112e+07, 1.09049430e+08, 1.32757659e+08, 8.78552308e+07,\n",
       "       8.63396417e+07, 9.07506140e+07, 1.01391208e+08, 1.05917643e+08,\n",
       "       1.07983844e+08, 1.26867992e+08, 7.04797457e+07, 1.01367006e+08,\n",
       "       7.16578619e+07, 1.21656156e+08, 1.03929907e+08, 9.88809414e+07,\n",
       "       9.23958749e+07, 1.25400057e+08, 1.10591585e+08, 9.06582041e+07,\n",
       "       9.24950561e+07, 9.75161614e+07, 8.75669097e+07, 1.29054850e+08,\n",
       "       9.10430344e+07, 1.28934238e+08, 7.53406679e+07, 8.61830021e+07,\n",
       "       1.09027162e+08, 8.12294580e+07, 1.19660977e+08, 1.34945983e+08,\n",
       "       8.08355734e+07, 7.69837993e+07, 1.15182943e+08, 9.13175810e+07,\n",
       "       1.34760187e+08, 9.23440159e+07, 8.30075524e+07, 1.03937945e+08,\n",
       "       7.14879209e+07, 9.24894703e+07, 8.65431922e+07, 6.96244842e+07,\n",
       "       1.34781008e+08, 1.13566265e+08, 9.50491723e+07, 1.11373447e+08,\n",
       "       6.42835896e+07, 6.41917906e+07, 7.88276219e+07, 1.15815602e+08,\n",
       "       1.22839655e+08, 1.03522663e+08, 1.27760211e+08, 1.11177394e+08,\n",
       "       9.06171109e+07, 1.02144463e+08, 8.58283119e+07, 1.33796797e+08,\n",
       "       8.74324931e+07, 9.17980736e+07, 1.10943528e+08, 1.08994335e+08,\n",
       "       1.10844990e+08, 1.32721733e+08, 1.03389811e+08, 8.71448686e+07,\n",
       "       9.99074967e+07, 7.33929940e+07, 9.20028344e+07, 9.06270498e+07,\n",
       "       1.45249965e+08, 1.22810183e+08, 9.88769401e+07, 6.84742123e+07,\n",
       "       9.34073789e+07, 9.70889304e+07, 1.07084464e+08, 1.13489223e+08,\n",
       "       8.18552105e+07, 9.69708549e+07, 1.36761673e+08, 8.41370908e+07,\n",
       "       1.25275628e+08, 1.20705076e+08, 8.93288675e+07, 9.08616134e+07,\n",
       "       9.70395983e+07, 1.36338900e+08, 1.01551581e+08, 1.02438290e+08,\n",
       "       9.55011191e+07, 6.22756519e+07, 1.14483490e+08, 1.30570653e+08,\n",
       "       9.71661672e+07, 9.68811727e+07, 9.28848070e+07, 7.75138780e+07,\n",
       "       1.20490651e+08, 7.86975313e+07, 1.44492773e+08, 7.91374452e+07,\n",
       "       1.24262938e+08, 1.08869510e+08, 1.32952774e+08, 1.12090457e+08,\n",
       "       7.79984274e+07, 9.99372444e+07, 9.63424026e+07, 6.94375513e+07,\n",
       "       7.50801921e+07, 1.06457136e+08, 7.76783246e+07, 9.28529640e+07,\n",
       "       9.88690332e+07, 9.22973043e+07, 8.30905521e+07, 1.19470704e+08,\n",
       "       1.03928600e+08, 8.28124237e+07, 7.98566809e+07, 1.41800911e+08,\n",
       "       1.05017624e+08, 1.19961635e+08, 1.24874926e+08, 9.43521037e+07,\n",
       "       6.84750931e+07, 9.14962063e+07, 1.00019497e+08, 9.98854315e+07,\n",
       "       1.22676847e+08, 1.04704627e+08, 8.49363101e+07, 1.00921730e+08,\n",
       "       1.13688270e+08, 1.33866118e+08, 1.28756007e+08, 9.16332255e+07,\n",
       "       1.25899703e+08, 5.96032407e+07, 1.10077037e+08, 6.03975621e+07,\n",
       "       6.72083391e+07, 8.48085058e+07, 7.87626292e+07, 9.05098796e+07,\n",
       "       9.21985459e+07, 1.01610588e+08, 1.33824342e+08, 1.23480259e+08,\n",
       "       9.56162062e+07, 1.07082217e+08, 8.14416081e+07, 1.08152036e+08,\n",
       "       7.46745083e+07, 1.01853112e+08, 9.32389745e+07, 1.48744452e+08,\n",
       "       8.44161802e+07, 6.62585438e+07, 1.04466719e+08, 5.77530719e+07,\n",
       "       9.71818592e+07, 9.76874755e+07, 1.08028290e+08, 9.86848232e+07,\n",
       "       8.49383595e+07, 1.15370635e+08, 1.05972474e+08, 1.19432352e+08,\n",
       "       1.05822036e+08, 8.96397765e+07, 1.17974593e+08, 1.07244577e+08,\n",
       "       8.44184129e+07, 1.02199461e+08, 1.14105320e+08, 9.30204768e+07,\n",
       "       9.75617303e+07, 9.79186350e+07, 1.01525923e+08, 5.80592805e+07,\n",
       "       8.35154626e+07, 1.03880219e+08, 1.10799085e+08, 8.08613751e+07,\n",
       "       9.58080363e+07, 9.17925059e+07, 9.25324004e+07, 8.52866819e+07,\n",
       "       1.31518757e+08, 1.03039782e+08, 7.30357127e+07, 1.00831748e+08,\n",
       "       1.19039291e+08, 1.16056227e+08, 6.86617109e+07, 9.64996085e+07,\n",
       "       9.91768552e+07, 1.24385318e+08, 1.09019699e+08, 9.69424687e+07,\n",
       "       8.26865641e+07, 7.06099831e+07, 7.93054454e+07, 8.40738538e+07,\n",
       "       9.38860763e+07, 6.93942875e+07, 9.78309165e+07, 1.09884542e+08,\n",
       "       1.11885635e+08, 9.39473586e+07, 1.08697219e+08, 9.81502433e+07,\n",
       "       9.27462598e+07, 8.78268935e+07, 9.29979020e+07, 7.96585224e+07,\n",
       "       9.81148950e+07, 1.19208818e+08, 8.40243943e+07, 1.04484261e+08,\n",
       "       7.29230805e+07, 1.28397920e+08, 7.77360280e+07, 1.01356146e+08,\n",
       "       1.30093074e+08, 8.18238344e+07, 1.26391999e+08, 1.31081898e+08,\n",
       "       1.06688678e+08, 8.68247934e+07, 7.61970498e+07, 7.62171822e+07,\n",
       "       9.06382685e+07, 1.08895115e+08, 9.74842072e+07, 1.07053662e+08,\n",
       "       1.00282845e+08, 9.95333504e+07, 6.47391710e+07, 1.16153954e+08,\n",
       "       9.76129852e+07, 1.13284456e+08, 1.19532473e+08, 1.18556453e+08,\n",
       "       1.09706613e+08, 1.41164722e+08, 6.77116317e+07, 8.44499136e+07,\n",
       "       9.36933906e+07, 8.87966183e+07, 8.25925856e+07, 1.02049850e+08,\n",
       "       9.25564447e+07, 6.71613966e+07, 6.66928748e+07, 8.64886053e+07,\n",
       "       8.18568586e+07, 6.68687473e+07, 1.26179759e+08, 7.76556734e+07,\n",
       "       9.53594831e+07, 1.08359763e+08, 9.89477861e+07, 1.10238797e+08,\n",
       "       8.95995655e+07, 8.14945744e+07, 7.42340025e+07, 9.04724349e+07,\n",
       "       1.26689385e+08, 1.30085285e+08, 1.02681183e+08, 9.13468790e+07,\n",
       "       1.11755107e+08, 9.67094387e+07, 1.51561422e+08, 1.13904546e+08,\n",
       "       9.73061201e+07, 8.57341734e+07, 8.27761933e+07, 8.51755588e+07,\n",
       "       5.76569842e+07, 9.55732761e+07, 1.08350026e+08, 1.41190215e+08,\n",
       "       1.31475860e+08, 1.04600498e+08, 9.05901101e+07, 1.07954747e+08,\n",
       "       1.39927451e+08, 1.10914172e+08, 1.28003713e+08, 8.43020471e+07,\n",
       "       1.05258125e+08, 8.51424343e+07, 6.42818283e+07, 6.33422626e+07,\n",
       "       1.87239002e+08, 8.96427622e+07, 1.10859127e+08, 7.16447399e+07,\n",
       "       8.54602147e+07, 1.27505699e+08, 9.27993328e+07, 1.09742501e+08,\n",
       "       1.21946785e+08, 1.11239372e+08, 9.20647189e+07, 5.83132743e+07,\n",
       "       9.03817452e+07, 8.66636913e+07, 1.03080297e+08, 7.01245515e+07,\n",
       "       1.09327359e+08, 7.91313637e+07, 8.05565449e+07, 1.12760503e+08,\n",
       "       9.33556886e+07, 8.46094417e+07, 9.12589332e+07, 6.29506760e+07,\n",
       "       7.94465804e+07, 8.88917566e+07, 8.65486489e+07, 1.08773068e+08,\n",
       "       8.85001675e+07, 1.13577135e+08, 1.24329114e+08, 1.34265449e+08,\n",
       "       1.14187554e+08, 1.26250955e+08, 1.05495043e+08, 1.41573193e+08,\n",
       "       9.39481208e+07, 8.73807451e+07, 8.68325308e+07, 1.07693167e+08,\n",
       "       1.17798209e+08, 9.32122414e+07, 1.33840238e+08, 1.32305638e+08,\n",
       "       1.11862754e+08, 8.96342648e+07, 1.03563415e+08, 1.19552332e+08,\n",
       "       8.90402832e+07, 1.38857422e+08, 1.03295564e+08, 8.52793847e+07,\n",
       "       1.24373993e+08, 1.55014403e+08, 1.12643386e+08, 8.79899111e+07,\n",
       "       1.37248857e+08, 1.06559086e+08, 9.28518829e+07, 1.18253965e+08,\n",
       "       1.02151007e+08, 6.50655491e+07, 1.07435759e+08, 1.42258095e+08,\n",
       "       9.81993782e+07, 1.26752407e+08, 7.57899474e+07, 7.38116471e+07,\n",
       "       9.81956164e+07, 1.02545090e+08, 7.63763195e+07, 7.79016824e+07,\n",
       "       1.04911179e+08, 7.94189124e+07, 7.17524388e+07, 9.53529319e+07,\n",
       "       8.86114386e+07, 8.47695270e+07, 1.12566029e+08, 8.98595813e+07,\n",
       "       7.49291287e+07, 9.73746806e+07, 1.02784428e+08, 1.33498906e+08,\n",
       "       7.28104323e+07, 1.56596633e+08, 8.84673475e+07, 8.45467312e+07,\n",
       "       1.02190304e+08, 9.95258452e+07, 1.02736052e+08, 8.77296690e+07,\n",
       "       9.36482405e+07, 1.28427200e+08, 1.08949092e+08, 1.29101213e+08,\n",
       "       1.06351501e+08, 7.25073030e+07, 9.17519648e+07, 1.01982600e+08,\n",
       "       1.63196264e+08, 8.21195075e+07, 1.18667084e+08, 7.67997719e+07,\n",
       "       1.05014936e+08, 8.16899813e+07, 9.07037173e+07, 9.61152265e+07,\n",
       "       1.18117925e+08, 8.73035713e+07, 1.12237676e+08, 1.11383236e+08,\n",
       "       8.19449307e+07, 1.01424017e+08, 1.07322962e+08, 8.84943891e+07,\n",
       "       8.31245363e+07, 8.61395190e+07, 1.24824621e+08, 9.82229985e+07,\n",
       "       6.91851445e+07, 1.09482564e+08, 9.57136692e+07, 7.96556479e+07,\n",
       "       7.53008452e+07, 9.98768656e+07, 9.05330858e+07, 8.58180564e+07,\n",
       "       1.09631172e+08, 6.24343059e+07, 1.05366505e+08, 9.08123446e+07,\n",
       "       1.04123028e+08, 9.19081794e+07, 9.25054713e+07, 1.18514266e+08,\n",
       "       7.10468348e+07, 1.89527240e+08, 1.27865979e+08, 1.27470648e+08,\n",
       "       1.15675988e+08, 1.01979597e+08, 1.03741646e+08, 6.96476879e+07,\n",
       "       8.25396927e+07, 9.83536502e+07, 6.71051276e+07, 7.99710987e+07,\n",
       "       8.40319901e+07, 1.01650484e+08, 9.35321937e+07, 1.57170170e+08,\n",
       "       7.20470436e+07, 8.68897403e+07, 9.26176160e+07, 1.13075084e+08,\n",
       "       7.62935712e+07, 1.05368529e+08, 7.86526564e+07, 8.26793456e+07,\n",
       "       1.05758550e+08, 1.37865424e+08, 1.06170078e+08, 1.13722148e+08,\n",
       "       9.34746699e+07, 9.37643040e+07, 7.36110309e+07, 1.02126002e+08,\n",
       "       1.41171089e+08, 1.08640164e+08, 9.53504826e+07, 1.22934884e+08,\n",
       "       8.93887759e+07, 8.50485188e+07, 9.78566774e+07, 9.95626649e+07,\n",
       "       1.10237431e+08, 6.19759419e+07, 8.80280975e+07, 8.30338963e+07,\n",
       "       9.51336811e+07, 1.12660547e+08, 8.36784005e+07, 1.48261005e+08,\n",
       "       1.11521588e+08, 7.97007658e+07, 1.68094886e+08, 9.97548595e+07,\n",
       "       7.86158849e+07, 1.24340018e+08, 8.02970749e+07, 6.88191471e+07,\n",
       "       1.01282728e+08, 7.51304323e+07, 8.32219602e+07, 7.83359628e+07,\n",
       "       8.48266198e+07, 1.06024259e+08, 9.98776279e+07, 7.58107958e+07,\n",
       "       7.56318390e+07, 8.95406836e+07, 8.70910083e+07, 7.43784498e+07,\n",
       "       1.08307996e+08, 1.36748293e+08, 1.15169017e+08, 8.54219072e+07,\n",
       "       8.86713903e+07, 1.10985383e+08, 1.06625813e+08, 9.17162523e+07,\n",
       "       6.75290778e+07, 8.17209403e+07, 7.39942248e+07, 1.02572298e+08,\n",
       "       6.55335090e+07, 9.84250044e+07, 1.14370187e+08, 9.62350453e+07,\n",
       "       1.28274846e+08, 1.08411778e+08, 8.25672474e+07, 8.72671195e+07,\n",
       "       9.46287983e+07, 1.03077863e+08, 7.70340102e+07, 1.40756183e+08,\n",
       "       7.68807246e+07, 8.72533969e+07, 8.58657201e+07, 1.01631299e+08,\n",
       "       6.04946189e+07, 1.03118068e+08, 9.41861119e+07, 4.46332748e+07,\n",
       "       1.05877313e+08, 1.30650082e+08, 1.07712631e+08, 6.50057207e+07,\n",
       "       9.33840924e+07, 8.10666833e+07, 1.05939088e+08, 9.97779520e+07,\n",
       "       1.03097367e+08, 7.78235917e+07, 8.62878878e+07, 6.19120671e+07,\n",
       "       8.80201682e+07, 8.75476879e+07, 1.03567120e+08, 9.74167567e+07,\n",
       "       9.67738244e+07, 1.48415647e+08, 1.23902617e+08, 7.62601847e+07,\n",
       "       1.29941509e+08, 1.15285897e+08, 1.14390158e+08, 1.03903865e+08,\n",
       "       5.81982088e+07, 9.21761790e+07, 9.01891592e+07, 9.61226319e+07,\n",
       "       7.90565158e+07, 9.41128776e+07, 8.50050170e+07, 8.94078129e+07,\n",
       "       7.05059690e+07, 8.14711447e+07, 9.53898993e+07, 1.03506341e+08,\n",
       "       7.89469712e+07, 1.04721643e+08, 1.30747543e+08, 1.02095837e+08,\n",
       "       1.13952479e+08, 1.28195577e+08, 6.75465456e+07, 1.26611953e+08,\n",
       "       8.00404496e+07, 1.06449818e+08, 1.08025784e+08, 8.66483660e+07,\n",
       "       1.21026154e+08, 7.72316097e+07, 8.09959664e+07, 1.19945676e+08,\n",
       "       7.76654872e+07, 1.27483658e+08, 1.00236208e+08, 5.21968846e+07,\n",
       "       7.48334765e+07, 1.18843316e+08, 1.17230803e+08, 1.09273298e+08,\n",
       "       7.95169022e+07, 8.07507479e+07, 9.13520549e+07, 8.47379434e+07,\n",
       "       1.16897793e+08, 7.10080533e+07, 7.56045966e+07, 1.01092299e+08,\n",
       "       9.95528288e+07, 9.01388532e+07, 1.07368716e+08, 1.29876717e+08])"
      ]
     },
     "execution_count": 269,
     "metadata": {},
     "output_type": "execute_result"
    }
   ],
   "source": [
    "random_variance_vals"
   ]
  },
  {
   "cell_type": "code",
   "execution_count": 270,
   "metadata": {},
   "outputs": [
    {
     "data": {
      "text/plain": [
       "98136734.71091479"
      ]
     },
     "execution_count": 270,
     "metadata": {},
     "output_type": "execute_result"
    }
   ],
   "source": [
    "np.mean(random_variance_vals)"
   ]
  },
  {
   "cell_type": "markdown",
   "metadata": {},
   "source": [
    "#### Compute Error Between Global and Sample Variance"
   ]
  },
  {
   "cell_type": "code",
   "execution_count": 271,
   "metadata": {},
   "outputs": [
    {
     "name": "stdout",
     "output_type": "stream",
     "text": [
      "1.39 % error\n"
     ]
    }
   ],
   "source": [
    "var_err = 100 * abs(VARIANCE - np.mean(random_variance_vals)) / VARIANCE\n",
    "print(f'{np.round(var_err, 2)} % error')"
   ]
  },
  {
   "cell_type": "markdown",
   "metadata": {},
   "source": [
    "#### Compare Interval Estimate of the Sample Mean"
   ]
  },
  {
   "cell_type": "markdown",
   "metadata": {},
   "source": [
    "#### method 1, plot results using estimated value of the sample mean variance\n",
    "#### The below figure plots both normal distributions as a comparison between the exact and estimated data"
   ]
  },
  {
   "cell_type": "code",
   "execution_count": 272,
   "metadata": {},
   "outputs": [
    {
     "data": {
      "image/png": "[encoded data removed]",
      "text/plain": [
       "<Figure size 640x480 with 1 Axes>"
      ]
     },
     "metadata": {},
     "output_type": "display_data"
    }
   ],
   "source": [
    "# plot a distribution of estimated values of the mean and variance\n",
    "\n",
    "sigma = np.sqrt(np.mean(random_variance_vals))\n",
    "mu = np.mean(random_mean_vals)\n",
    "\n",
    "x = np.linspace(mu - 3 * sigma, mu + 3 * sigma, 100)\n",
    "plt.plot(x, stats.norm.pdf(x, mu, sigma))\n",
    "\n",
    "\n",
    "# plot a distribution of the real values of the mean and variance\n",
    "\n",
    "y = np.linspace(MEAN - 3 * np.sqrt(VARIANCE), MEAN + 3 * np.sqrt(VARIANCE), 100)\n",
    "plt.plot(y, stats.norm.pdf(y, MEAN, np.sqrt(VARIANCE)))\n",
    "\n",
    "\n",
    "plt.legend(['estimate', 'real'])\n",
    "plt.title('PDF Based on Real vs Estimated Mean and Variance')\n",
    "plt.xlabel('Calculated Row Sum')\n",
    "plt.show()"
   ]
  },
  {
   "cell_type": "markdown",
   "metadata": {},
   "source": [
    "#### both graphs line up nicely, low error"
   ]
  },
  {
   "cell_type": "markdown",
   "metadata": {},
   "source": [
    "#### method 2, graph a histogram of estimated sample mean values"
   ]
  },
  {
   "cell_type": "code",
   "execution_count": 273,
   "metadata": {},
   "outputs": [
    {
     "data": {
      "image/png": "[encoded data removed]",
      "text/plain": [
       "<Figure size 640x480 with 1 Axes>"
      ]
     },
     "metadata": {},
     "output_type": "display_data"
    }
   ],
   "source": [
    "plt.hist(random_mean_vals, bins=50)\n",
    "plt.title('Raw Data of Average Row Sums')\n",
    "plt.show()"
   ]
  },
  {
   "cell_type": "markdown",
   "metadata": {},
   "source": [
    "#### we can observe the histogram compared to the plot of the estimated data by scaling the graphs"
   ]
  },
  {
   "cell_type": "code",
   "execution_count": 274,
   "metadata": {},
   "outputs": [
    {
     "data": {
      "image/png": "[encoded data removed]",
      "text/plain": [
       "<Figure size 640x480 with 1 Axes>"
      ]
     },
     "metadata": {},
     "output_type": "display_data"
    }
   ],
   "source": [
    "plt.hist(random_mean_vals, bins=50)\n",
    "plt.plot(y, 15e5*stats.norm.pdf(y, MEAN, np.sqrt(VARIANCE)))\n",
    "\n",
    "# mark +/- 1 stdev away from mean\n",
    "plt.vlines([MEAN-np.sqrt(VARIANCE), MEAN+np.sqrt(VARIANCE)], ymin=0, ymax=36)\n",
    "\n",
    "# mark +/- 1/2 stdev away from mean\n",
    "plt.vlines([MEAN-np.sqrt(VARIANCE)/2, MEAN+np.sqrt(VARIANCE)/2], ymin=0, ymax=53, colors='green')\n",
    "\n",
    "plt.title('Scaled PDF vs Raw Histogram')\n",
    "plt.show()"
   ]
  },
  {
   "cell_type": "markdown",
   "metadata": {},
   "source": [
    "#### Test that the extremes of the histogram fall within +/- 1 Standard Deviation of the global mean"
   ]
  },
  {
   "cell_type": "code",
   "execution_count": 275,
   "metadata": {},
   "outputs": [
    {
     "name": "stdout",
     "output_type": "stream",
     "text": [
      "histogram min = 30359.0,\t-0.44\tstdev's away from the mean\n",
      "histogram max = 40004.0,\t0.53\tstdev's away from the mean\n"
     ]
    }
   ],
   "source": [
    "hist_min = np.min(random_mean_vals)\n",
    "hist_max = np.max(random_mean_vals)\n",
    "\n",
    "print(f'histogram min = {np.round(hist_min)},\\t{np.round((hist_min - MEAN) / np.sqrt(VARIANCE), 2)}\\tstdev\\'s away from the mean')\n",
    "print(f'histogram max = {np.round(hist_max)},\\t{np.round((hist_max - MEAN) / np.sqrt(VARIANCE), 2)}\\tstdev\\'s away from the mean')"
   ]
  }
 ],
 "metadata": {
  "kernelspec": {
   "display_name": ".venv",
   "language": "python",
   "name": "python3"
  },
  "language_info": {
   "codemirror_mode": {
    "name": "ipython",
    "version": 3
   },
   "file_extension": ".py",
   "mimetype": "text/x-python",
   "name": "python",
   "nbconvert_exporter": "python",
   "pygments_lexer": "ipython3",
   "version": "3.12.3"
  }
 },
 "nbformat": 4,
 "nbformat_minor": 2
}

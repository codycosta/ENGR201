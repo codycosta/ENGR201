{
 "cells": [
  {
   "cell_type": "markdown",
   "metadata": {},
   "source": [
    "# Homework 8 Notebook\n",
    "### Cody Costa, David Loi"
   ]
  },
  {
   "cell_type": "code",
   "execution_count": 4,
   "metadata": {},
   "outputs": [],
   "source": [
    "import numpy as np\n",
    "import pandas as pd\n",
    "import math\n",
    "import matplotlib.pyplot as plt\n",
    "import scipy.stats as stats"
   ]
  },
  {
   "cell_type": "markdown",
   "metadata": {},
   "source": [
    "#### Load Data to Analyze"
   ]
  },
  {
   "cell_type": "code",
   "execution_count": 5,
   "metadata": {},
   "outputs": [
    {
     "data": {
      "text/html": [
       "<div>\n",
       "<style scoped>\n",
       "    .dataframe tbody tr th:only-of-type {\n",
       "        vertical-align: middle;\n",
       "    }\n",
       "\n",
       "    .dataframe tbody tr th {\n",
       "        vertical-align: top;\n",
       "    }\n",
       "\n",
       "    .dataframe thead th {\n",
       "        text-align: right;\n",
       "    }\n",
       "</style>\n",
       "<table border=\"1\" class=\"dataframe\">\n",
       "  <thead>\n",
       "    <tr style=\"text-align: right;\">\n",
       "      <th></th>\n",
       "      <th>0</th>\n",
       "      <th>1</th>\n",
       "      <th>2</th>\n",
       "      <th>3</th>\n",
       "      <th>4</th>\n",
       "      <th>5</th>\n",
       "      <th>6</th>\n",
       "      <th>7</th>\n",
       "      <th>8</th>\n",
       "      <th>9</th>\n",
       "      <th>...</th>\n",
       "      <th>775</th>\n",
       "      <th>776</th>\n",
       "      <th>777</th>\n",
       "      <th>778</th>\n",
       "      <th>779</th>\n",
       "      <th>780</th>\n",
       "      <th>781</th>\n",
       "      <th>782</th>\n",
       "      <th>783</th>\n",
       "      <th>784</th>\n",
       "    </tr>\n",
       "  </thead>\n",
       "  <tbody>\n",
       "    <tr>\n",
       "      <th>0</th>\n",
       "      <td>0</td>\n",
       "      <td>0</td>\n",
       "      <td>0</td>\n",
       "      <td>0</td>\n",
       "      <td>0</td>\n",
       "      <td>0</td>\n",
       "      <td>0</td>\n",
       "      <td>0</td>\n",
       "      <td>0</td>\n",
       "      <td>0</td>\n",
       "      <td>...</td>\n",
       "      <td>0</td>\n",
       "      <td>0</td>\n",
       "      <td>0</td>\n",
       "      <td>0</td>\n",
       "      <td>0</td>\n",
       "      <td>0</td>\n",
       "      <td>0</td>\n",
       "      <td>0</td>\n",
       "      <td>0</td>\n",
       "      <td>0</td>\n",
       "    </tr>\n",
       "    <tr>\n",
       "      <th>1</th>\n",
       "      <td>9</td>\n",
       "      <td>0</td>\n",
       "      <td>0</td>\n",
       "      <td>0</td>\n",
       "      <td>0</td>\n",
       "      <td>0</td>\n",
       "      <td>0</td>\n",
       "      <td>0</td>\n",
       "      <td>0</td>\n",
       "      <td>0</td>\n",
       "      <td>...</td>\n",
       "      <td>0</td>\n",
       "      <td>0</td>\n",
       "      <td>0</td>\n",
       "      <td>0</td>\n",
       "      <td>0</td>\n",
       "      <td>0</td>\n",
       "      <td>0</td>\n",
       "      <td>0</td>\n",
       "      <td>0</td>\n",
       "      <td>0</td>\n",
       "    </tr>\n",
       "    <tr>\n",
       "      <th>2</th>\n",
       "      <td>7</td>\n",
       "      <td>0</td>\n",
       "      <td>0</td>\n",
       "      <td>0</td>\n",
       "      <td>0</td>\n",
       "      <td>0</td>\n",
       "      <td>0</td>\n",
       "      <td>0</td>\n",
       "      <td>0</td>\n",
       "      <td>0</td>\n",
       "      <td>...</td>\n",
       "      <td>0</td>\n",
       "      <td>0</td>\n",
       "      <td>0</td>\n",
       "      <td>0</td>\n",
       "      <td>0</td>\n",
       "      <td>0</td>\n",
       "      <td>0</td>\n",
       "      <td>0</td>\n",
       "      <td>0</td>\n",
       "      <td>0</td>\n",
       "    </tr>\n",
       "    <tr>\n",
       "      <th>3</th>\n",
       "      <td>9</td>\n",
       "      <td>0</td>\n",
       "      <td>0</td>\n",
       "      <td>0</td>\n",
       "      <td>0</td>\n",
       "      <td>0</td>\n",
       "      <td>0</td>\n",
       "      <td>0</td>\n",
       "      <td>0</td>\n",
       "      <td>0</td>\n",
       "      <td>...</td>\n",
       "      <td>0</td>\n",
       "      <td>0</td>\n",
       "      <td>0</td>\n",
       "      <td>0</td>\n",
       "      <td>0</td>\n",
       "      <td>0</td>\n",
       "      <td>0</td>\n",
       "      <td>0</td>\n",
       "      <td>0</td>\n",
       "      <td>0</td>\n",
       "    </tr>\n",
       "    <tr>\n",
       "      <th>4</th>\n",
       "      <td>2</td>\n",
       "      <td>0</td>\n",
       "      <td>0</td>\n",
       "      <td>0</td>\n",
       "      <td>0</td>\n",
       "      <td>0</td>\n",
       "      <td>0</td>\n",
       "      <td>0</td>\n",
       "      <td>0</td>\n",
       "      <td>0</td>\n",
       "      <td>...</td>\n",
       "      <td>0</td>\n",
       "      <td>0</td>\n",
       "      <td>0</td>\n",
       "      <td>0</td>\n",
       "      <td>0</td>\n",
       "      <td>0</td>\n",
       "      <td>0</td>\n",
       "      <td>0</td>\n",
       "      <td>0</td>\n",
       "      <td>0</td>\n",
       "    </tr>\n",
       "  </tbody>\n",
       "</table>\n",
       "<p>5 rows × 785 columns</p>\n",
       "</div>"
      ],
      "text/plain": [
       "   0    1    2    3    4    5    6    7    8    9    ...  775  776  777  778  \\\n",
       "0    0    0    0    0    0    0    0    0    0    0  ...    0    0    0    0   \n",
       "1    9    0    0    0    0    0    0    0    0    0  ...    0    0    0    0   \n",
       "2    7    0    0    0    0    0    0    0    0    0  ...    0    0    0    0   \n",
       "3    9    0    0    0    0    0    0    0    0    0  ...    0    0    0    0   \n",
       "4    2    0    0    0    0    0    0    0    0    0  ...    0    0    0    0   \n",
       "\n",
       "   779  780  781  782  783  784  \n",
       "0    0    0    0    0    0    0  \n",
       "1    0    0    0    0    0    0  \n",
       "2    0    0    0    0    0    0  \n",
       "3    0    0    0    0    0    0  \n",
       "4    0    0    0    0    0    0  \n",
       "\n",
       "[5 rows x 785 columns]"
      ]
     },
     "execution_count": 5,
     "metadata": {},
     "output_type": "execute_result"
    }
   ],
   "source": [
    "data = pd.read_csv('emnist-digits-test.csv', header=None, sep=',', dtype='uint')\n",
    "data.head()"
   ]
  },
  {
   "cell_type": "markdown",
   "metadata": {},
   "source": [
    "#### Filter data into suggested usable set (sum of each row in the table)"
   ]
  },
  {
   "cell_type": "code",
   "execution_count": 6,
   "metadata": {},
   "outputs": [
    {
     "data": {
      "text/plain": [
       "0        40376\n",
       "1        21547\n",
       "2        35224\n",
       "3        39065\n",
       "4        45823\n",
       "         ...  \n",
       "39995    30171\n",
       "39996    30904\n",
       "39997    37759\n",
       "39998    23020\n",
       "39999    32676\n",
       "Length: 40000, dtype: uint64"
      ]
     },
     "execution_count": 6,
     "metadata": {},
     "output_type": "execute_result"
    }
   ],
   "source": [
    "row_sums = np.sum(data, axis=1)\n",
    "row_sums"
   ]
  },
  {
   "cell_type": "markdown",
   "metadata": {},
   "source": [
    "#### Visualize Data"
   ]
  },
  {
   "cell_type": "code",
   "execution_count": 41,
   "metadata": {},
   "outputs": [
    {
     "data": {
      "image/png": "[encoded data removed]",
      "text/plain": [
       "<Figure size 640x480 with 1 Axes>"
      ]
     },
     "metadata": {},
     "output_type": "display_data"
    }
   ],
   "source": [
    "plt.hist(row_sums, bins=100)\n",
    "plt.title('Distribution of Row Sums')\n",
    "plt.show()"
   ]
  },
  {
   "cell_type": "markdown",
   "metadata": {},
   "source": [
    "# Part 1\n",
    "#### Compute Mean and Variance"
   ]
  },
  {
   "cell_type": "code",
   "execution_count": 31,
   "metadata": {},
   "outputs": [],
   "source": [
    "MEAN = np.round(np.mean(row_sums), 1)\n",
    "VARIANCE = np.round(np.var(row_sums), 1)"
   ]
  },
  {
   "cell_type": "code",
   "execution_count": 32,
   "metadata": {},
   "outputs": [
    {
     "data": {
      "text/plain": [
       "(34698.3, 99515279.6)"
      ]
     },
     "execution_count": 32,
     "metadata": {},
     "output_type": "execute_result"
    }
   ],
   "source": [
    "MEAN, VARIANCE"
   ]
  },
  {
   "cell_type": "markdown",
   "metadata": {},
   "source": [
    "# Part 2\n",
    "#### For a Sample Size of 50, Calculate 1000 random reps of the MEAN, and estimate the VARIANCE"
   ]
  },
  {
   "cell_type": "code",
   "execution_count": 9,
   "metadata": {},
   "outputs": [],
   "source": [
    "sample_size = 50\n",
    "num_runs = 1000\n",
    "\n",
    "random_mean_vals = np.zeros(num_runs)\n",
    "random_variance_vals = np.zeros(num_runs)\n",
    "\n",
    "for j in range(num_runs):\n",
    "    sample_set = np.zeros(sample_size)\n",
    "\n",
    "    for k in range(sample_size):\n",
    "        sample_set[k] = row_sums[np.random.randint(0, row_sums.shape[0])]\n",
    "\n",
    "    random_mean_vals[j] = np.mean(sample_set)\n",
    "    random_variance_vals[j] = np.var(sample_set)"
   ]
  },
  {
   "cell_type": "code",
   "execution_count": 10,
   "metadata": {},
   "outputs": [
    {
     "data": {
      "text/plain": [
       "((1000,), (1000,))"
      ]
     },
     "execution_count": 10,
     "metadata": {},
     "output_type": "execute_result"
    }
   ],
   "source": [
    "random_mean_vals.shape, random_variance_vals.shape"
   ]
  },
  {
   "cell_type": "code",
   "execution_count": 34,
   "metadata": {},
   "outputs": [
    {
     "data": {
      "text/plain": [
       "array([33867.36, 32864.02, 36368.94, 34426.9 , 35284.58, 38108.46,\n",
       "       33424.42, 37674.92, 36331.22, 34740.82, 35649.5 , 37271.4 ,\n",
       "       33918.06, 36455.2 , 34364.22, 36242.68, 34331.98, 34277.44,\n",
       "       33745.86, 33157.9 , 34415.86, 35768.4 , 33141.04, 32678.2 ,\n",
       "       34593.02, 34554.02, 32973.1 , 35447.3 , 32509.88, 34228.08,\n",
       "       35085.38, 34082.04, 32855.64, 34055.08, 35295.38, 32719.84,\n",
       "       35870.4 , 33396.28, 31345.56, 34546.3 , 34095.28, 37061.62,\n",
       "       35924.42, 35614.3 , 36582.46, 34870.34, 35989.52, 35504.26,\n",
       "       33115.82, 35358.2 , 35680.42, 33961.44, 34533.68, 35932.78,\n",
       "       34059.96, 31898.52, 35016.22, 36039.52, 33908.18, 34574.32,\n",
       "       34035.3 , 33654.78, 34414.82, 37483.56, 38382.72, 33412.04,\n",
       "       34973.82, 35285.26, 33527.5 , 34141.6 , 34314.38, 37078.96,\n",
       "       34612.72, 35886.4 , 35441.22, 36073.28, 36508.2 , 34913.38,\n",
       "       33385.26, 34679.8 , 35845.22, 34734.22, 34077.38, 34358.72,\n",
       "       34004.5 , 35409.74, 34047.84, 34670.82, 33803.46, 34029.98,\n",
       "       33660.5 , 32904.44, 33046.46, 32773.76, 32884.72, 32558.38,\n",
       "       38420.9 , 35589.98, 34392.46, 36489.78, 33460.24, 33461.36,\n",
       "       34908.04, 37142.76, 34462.8 , 34289.78, 35831.08, 34899.48,\n",
       "       34801.72, 37318.46, 35805.36, 35402.7 , 36411.22, 33804.1 ,\n",
       "       32253.82, 35610.22, 34775.94, 33914.62, 34727.72, 32793.94,\n",
       "       36094.08, 33019.52, 33586.26, 33526.02, 35439.8 , 32375.94,\n",
       "       36076.46, 33417.46, 37100.08, 32805.1 , 35335.02, 35283.16,\n",
       "       35460.08, 32804.2 , 31918.82, 34944.3 , 35930.3 , 34687.52,\n",
       "       35673.36, 30666.64, 36309.24, 33402.1 , 35105.58, 32365.86,\n",
       "       33639.16, 36519.6 , 38000.54, 34083.5 , 34928.04, 34322.54,\n",
       "       33339.9 , 33843.18, 37232.38, 32208.14, 33943.88, 34888.14,\n",
       "       34861.62, 32264.34, 33769.1 , 33197.68, 36190.94, 35157.64,\n",
       "       36665.16, 34146.42, 35806.2 , 33262.16, 34976.74, 35363.22,\n",
       "       36942.48, 37408.98, 32274.66, 36793.12, 33653.32, 32301.7 ,\n",
       "       31566.44, 34689.78, 33808.04, 33826.78, 36016.84, 33346.94,\n",
       "       35792.36, 35401.9 , 33725.76, 32839.3 , 34911.82, 34521.32,\n",
       "       34352.2 , 35778.78, 33993.62, 34794.36, 36934.32, 34404.6 ,\n",
       "       34803.02, 33979.3 , 35920.18, 36726.38, 35252.28, 33486.  ,\n",
       "       33438.28, 34090.54, 35112.14, 33667.54, 34785.58, 33787.18,\n",
       "       34970.38, 33461.26, 36022.84, 35804.02, 34004.86, 33614.76,\n",
       "       31946.66, 33466.8 , 35517.3 , 35220.76, 34976.44, 35280.72,\n",
       "       37117.7 , 35507.82, 35552.72, 36838.26, 35510.2 , 32462.74,\n",
       "       34588.78, 35879.96, 37123.6 , 36258.08, 34609.3 , 33443.24,\n",
       "       34590.42, 36897.8 , 35012.62, 32608.7 , 35460.94, 32680.7 ,\n",
       "       33249.86, 32575.82, 35291.82, 34386.5 , 33405.14, 33190.  ,\n",
       "       34545.22, 31754.  , 34451.06, 35310.94, 32313.08, 35570.98,\n",
       "       33558.86, 32188.66, 36350.38, 36213.06, 34246.06, 36756.56,\n",
       "       36229.12, 33074.4 , 34806.32, 35110.14, 34719.64, 34375.74,\n",
       "       33994.82, 33526.06, 33223.2 , 34811.62, 35551.42, 33984.58,\n",
       "       36331.24, 34489.66, 34045.82, 34565.28, 35282.52, 35765.4 ,\n",
       "       37161.64, 34963.82, 35670.08, 35350.78, 35837.06, 31772.2 ,\n",
       "       36828.02, 35935.62, 37335.92, 33140.88, 34504.2 , 34992.92,\n",
       "       34871.54, 35376.34, 35845.62, 35946.  , 34864.76, 34039.1 ,\n",
       "       34124.34, 33987.56, 35687.42, 34153.54, 37114.  , 33512.84,\n",
       "       34376.68, 34802.8 , 33953.96, 32977.78, 35792.78, 37802.6 ,\n",
       "       34487.7 , 34565.7 , 34601.94, 33153.54, 34139.12, 34980.32,\n",
       "       34770.48, 33596.72, 36844.1 , 33874.56, 34711.38, 34553.78,\n",
       "       32414.48, 33964.26, 34106.04, 34111.84, 35089.96, 32429.3 ,\n",
       "       35755.36, 32379.9 , 36326.74, 34073.4 , 35925.28, 32899.98,\n",
       "       33240.04, 33934.14, 34506.58, 33610.6 , 34092.08, 35216.28,\n",
       "       35354.7 , 35420.9 , 34948.78, 33855.64, 34938.96, 34151.18,\n",
       "       35129.32, 34004.12, 34355.88, 32714.64, 35831.2 , 31493.78,\n",
       "       34181.28, 33578.28, 35103.8 , 34637.94, 33103.88, 36343.8 ,\n",
       "       36531.52, 34305.08, 36148.84, 33583.46, 34043.32, 35029.54,\n",
       "       34498.66, 32164.28, 31988.04, 35403.64, 36290.04, 31105.26,\n",
       "       35854.48, 35206.06, 32934.2 , 35149.48, 35695.52, 34525.58,\n",
       "       37442.08, 34707.08, 36650.74, 34674.6 , 35437.16, 34509.04,\n",
       "       34339.78, 33114.3 , 31109.38, 34978.72, 35598.04, 33948.68,\n",
       "       35349.7 , 34378.  , 34657.7 , 33624.28, 32267.9 , 34173.74,\n",
       "       32402.96, 35576.14, 33361.04, 33676.8 , 32428.02, 33438.18,\n",
       "       35526.34, 34828.66, 33657.98, 34375.48, 35032.08, 34671.7 ,\n",
       "       35165.28, 34273.02, 34434.22, 32838.36, 34271.32, 35677.3 ,\n",
       "       34916.76, 37017.22, 35260.72, 34453.66, 34343.84, 35585.78,\n",
       "       35406.46, 33353.18, 33569.38, 33571.82, 34363.18, 35568.54,\n",
       "       35010.82, 32138.44, 35201.3 , 32539.42, 35773.96, 33051.12,\n",
       "       33872.34, 33205.96, 34604.48, 36120.7 , 33918.44, 35384.58,\n",
       "       36278.24, 31889.58, 33416.36, 36309.76, 35638.22, 35645.96,\n",
       "       33216.36, 33140.78, 36230.86, 35373.46, 35315.26, 35616.14,\n",
       "       34038.24, 34194.14, 35135.3 , 35321.5 , 36434.16, 34120.64,\n",
       "       33022.32, 33641.82, 37132.02, 33877.86, 36880.52, 34922.92,\n",
       "       34024.54, 33170.24, 36217.4 , 34913.06, 35360.72, 33051.38,\n",
       "       34594.04, 36203.86, 36257.34, 35347.4 , 34604.68, 33231.38,\n",
       "       33516.54, 35164.1 , 31758.64, 36288.44, 32614.6 , 35496.4 ,\n",
       "       35186.1 , 34879.7 , 33877.84, 34789.82, 34930.46, 33606.6 ,\n",
       "       32569.68, 34251.5 , 34424.02, 33874.78, 35401.98, 39222.56,\n",
       "       34946.96, 34945.18, 33309.94, 37324.24, 34313.  , 33306.66,\n",
       "       32186.2 , 35433.26, 36133.28, 31258.98, 31048.76, 33759.7 ,\n",
       "       36114.98, 33922.14, 35115.4 , 32724.94, 33918.26, 33915.6 ,\n",
       "       34500.52, 36715.38, 36416.66, 34025.74, 32473.58, 33418.9 ,\n",
       "       34696.02, 35782.22, 30948.88, 33588.  , 34397.84, 39181.86,\n",
       "       35548.62, 37489.48, 35357.4 , 35862.48, 34815.54, 35542.42,\n",
       "       33864.32, 33860.12, 35139.12, 37990.9 , 34921.26, 34659.58,\n",
       "       35815.9 , 35889.02, 35971.64, 34265.46, 33874.94, 35772.36,\n",
       "       33280.54, 36261.94, 36339.98, 35598.74, 34576.1 , 36545.08,\n",
       "       35431.14, 36196.84, 35448.52, 34804.02, 33174.04, 35099.88,\n",
       "       34270.6 , 35730.28, 33989.98, 35593.2 , 32303.34, 35070.6 ,\n",
       "       35600.18, 35477.36, 34071.96, 32546.78, 33848.78, 34361.16,\n",
       "       33680.72, 36775.76, 35343.5 , 33892.48, 35039.82, 34835.46,\n",
       "       34282.54, 36560.7 , 34490.96, 34987.62, 33648.4 , 34120.26,\n",
       "       34414.96, 32741.52, 33896.56, 34198.04, 31313.22, 32369.54,\n",
       "       33643.38, 35711.48, 31988.34, 33601.  , 33763.66, 33920.28,\n",
       "       33697.54, 36550.16, 34302.78, 35802.04, 33960.94, 32242.42,\n",
       "       34531.84, 36161.98, 35413.46, 36088.3 , 33732.3 , 33961.36,\n",
       "       34394.4 , 35946.18, 36694.76, 35116.52, 33963.  , 36041.26,\n",
       "       34892.82, 33746.04, 30748.64, 31225.58, 37066.8 , 34868.2 ,\n",
       "       32618.68, 35149.76, 35088.08, 35487.22, 35159.22, 34630.56,\n",
       "       33547.72, 35018.36, 34626.32, 34037.8 , 34508.28, 33827.32,\n",
       "       34456.72, 37099.1 , 36462.42, 35974.28, 35246.54, 34636.04,\n",
       "       36707.06, 36393.84, 34778.28, 33172.8 , 34879.58, 32928.46,\n",
       "       31979.78, 35599.28, 35912.4 , 32396.58, 34687.08, 32418.96,\n",
       "       33805.56, 36322.48, 32272.08, 33777.3 , 34426.02, 34974.7 ,\n",
       "       32898.34, 34771.92, 34963.68, 36248.9 , 33387.7 , 34460.52,\n",
       "       36219.4 , 32960.52, 34630.08, 34881.42, 33988.58, 36893.12,\n",
       "       36116.72, 36422.6 , 36897.  , 36050.04, 36899.48, 35918.22,\n",
       "       33648.84, 33799.44, 36277.14, 34914.28, 34874.48, 35438.14,\n",
       "       36180.02, 34259.24, 34105.  , 33994.16, 35936.92, 33794.28,\n",
       "       34575.38, 33042.78, 34830.54, 34571.2 , 34827.9 , 34170.38,\n",
       "       33377.32, 35379.88, 36742.4 , 34038.24, 35124.68, 35181.24,\n",
       "       36315.26, 33463.96, 36726.72, 36947.16, 34296.6 , 35958.6 ,\n",
       "       34654.9 , 35786.88, 35763.62, 35892.22, 32708.68, 35596.26,\n",
       "       34081.46, 36798.88, 33491.06, 34715.02, 33786.46, 35968.2 ,\n",
       "       34031.78, 33406.68, 35719.16, 36039.22, 35860.02, 33218.26,\n",
       "       34484.36, 34102.22, 34570.62, 35847.56, 34556.82, 37538.84,\n",
       "       32067.8 , 35782.56, 36742.22, 37391.26, 32374.32, 34082.42,\n",
       "       35641.02, 36084.82, 35522.88, 34106.2 , 35405.46, 35571.88,\n",
       "       34833.34, 34905.42, 36270.94, 36451.72, 35746.72, 35023.58,\n",
       "       32237.94, 37872.12, 37342.18, 34276.16, 34260.06, 33610.86,\n",
       "       35570.32, 35347.24, 35220.56, 36199.7 , 34136.82, 33083.02,\n",
       "       33784.58, 34350.06, 35742.8 , 37961.28, 34676.1 , 36391.6 ,\n",
       "       34586.42, 35892.5 , 36699.42, 36108.84, 32844.66, 33959.48,\n",
       "       32945.98, 35738.94, 34078.36, 34085.58, 34461.54, 33642.36,\n",
       "       36190.18, 34388.06, 32663.24, 35188.8 , 34142.08, 34538.62,\n",
       "       37071.98, 32261.82, 37626.46, 37104.98, 34714.8 , 35428.88,\n",
       "       35451.32, 33992.08, 33659.7 , 33794.84, 37749.46, 33167.14,\n",
       "       35060.66, 32359.8 , 35722.58, 37412.1 , 36355.44, 35491.14,\n",
       "       34007.44, 34990.76, 34947.8 , 33981.78, 32632.64, 36599.36,\n",
       "       34693.82, 35225.14, 32972.  , 35566.12, 32363.6 , 32920.78,\n",
       "       36230.2 , 37270.9 , 33379.  , 33172.68, 34807.08, 34956.2 ,\n",
       "       34077.94, 35051.64, 34874.42, 33791.82, 33860.78, 35761.46,\n",
       "       33916.56, 34905.78, 33854.82, 35844.26, 35399.22, 34418.02,\n",
       "       34660.3 , 35721.22, 33450.6 , 34082.9 , 36460.22, 33722.12,\n",
       "       33652.44, 34546.14, 33872.36, 35268.18, 34883.46, 34167.2 ,\n",
       "       33431.9 , 35250.28, 35164.78, 35968.22, 35983.06, 33715.04,\n",
       "       32799.96, 34642.1 , 34829.  , 33608.44, 33787.94, 33833.22,\n",
       "       35400.24, 34070.42, 34743.62, 32038.72, 33484.66, 35364.68,\n",
       "       36569.62, 35670.42, 32529.84, 33868.82, 31954.96, 35422.82,\n",
       "       33107.82, 33685.98, 35394.92, 32801.84, 35573.28, 35482.5 ,\n",
       "       35018.24, 36963.4 , 35640.48, 34729.54, 34788.28, 33888.7 ,\n",
       "       34106.4 , 35544.  , 35413.8 , 34404.02, 34784.42, 33068.26,\n",
       "       34467.32, 36620.22, 33311.8 , 36645.86, 33605.28, 36281.38,\n",
       "       34196.88, 35793.5 , 35910.68, 34738.12, 34665.54, 34451.18,\n",
       "       35610.78, 34669.5 , 34821.28, 35114.44, 33544.32, 35543.  ,\n",
       "       34294.76, 35536.26, 34740.34, 37192.92, 34613.  , 39550.7 ,\n",
       "       34801.98, 34678.58, 35471.36, 33856.66, 32786.88, 36667.06,\n",
       "       34146.26, 35918.28, 35627.22, 36375.98, 33370.6 , 33997.54,\n",
       "       29977.74, 31287.36, 31615.88, 33943.24, 34320.16, 34353.58,\n",
       "       34514.6 , 36120.12, 32507.26, 32909.44, 32970.7 , 35018.82,\n",
       "       34194.7 , 34131.22, 34998.4 , 34671.06, 35906.36, 34273.94,\n",
       "       34441.58, 35551.44, 31356.14, 35912.3 , 36427.14, 30921.64,\n",
       "       34291.48, 35667.5 , 34854.04, 38651.82, 33204.28, 36901.4 ,\n",
       "       35403.68, 34330.28, 35407.76, 31928.14, 37709.4 , 34659.94,\n",
       "       32943.68, 33152.62, 32531.14, 36258.48, 33905.7 , 35161.62,\n",
       "       35846.66, 33966.98, 34278.42, 35600.08, 35523.52, 33483.78,\n",
       "       36585.1 , 34358.9 , 34186.64, 34562.66, 33693.64, 37149.34,\n",
       "       32967.42, 37210.3 , 37115.28, 33944.54, 35128.36, 34376.54,\n",
       "       35108.8 , 33153.74, 37468.98, 36357.26, 33126.34, 32038.64,\n",
       "       36013.54, 33781.32, 32670.16, 34038.24, 34530.84, 32343.08,\n",
       "       35873.14, 35166.78, 35235.88, 34856.72, 36083.8 , 34730.62,\n",
       "       33953.92, 35273.82, 36828.6 , 35951.68, 34210.44, 35119.2 ,\n",
       "       32740.48, 33234.7 , 32931.1 , 35633.1 , 37717.14, 35943.82,\n",
       "       34787.78, 35596.4 , 36431.7 , 35088.96, 34100.94, 34572.42,\n",
       "       35853.62, 33762.96, 32341.84, 34264.46])"
      ]
     },
     "execution_count": 34,
     "metadata": {},
     "output_type": "execute_result"
    }
   ],
   "source": [
    "random_mean_vals"
   ]
  },
  {
   "cell_type": "code",
   "execution_count": 12,
   "metadata": {},
   "outputs": [
    {
     "data": {
      "text/plain": [
       "array([1.02610036e+08, 7.41121334e+07, 9.57795419e+07, 9.75370509e+07,\n",
       "       1.29907559e+08, 1.33283067e+08, 1.30881667e+08, 1.09208039e+08,\n",
       "       1.17436638e+08, 7.73995639e+07, 9.05846515e+07, 6.64023352e+07,\n",
       "       9.13659795e+07, 1.17321729e+08, 1.06944905e+08, 9.96781121e+07,\n",
       "       9.67107119e+07, 8.16357446e+07, 8.36099732e+07, 9.69192343e+07,\n",
       "       8.32704773e+07, 1.23599408e+08, 1.10171682e+08, 8.65200356e+07,\n",
       "       7.64669025e+07, 8.15227645e+07, 1.07209752e+08, 8.23813712e+07,\n",
       "       1.05480764e+08, 1.08362596e+08, 1.19210959e+08, 9.44811602e+07,\n",
       "       1.23152823e+08, 8.78380654e+07, 1.20585838e+08, 8.31712683e+07,\n",
       "       1.46658091e+08, 7.56673555e+07, 9.90372080e+07, 1.10605815e+08,\n",
       "       8.27104548e+07, 8.31852350e+07, 8.81398639e+07, 7.25675655e+07,\n",
       "       1.21990770e+08, 1.19028773e+08, 1.11424285e+08, 1.11397406e+08,\n",
       "       6.92398352e+07, 1.25618184e+08, 1.07364568e+08, 7.45870313e+07,\n",
       "       8.51449302e+07, 8.54353893e+07, 9.62173063e+07, 5.75441952e+07,\n",
       "       9.22324245e+07, 1.38399619e+08, 8.42959963e+07, 1.20158881e+08,\n",
       "       9.70312286e+07, 7.94902810e+07, 1.01968876e+08, 9.62764008e+07,\n",
       "       1.26145968e+08, 8.67758012e+07, 1.00655720e+08, 7.40025364e+07,\n",
       "       8.32431447e+07, 1.27125159e+08, 1.00295501e+08, 1.09495985e+08,\n",
       "       8.19534768e+07, 1.09239208e+08, 1.19577040e+08, 1.39041561e+08,\n",
       "       8.93107154e+07, 1.23598172e+08, 1.07773905e+08, 7.15300814e+07,\n",
       "       9.33424945e+07, 8.26196285e+07, 8.47571306e+07, 6.39647195e+07,\n",
       "       9.67134072e+07, 9.50406232e+07, 8.74426331e+07, 1.09680359e+08,\n",
       "       1.10770314e+08, 7.08204985e+07, 8.88360021e+07, 1.05217029e+08,\n",
       "       9.04487999e+07, 9.11320505e+07, 9.18002764e+07, 1.38235046e+08,\n",
       "       9.45034099e+07, 9.55425184e+07, 9.09937477e+07, 1.15673882e+08,\n",
       "       9.73107885e+07, 7.15476212e+07, 1.00430218e+08, 5.63799419e+07,\n",
       "       9.48690281e+07, 1.08025966e+08, 9.95688815e+07, 9.82077439e+07,\n",
       "       1.12277587e+08, 1.02552980e+08, 1.20156764e+08, 8.48196990e+07,\n",
       "       1.04306396e+08, 1.00339469e+08, 9.16815695e+07, 7.24328085e+07,\n",
       "       7.89324779e+07, 1.04943889e+08, 9.43764814e+07, 1.00067327e+08,\n",
       "       1.12700211e+08, 1.04146136e+08, 7.90187597e+07, 1.30570956e+08,\n",
       "       8.06806078e+07, 1.03013884e+08, 1.10729574e+08, 1.08050041e+08,\n",
       "       1.00775050e+08, 9.07140035e+07, 1.25771810e+08, 1.08847482e+08,\n",
       "       1.10523067e+08, 5.95090471e+07, 1.13621624e+08, 1.26630863e+08,\n",
       "       1.22733579e+08, 9.28720460e+07, 9.33189843e+07, 9.13685836e+07,\n",
       "       1.06889655e+08, 1.01482864e+08, 9.17424267e+07, 8.72002580e+07,\n",
       "       9.85446929e+07, 1.09373520e+08, 1.05246960e+08, 1.17608358e+08,\n",
       "       1.00863309e+08, 9.21696598e+07, 6.75459102e+07, 7.25044677e+07,\n",
       "       1.22975462e+08, 5.63619723e+07, 1.10090852e+08, 1.15591796e+08,\n",
       "       8.75281908e+07, 8.52420680e+07, 9.89913553e+07, 7.07899349e+07,\n",
       "       6.80047439e+07, 9.30026643e+07, 9.19041011e+07, 6.18637922e+07,\n",
       "       1.07815949e+08, 5.78124042e+07, 1.29010286e+08, 9.93984812e+07,\n",
       "       9.87441040e+07, 1.23390676e+08, 9.78761045e+07, 8.16969821e+07,\n",
       "       7.01939092e+07, 9.29106019e+07, 5.53144164e+07, 9.70929650e+07,\n",
       "       6.25593650e+07, 9.13997837e+07, 1.14863146e+08, 9.33914383e+07,\n",
       "       9.47080978e+07, 8.33385850e+07, 9.41210961e+07, 9.44852671e+07,\n",
       "       8.91030611e+07, 1.08087850e+08, 9.60570272e+07, 1.31800025e+08,\n",
       "       8.60332488e+07, 7.00605394e+07, 8.39641886e+07, 9.57981720e+07,\n",
       "       4.98017975e+07, 1.00854788e+08, 8.27154900e+07, 5.95074464e+07,\n",
       "       9.06200241e+07, 1.07634104e+08, 1.51114445e+08, 8.76751824e+07,\n",
       "       9.57155438e+07, 7.28608736e+07, 8.88754941e+07, 1.00126139e+08,\n",
       "       8.47520327e+07, 1.10983378e+08, 8.55321249e+07, 1.12402380e+08,\n",
       "       9.49759273e+07, 9.99844962e+07, 6.47700154e+07, 8.98123425e+07,\n",
       "       8.94874237e+07, 1.04310340e+08, 8.42767871e+07, 1.04138111e+08,\n",
       "       1.54984908e+08, 8.40122209e+07, 8.11916651e+07, 9.91556954e+07,\n",
       "       1.05692868e+08, 9.72649152e+07, 1.10586612e+08, 9.84774771e+07,\n",
       "       1.15854398e+08, 8.57208224e+07, 7.66966905e+07, 9.04624889e+07,\n",
       "       8.38532374e+07, 9.31657140e+07, 1.20034573e+08, 1.02423147e+08,\n",
       "       1.00143727e+08, 1.29845052e+08, 1.05941934e+08, 1.25920975e+08,\n",
       "       7.71554005e+07, 9.43895687e+07, 1.01440939e+08, 1.02155864e+08,\n",
       "       1.26371527e+08, 1.00472252e+08, 8.26757945e+07, 6.78493184e+07,\n",
       "       6.48544924e+07, 9.22708037e+07, 7.93683970e+07, 7.78829356e+07,\n",
       "       1.15939261e+08, 9.08512235e+07, 6.52263681e+07, 1.17420336e+08,\n",
       "       1.28804943e+08, 1.25006947e+08, 9.84551415e+07, 8.47979226e+07,\n",
       "       7.91905148e+07, 7.26744767e+07, 8.96974751e+07, 8.47730882e+07,\n",
       "       8.09173773e+07, 1.57888605e+08, 1.02629873e+08, 6.20141584e+07,\n",
       "       7.94362816e+07, 1.43070687e+08, 1.03513458e+08, 1.07381141e+08,\n",
       "       1.32439383e+08, 1.21693310e+08, 6.99110223e+07, 8.44595337e+07,\n",
       "       7.20514317e+07, 1.16833067e+08, 7.91716471e+07, 1.00118694e+08,\n",
       "       9.70178584e+07, 1.22124860e+08, 9.69301184e+07, 7.96438975e+07,\n",
       "       9.74178337e+07, 1.15958344e+08, 1.51000343e+08, 1.28824360e+08,\n",
       "       1.15432675e+08, 1.02613387e+08, 9.41114848e+07, 1.23377122e+08,\n",
       "       1.10074430e+08, 5.08926685e+07, 8.83928508e+07, 1.43077159e+08,\n",
       "       7.07933804e+07, 1.18774057e+08, 9.69078069e+07, 1.02414296e+08,\n",
       "       1.29063565e+08, 1.30146389e+08, 1.11075413e+08, 6.30433853e+07,\n",
       "       9.61294728e+07, 1.17696656e+08, 1.21337055e+08, 1.14620009e+08,\n",
       "       1.23993620e+08, 8.87130218e+07, 9.92167980e+07, 8.16948424e+07,\n",
       "       1.04508194e+08, 8.96337517e+07, 8.87264591e+07, 4.85890363e+07,\n",
       "       8.35783962e+07, 8.68450053e+07, 9.19604217e+07, 1.00009839e+08,\n",
       "       1.00271990e+08, 6.73017275e+07, 7.88206448e+07, 1.14801112e+08,\n",
       "       9.18290504e+07, 1.37177440e+08, 7.83129794e+07, 7.36340284e+07,\n",
       "       9.91148837e+07, 9.86075149e+07, 1.10668808e+08, 1.23540763e+08,\n",
       "       1.01409996e+08, 7.36970703e+07, 1.39297422e+08, 1.42496665e+08,\n",
       "       8.11661103e+07, 9.48540520e+07, 1.04313193e+08, 1.03436796e+08,\n",
       "       1.16361102e+08, 9.22777610e+07, 8.96359084e+07, 8.32387147e+07,\n",
       "       8.98117796e+07, 7.40021321e+07, 1.22183815e+08, 7.73517560e+07,\n",
       "       1.06764602e+08, 1.08375163e+08, 6.22841840e+07, 1.06637715e+08,\n",
       "       8.85337855e+07, 8.77461729e+07, 9.09858339e+07, 8.64886558e+07,\n",
       "       1.21887580e+08, 8.08563485e+07, 1.20276047e+08, 8.85677860e+07,\n",
       "       1.05947608e+08, 6.53852595e+07, 9.76592954e+07, 1.02109668e+08,\n",
       "       9.83728737e+07, 1.13000499e+08, 9.82473742e+07, 9.38965098e+07,\n",
       "       1.15360754e+08, 5.00954979e+07, 9.56542357e+07, 7.20870808e+07,\n",
       "       1.18677370e+08, 1.10134596e+08, 1.36402543e+08, 1.03592539e+08,\n",
       "       8.63953335e+07, 8.62470986e+07, 1.07907166e+08, 1.07203238e+08,\n",
       "       1.01474130e+08, 7.48630076e+07, 8.50483897e+07, 1.12435000e+08,\n",
       "       1.40123110e+08, 1.07427052e+08, 8.50098622e+07, 1.02405873e+08,\n",
       "       8.64849168e+07, 8.59628278e+07, 1.04505942e+08, 7.25941826e+07,\n",
       "       7.51371666e+07, 1.10927328e+08, 8.12801794e+07, 1.20993108e+08,\n",
       "       8.46727499e+07, 9.65514319e+07, 8.42928266e+07, 1.24400192e+08,\n",
       "       1.15327590e+08, 1.00592975e+08, 9.95208366e+07, 7.36921508e+07,\n",
       "       1.20302822e+08, 9.45384213e+07, 1.05666301e+08, 1.11553055e+08,\n",
       "       1.15746724e+08, 1.03329061e+08, 8.80847886e+07, 1.11757687e+08,\n",
       "       1.11619462e+08, 6.71479163e+07, 9.25573569e+07, 8.40088121e+07,\n",
       "       1.02091187e+08, 8.30833150e+07, 8.32123131e+07, 9.31372358e+07,\n",
       "       1.22054629e+08, 9.42221079e+07, 1.07046425e+08, 1.03016941e+08,\n",
       "       9.77726095e+07, 9.97391240e+07, 1.22784174e+08, 1.27114547e+08,\n",
       "       1.12044919e+08, 1.22167591e+08, 9.13849943e+07, 8.04530920e+07,\n",
       "       8.77992428e+07, 6.10560781e+07, 1.70069025e+08, 9.32469092e+07,\n",
       "       7.51710394e+07, 7.97976603e+07, 1.17341920e+08, 6.70352220e+07,\n",
       "       8.01889144e+07, 1.07401629e+08, 1.12876037e+08, 8.60568941e+07,\n",
       "       9.97523587e+07, 7.31586096e+07, 9.42253004e+07, 1.39021316e+08,\n",
       "       7.79606377e+07, 9.36894313e+07, 1.29114659e+08, 9.03334946e+07,\n",
       "       1.18925330e+08, 9.23334207e+07, 9.30840186e+07, 9.06313751e+07,\n",
       "       1.25098697e+08, 7.22023601e+07, 1.12250655e+08, 8.65512120e+07,\n",
       "       1.15021902e+08, 1.19525410e+08, 1.28271418e+08, 6.93010382e+07,\n",
       "       1.10338514e+08, 1.00297935e+08, 9.90582222e+07, 1.09164759e+08,\n",
       "       5.41257864e+07, 8.47527513e+07, 8.13006832e+07, 8.16806013e+07,\n",
       "       6.68643844e+07, 6.10327459e+07, 9.52930692e+07, 8.75757052e+07,\n",
       "       1.05674581e+08, 1.05931333e+08, 7.11991910e+07, 7.13320019e+07,\n",
       "       9.02058224e+07, 9.12785083e+07, 1.19632944e+08, 1.15199734e+08,\n",
       "       8.99022021e+07, 1.14091608e+08, 1.03883842e+08, 1.31116217e+08,\n",
       "       8.98019007e+07, 9.57305128e+07, 4.18577846e+07, 9.26434950e+07,\n",
       "       1.33746669e+08, 8.17158340e+07, 7.98679758e+07, 1.09734553e+08,\n",
       "       9.43916161e+07, 1.22817846e+08, 1.13990736e+08, 7.85441753e+07,\n",
       "       1.00909874e+08, 1.00197222e+08, 1.12088519e+08, 9.20530516e+07,\n",
       "       1.35802036e+08, 1.23745784e+08, 7.85394296e+07, 7.36439949e+07,\n",
       "       7.26005343e+07, 7.28496098e+07, 9.74817993e+07, 8.10744277e+07,\n",
       "       9.78592877e+07, 1.31708222e+08, 1.11993539e+08, 9.57266120e+07,\n",
       "       8.70451345e+07, 1.13101788e+08, 1.10963960e+08, 1.11244618e+08,\n",
       "       8.06077482e+07, 9.37162294e+07, 1.10562268e+08, 1.21553512e+08,\n",
       "       6.95161084e+07, 1.34366856e+08, 9.47307272e+07, 6.24054353e+07,\n",
       "       8.86369340e+07, 1.21049610e+08, 6.62971533e+07, 7.76080935e+07,\n",
       "       1.06993381e+08, 9.14116115e+07, 1.04008046e+08, 1.03494580e+08,\n",
       "       9.16699353e+07, 1.17229226e+08, 1.02819806e+08, 8.32674831e+07,\n",
       "       8.25535482e+07, 1.18212477e+08, 9.28048554e+07, 1.01968464e+08,\n",
       "       9.55468260e+07, 1.22351166e+08, 7.72696842e+07, 1.62939513e+08,\n",
       "       6.90242829e+07, 9.78285494e+07, 1.32975369e+08, 9.35999447e+07,\n",
       "       9.14149024e+07, 9.66762911e+07, 8.66036737e+07, 8.59708791e+07,\n",
       "       1.13076584e+08, 7.51144349e+07, 1.14301390e+08, 1.11348846e+08,\n",
       "       8.29688831e+07, 1.01505582e+08, 1.18433685e+08, 8.15358851e+07,\n",
       "       6.61508650e+07, 1.00753865e+08, 1.17368637e+08, 8.92393831e+07,\n",
       "       1.17201667e+08, 7.21163143e+07, 1.12225948e+08, 1.49825373e+08,\n",
       "       9.09166897e+07, 8.58418372e+07, 1.16087879e+08, 1.07119424e+08,\n",
       "       6.85534231e+07, 8.64996870e+07, 9.96453066e+07, 9.74029667e+07,\n",
       "       9.52055135e+07, 8.55192629e+07, 9.01856115e+07, 5.71333531e+07,\n",
       "       9.52141365e+07, 9.08577162e+07, 9.53835355e+07, 9.60642365e+07,\n",
       "       9.23463206e+07, 1.23679846e+08, 1.10768614e+08, 8.56836539e+07,\n",
       "       1.10918621e+08, 8.63817089e+07, 1.07861414e+08, 1.20247000e+08,\n",
       "       1.03878811e+08, 1.11696958e+08, 6.05532510e+07, 9.83633228e+07,\n",
       "       8.77043471e+07, 9.31053474e+07, 1.05778270e+08, 1.15969190e+08,\n",
       "       7.92170682e+07, 1.10636276e+08, 8.99783687e+07, 7.25882899e+07,\n",
       "       9.02235084e+07, 9.28656490e+07, 1.40851570e+08, 1.09591923e+08,\n",
       "       6.64153145e+07, 6.27653294e+07, 1.07262287e+08, 9.54543981e+07,\n",
       "       1.12383344e+08, 6.91208607e+07, 1.44856211e+08, 9.39414224e+07,\n",
       "       1.60081661e+08, 1.03550139e+08, 8.17208681e+07, 1.28566262e+08,\n",
       "       1.13654555e+08, 8.53323512e+07, 7.46640224e+07, 9.28855080e+07,\n",
       "       6.87165615e+07, 1.15451454e+08, 1.32407656e+08, 1.15598455e+08,\n",
       "       1.08376678e+08, 8.59550513e+07, 9.14362938e+07, 1.23230466e+08,\n",
       "       7.38855842e+07, 1.02618820e+08, 9.65477294e+07, 8.85715899e+07,\n",
       "       8.92697096e+07, 9.06344429e+07, 1.12313741e+08, 9.22253444e+07,\n",
       "       8.77650021e+07, 1.12426479e+08, 1.03260743e+08, 1.25836100e+08,\n",
       "       8.22313033e+07, 8.79376909e+07, 1.28634554e+08, 1.55593410e+08,\n",
       "       1.02147651e+08, 1.30765326e+08, 1.31735906e+08, 6.73922545e+07,\n",
       "       1.23749121e+08, 1.10158367e+08, 1.02586665e+08, 1.11847473e+08,\n",
       "       1.01612474e+08, 1.07003440e+08, 9.35585625e+07, 7.91599408e+07,\n",
       "       1.01688533e+08, 1.37269526e+08, 1.15479069e+08, 1.03385956e+08,\n",
       "       9.27978866e+07, 1.04977065e+08, 9.19238779e+07, 7.91897601e+07,\n",
       "       9.00560660e+07, 1.24823123e+08, 8.97816654e+07, 6.20479383e+07,\n",
       "       9.42441229e+07, 1.31521283e+08, 9.39847678e+07, 9.77489841e+07,\n",
       "       9.33930092e+07, 7.69491849e+07, 9.01668058e+07, 1.08078773e+08,\n",
       "       1.85328129e+08, 1.13468546e+08, 8.36671814e+07, 9.39242994e+07,\n",
       "       7.61165348e+07, 7.86826813e+07, 8.71387491e+07, 1.08279614e+08,\n",
       "       1.15272979e+08, 1.17482102e+08, 6.79041289e+07, 1.16563638e+08,\n",
       "       6.11548568e+07, 1.08479732e+08, 9.14219355e+07, 8.18364708e+07,\n",
       "       7.23368538e+07, 8.16230786e+07, 9.92111471e+07, 1.12516997e+08,\n",
       "       1.03530791e+08, 6.73765519e+07, 8.27419260e+07, 1.14618765e+08,\n",
       "       7.77640342e+07, 1.05059880e+08, 7.41461527e+07, 1.03883810e+08,\n",
       "       8.34776754e+07, 1.17859375e+08, 1.38615118e+08, 1.16760075e+08,\n",
       "       5.75843145e+07, 6.81754157e+07, 8.62308529e+07, 9.27912691e+07,\n",
       "       9.25013978e+07, 7.99098088e+07, 1.45101892e+08, 6.69916443e+07,\n",
       "       9.60223023e+07, 1.05798250e+08, 1.16206379e+08, 1.18619297e+08,\n",
       "       1.02255403e+08, 8.31796751e+07, 7.16011463e+07, 1.10826634e+08,\n",
       "       1.03323812e+08, 9.66147048e+07, 9.96141634e+07, 6.69398536e+07,\n",
       "       1.25718971e+08, 1.04157218e+08, 1.27982830e+08, 6.70835590e+07,\n",
       "       7.95580378e+07, 8.11767173e+07, 8.28648390e+07, 8.49677357e+07,\n",
       "       1.04676471e+08, 7.65406339e+07, 6.47966570e+07, 1.03293093e+08,\n",
       "       1.14929452e+08, 1.11634341e+08, 9.61086399e+07, 9.81358025e+07,\n",
       "       8.49939603e+07, 9.81084400e+07, 9.90064062e+07, 8.58692064e+07,\n",
       "       1.36713600e+08, 8.95528752e+07, 7.16850451e+07, 9.16236712e+07,\n",
       "       1.09557858e+08, 8.82712070e+07, 1.05653890e+08, 1.21023986e+08,\n",
       "       5.48265680e+07, 8.33327442e+07, 1.00035922e+08, 8.12791657e+07,\n",
       "       9.60716345e+07, 1.03029052e+08, 9.60466671e+07, 1.16775741e+08,\n",
       "       1.19856348e+08, 8.06960710e+07, 1.12800829e+08, 1.02960604e+08,\n",
       "       9.60810416e+07, 7.46611735e+07, 9.01095179e+07, 6.81326142e+07,\n",
       "       1.01348469e+08, 1.61623541e+08, 9.24486950e+07, 1.14443046e+08,\n",
       "       1.04438319e+08, 7.63896232e+07, 1.08217334e+08, 1.42349953e+08,\n",
       "       9.66205936e+07, 8.48314475e+07, 7.64150242e+07, 7.65392669e+07,\n",
       "       7.34425711e+07, 9.95255085e+07, 1.02732980e+08, 1.04956595e+08,\n",
       "       1.29040191e+08, 1.39376404e+08, 6.04772048e+07, 6.63772483e+07,\n",
       "       1.01573252e+08, 8.91556336e+07, 8.90135174e+07, 7.27269470e+07,\n",
       "       1.16476756e+08, 9.51006066e+07, 8.22175269e+07, 1.19567016e+08,\n",
       "       1.35053947e+08, 8.81602079e+07, 8.81291857e+07, 9.41598974e+07,\n",
       "       9.75961252e+07, 1.03860647e+08, 9.02237800e+07, 9.54241867e+07,\n",
       "       8.47258888e+07, 1.07785155e+08, 1.30563534e+08, 7.39046883e+07,\n",
       "       6.90867534e+07, 9.22405295e+07, 9.36527028e+07, 1.04988566e+08,\n",
       "       1.02741009e+08, 1.15284526e+08, 1.03346297e+08, 8.73853199e+07,\n",
       "       7.13282821e+07, 1.17649762e+08, 1.04329378e+08, 7.91916406e+07,\n",
       "       1.19560469e+08, 1.11414457e+08, 8.21003874e+07, 7.26314492e+07,\n",
       "       1.13375058e+08, 9.81837111e+07, 6.67082778e+07, 1.00021826e+08,\n",
       "       1.24659342e+08, 1.07989943e+08, 6.54389472e+07, 1.43236975e+08,\n",
       "       5.72363218e+07, 1.21900706e+08, 7.58356760e+07, 8.73798587e+07,\n",
       "       1.01499051e+08, 1.20454550e+08, 1.18777359e+08, 8.47255988e+07,\n",
       "       1.05822819e+08, 1.04978307e+08, 8.93980948e+07, 1.08280954e+08,\n",
       "       1.02573898e+08, 1.17327652e+08, 7.72407770e+07, 1.13619677e+08,\n",
       "       9.54805288e+07, 1.30476390e+08, 9.19655597e+07, 8.55135965e+07,\n",
       "       8.19876034e+07, 1.16976920e+08, 1.18002184e+08, 9.28601312e+07,\n",
       "       9.65620401e+07, 8.61882834e+07, 8.28887228e+07, 8.82541478e+07,\n",
       "       1.01295508e+08, 9.98873222e+07, 1.14109247e+08, 1.05172175e+08,\n",
       "       7.92891145e+07, 8.87087019e+07, 9.69401495e+07, 7.68333281e+07,\n",
       "       8.45337858e+07, 8.51147840e+07, 1.22080504e+08, 1.09047061e+08,\n",
       "       1.23044720e+08, 7.99636457e+07, 1.03129717e+08, 8.19748276e+07,\n",
       "       9.41807979e+07, 8.22545060e+07, 8.78839058e+07, 9.40959017e+07,\n",
       "       7.19975301e+07, 9.27913730e+07, 1.04915931e+08, 1.09752463e+08,\n",
       "       8.09797481e+07, 9.83031417e+07, 6.73257297e+07, 6.82114057e+07,\n",
       "       1.09671700e+08, 9.25711570e+07, 6.92037224e+07, 1.22413906e+08,\n",
       "       8.04247980e+07, 1.14979532e+08, 6.64827370e+07, 8.61745876e+07,\n",
       "       6.71331387e+07, 8.66811174e+07, 9.92410223e+07, 9.60286695e+07,\n",
       "       6.50507572e+07, 9.09794186e+07, 8.99987649e+07, 9.65504549e+07,\n",
       "       8.77350032e+07, 9.26935731e+07, 9.35586446e+07, 7.03802427e+07,\n",
       "       8.52420881e+07, 7.72788653e+07, 1.84894772e+08, 1.01022349e+08,\n",
       "       7.36640102e+07, 9.61057929e+07, 1.29318833e+08, 7.19518814e+07,\n",
       "       7.49541566e+07, 1.07103667e+08, 8.29044252e+07, 9.84424506e+07,\n",
       "       8.88998636e+07, 8.82375758e+07, 8.35009353e+07, 7.52359667e+07,\n",
       "       9.37343739e+07, 1.23106723e+08, 1.47576726e+08, 1.05534951e+08,\n",
       "       7.27117497e+07, 1.06794872e+08, 9.24896396e+07, 1.06426684e+08,\n",
       "       6.89654258e+07, 1.02762203e+08, 9.61596543e+07, 1.16299180e+08,\n",
       "       1.39077302e+08, 1.14733166e+08, 9.15243013e+07, 1.32692842e+08,\n",
       "       1.11659597e+08, 1.07494287e+08, 8.81859392e+07, 9.32359832e+07,\n",
       "       8.28366366e+07, 1.19307494e+08, 7.38949425e+07, 1.11563231e+08,\n",
       "       9.71059191e+07, 1.00160038e+08, 8.60769189e+07, 8.97250009e+07,\n",
       "       6.97809121e+07, 1.36460551e+08, 8.88710512e+07, 8.60115790e+07,\n",
       "       1.08912775e+08, 8.31425272e+07, 1.17493637e+08, 1.04447561e+08,\n",
       "       8.22133450e+07, 8.69354813e+07, 6.48905359e+07, 9.78853047e+07,\n",
       "       1.09857659e+08, 7.09530665e+07, 7.55659126e+07, 1.12260269e+08,\n",
       "       1.05942685e+08, 9.11276962e+07, 1.13780977e+08, 9.72855751e+07,\n",
       "       1.01898145e+08, 9.94164531e+07, 6.52470239e+07, 7.46531690e+07,\n",
       "       8.90530634e+07, 9.49214737e+07, 7.08030495e+07, 9.15945675e+07,\n",
       "       7.77151214e+07, 1.25024031e+08, 1.01698682e+08, 7.57993396e+07,\n",
       "       8.08634394e+07, 1.19829363e+08, 8.43394689e+07, 1.16978745e+08,\n",
       "       1.15300874e+08, 1.15328219e+08, 7.83347962e+07, 9.18496740e+07])"
      ]
     },
     "execution_count": 12,
     "metadata": {},
     "output_type": "execute_result"
    }
   ],
   "source": [
    "random_variance_vals"
   ]
  },
  {
   "cell_type": "markdown",
   "metadata": {},
   "source": [
    "# Part 3\n",
    "#### Estimate the sample mean variance"
   ]
  },
  {
   "cell_type": "code",
   "execution_count": 35,
   "metadata": {},
   "outputs": [
    {
     "data": {
      "text/plain": [
       "97524153.5"
      ]
     },
     "execution_count": 35,
     "metadata": {},
     "output_type": "execute_result"
    }
   ],
   "source": [
    "np.round(np.mean(random_variance_vals), 1)"
   ]
  },
  {
   "cell_type": "markdown",
   "metadata": {},
   "source": [
    "#### Compute Error Between Global and Sample Variance"
   ]
  },
  {
   "cell_type": "code",
   "execution_count": 14,
   "metadata": {},
   "outputs": [
    {
     "name": "stdout",
     "output_type": "stream",
     "text": [
      "2.0 % error\n"
     ]
    }
   ],
   "source": [
    "var_err = 100 * abs(VARIANCE - np.mean(random_variance_vals)) / VARIANCE\n",
    "print(f'{np.round(var_err, 2)} % error')"
   ]
  },
  {
   "cell_type": "markdown",
   "metadata": {},
   "source": [
    "# Part 4\n",
    "#### Compare Interval Estimate of the Sample Mean"
   ]
  },
  {
   "cell_type": "markdown",
   "metadata": {},
   "source": [
    "#### method 1, plot results using estimated value of the sample mean variance\n",
    "#### The below figure plots both normal distributions as a comparison between the exact and estimated data"
   ]
  },
  {
   "cell_type": "code",
   "execution_count": 22,
   "metadata": {},
   "outputs": [
    {
     "data": {
      "image/png": "[encoded data removed]",
      "text/plain": [
       "<Figure size 640x480 with 1 Axes>"
      ]
     },
     "metadata": {},
     "output_type": "display_data"
    }
   ],
   "source": [
    "# plot a distribution of estimated values of the mean and variance\n",
    "\n",
    "sigma = np.sqrt(np.mean(random_variance_vals))\n",
    "mu = np.mean(random_mean_vals)\n",
    "\n",
    "x = np.linspace(mu - 3 * sigma, mu + 3 * sigma, 100)\n",
    "plt.plot(x, stats.norm.pdf(x, mu, sigma))\n",
    "\n",
    "\n",
    "# plot a distribution of the real values of the mean and variance\n",
    "\n",
    "y = np.linspace(MEAN - 3 * np.sqrt(VARIANCE), MEAN + 3 * np.sqrt(VARIANCE), 100)\n",
    "plt.plot(y, stats.norm.pdf(y, MEAN, np.sqrt(VARIANCE)), '--')\n",
    "\n",
    "\n",
    "plt.legend(['estimate', 'real'])\n",
    "plt.title('PDF Based on Real vs Estimated Mean and Variance')\n",
    "plt.xlabel('Calculated Row Sum')\n",
    "plt.show()"
   ]
  },
  {
   "cell_type": "markdown",
   "metadata": {},
   "source": [
    "#### both graphs line up nicely, low error"
   ]
  },
  {
   "cell_type": "markdown",
   "metadata": {},
   "source": [
    "#### method 2, graph a histogram of estimated sample mean values"
   ]
  },
  {
   "cell_type": "code",
   "execution_count": 16,
   "metadata": {},
   "outputs": [
    {
     "data": {
      "image/png": "[encoded data removed]",
      "text/plain": [
       "<Figure size 640x480 with 1 Axes>"
      ]
     },
     "metadata": {},
     "output_type": "display_data"
    }
   ],
   "source": [
    "plt.hist(random_mean_vals, bins=50)\n",
    "plt.title('Raw Data of Average Row Sums')\n",
    "plt.show()"
   ]
  },
  {
   "cell_type": "markdown",
   "metadata": {},
   "source": [
    "#### we can observe the histogram compared to the plot of the estimated data by scaling the graphs"
   ]
  },
  {
   "cell_type": "code",
   "execution_count": 40,
   "metadata": {},
   "outputs": [
    {
     "data": {
      "image/png": "[encoded data removed]",
      "text/plain": [
       "<Figure size 640x480 with 1 Axes>"
      ]
     },
     "metadata": {},
     "output_type": "display_data"
    }
   ],
   "source": [
    "plt.hist(random_mean_vals, bins=50)\n",
    "plt.plot(y, 15e5*stats.norm.pdf(y, MEAN, np.sqrt(VARIANCE)))\n",
    "\n",
    "# mark +/- 1 stdev away from mean\n",
    "plt.vlines([MEAN-np.sqrt(VARIANCE), MEAN+np.sqrt(VARIANCE)], ymin=0, ymax=36)\n",
    "\n",
    "# mark +/- 1/2 stdev away from mean\n",
    "plt.vlines([MEAN-np.sqrt(VARIANCE)/2, MEAN+np.sqrt(VARIANCE)/2], ymin=0, ymax=53, colors='green')\n",
    "\n",
    "plt.title('Vertically Scaled PDF vs Raw Histogram')\n",
    "plt.legend(['PDF', '1 stdev', '1/2 stdev', 'hist'])\n",
    "plt.show()"
   ]
  },
  {
   "cell_type": "markdown",
   "metadata": {},
   "source": [
    "#### Find where the extremes of the histogram fall on the plot"
   ]
  },
  {
   "cell_type": "code",
   "execution_count": 18,
   "metadata": {},
   "outputs": [
    {
     "name": "stdout",
     "output_type": "stream",
     "text": [
      "histogram min = 29978.0,\t-0.47\tstdev's away from the mean\n",
      "histogram max = 39551.0,\t0.49\tstdev's away from the mean\n"
     ]
    }
   ],
   "source": [
    "hist_min = np.min(random_mean_vals)\n",
    "hist_max = np.max(random_mean_vals)\n",
    "\n",
    "print(f'histogram min = {np.round(hist_min)},\\t{np.round((hist_min - MEAN) / np.sqrt(VARIANCE), 2)}\\tstdev\\'s away from the mean')\n",
    "print(f'histogram max = {np.round(hist_max)},\\t{np.round((hist_max - MEAN) / np.sqrt(VARIANCE), 2)}\\tstdev\\'s away from the mean')"
   ]
  },
  {
   "cell_type": "markdown",
   "metadata": {},
   "source": [
    "# Part 5\n",
    "#### Analysis of Results\n",
    "#### On average, the extremes of the histogram fall within +/- 0.5 standard deviations from the true mean value of the distribution, therefore we can conclude our estimate of the mean and variance is accurate"
   ]
  }
 ],
 "metadata": {
  "kernelspec": {
   "display_name": ".venv",
   "language": "python",
   "name": "python3"
  },
  "language_info": {
   "codemirror_mode": {
    "name": "ipython",
    "version": 3
   },
   "file_extension": ".py",
   "mimetype": "text/x-python",
   "name": "python",
   "nbconvert_exporter": "python",
   "pygments_lexer": "ipython3",
   "version": "3.12.3"
  }
 },
 "nbformat": 4,
 "nbformat_minor": 2
}
